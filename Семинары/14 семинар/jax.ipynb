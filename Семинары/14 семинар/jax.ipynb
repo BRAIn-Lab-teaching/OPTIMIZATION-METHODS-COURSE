{
 "cells": [
  {
   "cell_type": "markdown",
   "metadata": {},
   "source": [
    "# Autodiff. Jax"
   ]
  },
  {
   "cell_type": "code",
   "execution_count": 48,
   "metadata": {},
   "outputs": [],
   "source": [
    "#!pip install --upgrade \"jax[cpu]\""
   ]
  },
  {
   "cell_type": "code",
   "execution_count": 2,
   "metadata": {},
   "outputs": [],
   "source": [
    "import time\n",
    "import numpy as np"
   ]
  },
  {
   "cell_type": "code",
   "execution_count": 3,
   "metadata": {},
   "outputs": [],
   "source": [
    "import matplotlib\n",
    "import matplotlib.pyplot as plt"
   ]
  },
  {
   "cell_type": "code",
   "execution_count": 4,
   "metadata": {},
   "outputs": [],
   "source": [
    "matplotlib.use('Agg')\n",
    "params = {'legend.fontsize': 20,\n",
    "          'legend.handlelength': 4,\n",
    "          \"axes.labelsize\": 45,\n",
    "          \"xtick.labelsize\": 25,\n",
    "          \"ytick.labelsize\": 25,\n",
    "          \"lines.linewidth\": 4,\n",
    "           \"axes.titlesize\":30}\n",
    "matplotlib.rcParams.update(params)"
   ]
  },
  {
   "cell_type": "code",
   "execution_count": 49,
   "metadata": {},
   "outputs": [],
   "source": [
    "import jax\n",
    "import jax.numpy as jnp\n",
    "from jax.config import config\n",
    "config.update(\"jax_enable_x64\", True)"
   ]
  },
  {
   "cell_type": "markdown",
   "metadata": {},
   "source": [
    "### Calculations Acceleration"
   ]
  },
  {
   "cell_type": "code",
   "execution_count": 50,
   "metadata": {},
   "outputs": [],
   "source": [
    "def get_data(n, m):\n",
    "    x = jax.random.normal(jax.random.PRNGKey(0), (n, ))\n",
    "    A = jax.random.normal(jax.random.PRNGKey(0), (m, n))\n",
    "    b = jax.random.normal(jax.random.PRNGKey(0), (m, ))\n",
    "    return x, A, b"
   ]
  },
  {
   "cell_type": "code",
   "execution_count": 51,
   "metadata": {},
   "outputs": [],
   "source": [
    "def f1(x, A, b):\n",
    "    '''\n",
    "    f(x) = ||Ax-b||^2\n",
    "    '''\n",
    "    res = A @ x - b\n",
    "    return res @ res"
   ]
  },
  {
   "cell_type": "code",
   "execution_count": 52,
   "metadata": {},
   "outputs": [],
   "source": [
    "@jax.jit\n",
    "def f(x, A, b):\n",
    "    '''\n",
    "    f(x) = ||Ax-b||^2\n",
    "    '''\n",
    "    res = A @ x - b\n",
    "    return res @ res"
   ]
  },
  {
   "cell_type": "code",
   "execution_count": 53,
   "metadata": {},
   "outputs": [
    {
     "name": "stderr",
     "output_type": "stream",
     "text": [
      "WARNING:absl:No GPU/TPU found, falling back to CPU. (Set TF_CPP_MIN_LOG_LEVEL=0 and rerun for more info.)\n"
     ]
    },
    {
     "name": "stdout",
     "output_type": "stream",
     "text": [
      "379 µs ± 35 µs per loop (mean ± std. dev. of 7 runs, 1000 loops each)\n",
      "321 µs ± 46.9 µs per loop (mean ± std. dev. of 7 runs, 1000 loops each)\n"
     ]
    }
   ],
   "source": [
    "x, A, b = get_data(1000, 1000)\n",
    "%timeit f1(x, A, b)\n",
    "%timeit f(x, A, b)"
   ]
  },
  {
   "cell_type": "markdown",
   "metadata": {},
   "source": [
    "### Gradient Calculation"
   ]
  },
  {
   "cell_type": "code",
   "execution_count": 54,
   "metadata": {},
   "outputs": [],
   "source": [
    "n = 1000\n",
    "x, A, b = get_data(n, n)"
   ]
  },
  {
   "cell_type": "code",
   "execution_count": 55,
   "metadata": {},
   "outputs": [],
   "source": [
    "gradf = jax.grad(f, argnums=0, has_aux=False)\n",
    "grad_analytic = lambda x, A, b: 2 * A.T @ (A @ x - b)"
   ]
  },
  {
   "cell_type": "code",
   "execution_count": 56,
   "metadata": {},
   "outputs": [
    {
     "name": "stdout",
     "output_type": "stream",
     "text": [
      "Check correctness 8.944556828777878e-11\n",
      "Compare speed\n",
      "Analytical gradient\n",
      "3.44 ms ± 100 µs per loop (mean ± std. dev. of 7 runs, 100 loops each)\n",
      "Grad function\n",
      "2.65 ms ± 71.4 µs per loop (mean ± std. dev. of 7 runs, 100 loops each)\n",
      "Jitted grad function\n",
      "621 µs ± 20.9 µs per loop (mean ± std. dev. of 7 runs, 1000 loops each)\n"
     ]
    }
   ],
   "source": [
    "print(\"Check correctness\", jnp.linalg.norm(gradf(x, A, b) - 2 * A.T @ (A @ x - b)))\n",
    "print(\"Compare speed\")\n",
    "print(\"Analytical gradient\")\n",
    "%timeit grad_analytic(x, A, b)\n",
    "print(\"Grad function\")\n",
    "%timeit gradf(x, A, b).block_until_ready()\n",
    "jit_gradf = jax.jit(gradf)\n",
    "print(\"Jitted grad function\")\n",
    "%timeit jit_gradf(x, A, b).block_until_ready()"
   ]
  },
  {
   "cell_type": "markdown",
   "metadata": {},
   "source": [
    "### Hessian Calculation"
   ]
  },
  {
   "cell_type": "code",
   "execution_count": 57,
   "metadata": {},
   "outputs": [],
   "source": [
    "hessian_analytic = lambda x, A, b: 2 * A.T @ A"
   ]
  },
  {
   "cell_type": "code",
   "execution_count": 59,
   "metadata": {
    "scrolled": false
   },
   "outputs": [
    {
     "name": "stdout",
     "output_type": "stream",
     "text": [
      "Check correctness 0.0\n",
      "Time for analytical hessian\n",
      "39 ms ± 367 µs per loop (mean ± std. dev. of 7 runs, 10 loops each)\n",
      "Time for hessian\n",
      "73.3 ms ± 452 µs per loop (mean ± std. dev. of 7 runs, 10 loops each)\n"
     ]
    }
   ],
   "source": [
    "hess_func = jax.jit(jax.hessian(f))\n",
    "\n",
    "print(\"Check correctness\", jnp.linalg.norm(2 * A.T @ A - hess_func(x, A, b)))\n",
    "\n",
    "print(\"Time for analytical hessian\")\n",
    "%timeit hessian_analytic(x, A, b)\n",
    "print(\"Time for hessian\")\n",
    "%timeit hess_func(x, A, b).block_until_ready()"
   ]
  },
  {
   "cell_type": "markdown",
   "metadata": {},
   "source": [
    "### Jacobian Calculation"
   ]
  },
  {
   "cell_type": "markdown",
   "metadata": {},
   "source": [
    "$$g(y) = \\frac{\\exp(y)}{\\sum\\limits_{i=1}^n \\exp(y_i)}$$\n",
    "\n",
    "$$f(x)= g(Ax+b)$$"
   ]
  },
  {
   "cell_type": "code",
   "execution_count": 60,
   "metadata": {},
   "outputs": [],
   "source": [
    "def fvec(x, A, b):\n",
    "    y = A @ x + b\n",
    "    ymax = jnp.max(y)\n",
    "    return jnp.exp(y-ymax) / jnp.sum(jnp.exp(y-ymax))"
   ]
  },
  {
   "cell_type": "code",
   "execution_count": 61,
   "metadata": {},
   "outputs": [
    {
     "data": {
      "text/plain": [
       "(DeviceArray([1.81260476e-06, 2.39969779e-04, 2.65840476e-01,\n",
       "              1.29657619e-05, 4.97500432e-03, 2.37480549e-05,\n",
       "              7.28303588e-01, 1.63550892e-04, 3.59291532e-04,\n",
       "              7.95932713e-05], dtype=float64), 1.0)"
      ]
     },
     "execution_count": 61,
     "metadata": {},
     "output_type": "execute_result"
    }
   ],
   "source": [
    "x, A, b = get_data(10, 10)\n",
    "value = fvec(x, A, b)\n",
    "value, sum(value)"
   ]
  },
  {
   "cell_type": "code",
   "execution_count": 62,
   "metadata": {},
   "outputs": [],
   "source": [
    "fmode_fvec = jax.jit(jax.jacfwd(fvec))\n",
    "bmode_fvec = jax.jit(jax.jacrev(fvec))"
   ]
  },
  {
   "cell_type": "markdown",
   "metadata": {},
   "source": [
    "#### 1. Case $m \\ll n$"
   ]
  },
  {
   "cell_type": "code",
   "execution_count": 63,
   "metadata": {},
   "outputs": [],
   "source": [
    "n = 1000"
   ]
  },
  {
   "cell_type": "code",
   "execution_count": 64,
   "metadata": {
    "scrolled": true
   },
   "outputs": [
    {
     "name": "stdout",
     "output_type": "stream",
     "text": [
      "Check correctness 1.572787519716566e-15\n",
      "Check shape (100, 1000) (100, 1000)\n",
      "Time forward mode\n",
      "4.73 ms ± 94.8 µs per loop (mean ± std. dev. of 7 runs, 100 loops each)\n",
      "Time backward mode\n",
      "500 µs ± 18.4 µs per loop (mean ± std. dev. of 7 runs, 1000 loops each)\n"
     ]
    }
   ],
   "source": [
    "x, A, b = get_data(n, n//10)\n",
    "print(\"Check correctness\", jnp.linalg.norm(fmode_fvec(x, A, b) - bmode_fvec(x, A, b)))\n",
    "print(\"Check shape\", fmode_fvec(x, A, b).shape, bmode_fvec(x, A, b).shape)\n",
    "print(\"Time forward mode\")\n",
    "%timeit fmode_fvec(x, A, b).block_until_ready()\n",
    "print(\"Time backward mode\")\n",
    "%timeit bmode_fvec(x, A, b).block_until_ready()"
   ]
  },
  {
   "cell_type": "markdown",
   "metadata": {},
   "source": [
    "#### 2. Case $m \\geq n$"
   ]
  },
  {
   "cell_type": "code",
   "execution_count": 65,
   "metadata": {},
   "outputs": [
    {
     "name": "stdout",
     "output_type": "stream",
     "text": [
      "Check correctness 7.940999414400821e-16\n",
      "Check shape (1000, 1000) (1000, 1000)\n",
      "Time forward mode\n",
      "45.3 ms ± 604 µs per loop (mean ± std. dev. of 7 runs, 10 loops each)\n",
      "Time backward mode\n",
      "40.1 ms ± 94.7 µs per loop (mean ± std. dev. of 7 runs, 10 loops each)\n"
     ]
    }
   ],
   "source": [
    "x, A, b = get_data(n, n)\n",
    "print(\"Check correctness\", jnp.linalg.norm(fmode_fvec(x, A, b) - bmode_fvec(x, A, b)))\n",
    "print(\"Check shape\", fmode_fvec(x, A, b).shape, bmode_fvec(x, A, b).shape)\n",
    "print(\"Time forward mode\")\n",
    "%timeit fmode_fvec(x, A, b).block_until_ready()\n",
    "print(\"Time backward mode\")\n",
    "%timeit bmode_fvec(x, A, b).block_until_ready()"
   ]
  },
  {
   "cell_type": "code",
   "execution_count": 66,
   "metadata": {
    "scrolled": true
   },
   "outputs": [
    {
     "name": "stdout",
     "output_type": "stream",
     "text": [
      "Check correctness 7.437998502450645e-21\n",
      "Check shape (10000, 1000) (10000, 1000)\n",
      "Time forward mode\n",
      "455 ms ± 7.27 ms per loop (mean ± std. dev. of 7 runs, 1 loop each)\n",
      "Time backward mode\n",
      "3.91 s ± 122 ms per loop (mean ± std. dev. of 7 runs, 1 loop each)\n"
     ]
    }
   ],
   "source": [
    "x, A, b = get_data(n, n*10)\n",
    "print(\"Check correctness\", jnp.linalg.norm(fmode_fvec(x, A, b) - bmode_fvec(x, A, b)))\n",
    "print(\"Check shape\", fmode_fvec(x, A, b).shape, bmode_fvec(x, A, b).shape)\n",
    "print(\"Time forward mode\")\n",
    "%timeit fmode_fvec(x, A, b).block_until_ready()\n",
    "print(\"Time backward mode\")\n",
    "%timeit bmode_fvec(x, A, b).block_until_ready()"
   ]
  },
  {
   "cell_type": "markdown",
   "metadata": {},
   "source": [
    "#### 3. Common Case"
   ]
  },
  {
   "cell_type": "code",
   "execution_count": 69,
   "metadata": {},
   "outputs": [],
   "source": [
    "n = 1000\n",
    "fmode_time = []\n",
    "bmode_time = []\n",
    "m_list = [10, 50, 100, 500, 1000, 2000, 5000, 10000]\n",
    "for m in m_list:\n",
    "    x, A, b = get_data(n, m)\n",
    "    t0 = time.time()\n",
    "    fmode_fvec(x, A, b).block_until_ready()\n",
    "    t1 = time.time()\n",
    "    bmode_fvec(x, A, b).block_until_ready()\n",
    "    t2 = time.time()\n",
    "    fmode_time.append(t1-t0)\n",
    "    bmode_time.append(t2-t1)"
   ]
  },
  {
   "cell_type": "code",
   "execution_count": 70,
   "metadata": {},
   "outputs": [
    {
     "data": {
      "image/png": "[encoded data removed]",
      "text/plain": [
       "<Figure size 1080x864 with 1 Axes>"
      ]
     },
     "metadata": {
      "needs_background": "light"
     },
     "output_type": "display_data"
    }
   ],
   "source": [
    "%matplotlib inline\n",
    "plt.figure(figsize=(15,12))\n",
    "mn_list = [m / n for m in m_list]\n",
    "plt.plot(mn_list, fmode_time, label=\"fmode\")\n",
    "plt.plot(mn_list, bmode_time, label=\"bmode\")\n",
    "plt.legend()\n",
    "plt.xscale(\"log\")\n",
    "plt.yscale(\"log\")\n",
    "plt.xlabel(r\"$\\frac{m}{n}$\")\n",
    "plt.ylabel(\"Time, s\")\n",
    "plt.grid()"
   ]
  },
  {
   "cell_type": "code",
   "execution_count": null,
   "metadata": {},
   "outputs": [],
   "source": []
  }
 ],
 "metadata": {
  "kernelspec": {
   "display_name": "Python 3",
   "language": "python",
   "name": "python3"
  },
  "language_info": {
   "codemirror_mode": {
    "name": "ipython",
    "version": 3
   },
   "file_extension": ".py",
   "mimetype": "text/x-python",
   "name": "python",
   "nbconvert_exporter": "python",
   "pygments_lexer": "ipython3",
   "version": "3.7.3"
  }
 },
 "nbformat": 4,
 "nbformat_minor": 2
}

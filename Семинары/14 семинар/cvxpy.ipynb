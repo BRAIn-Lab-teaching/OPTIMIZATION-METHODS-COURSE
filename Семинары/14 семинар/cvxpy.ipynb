{
 "cells": [
  {
   "cell_type": "markdown",
   "metadata": {},
   "source": [
    "# CvxPy"
   ]
  },
  {
   "cell_type": "code",
   "execution_count": 1,
   "metadata": {},
   "outputs": [],
   "source": [
    "#!pip install cvxpy"
   ]
  },
  {
   "cell_type": "code",
   "execution_count": 2,
   "metadata": {},
   "outputs": [],
   "source": [
    "import time\n",
    "import numpy as np\n",
    "import cvxpy as cvx"
   ]
  },
  {
   "cell_type": "code",
   "execution_count": 3,
   "metadata": {},
   "outputs": [],
   "source": [
    "import matplotlib\n",
    "import matplotlib.pyplot as plt"
   ]
  },
  {
   "cell_type": "code",
   "execution_count": 4,
   "metadata": {},
   "outputs": [],
   "source": [
    "matplotlib.use('Agg')\n",
    "params = {'legend.fontsize': 20,\n",
    "          'legend.handlelength': 4,\n",
    "          \"axes.labelsize\": 45,\n",
    "          \"xtick.labelsize\": 25,\n",
    "          \"ytick.labelsize\": 25,\n",
    "          \"lines.linewidth\": 4,\n",
    "           \"axes.titlesize\":30}\n",
    "matplotlib.rcParams.update(params)"
   ]
  },
  {
   "cell_type": "markdown",
   "metadata": {},
   "source": [
    "## 1. CVXPY\n",
    "\n",
    "CVXPY is a Python-embedded modeling language for convex optimization problems. It allows you to express your problem in a natural way that follows the math, rather than in the restrictive standard form required by solvers.\n",
    "\n",
    "Below there are examples of CVXPY usage."
   ]
  },
  {
   "cell_type": "markdown",
   "metadata": {},
   "source": [
    "### 1.1. Unconstrained QP\n",
    "\n",
    "$$\\min_{x \\in \\mathbb{R}^n} \\frac{1}{2}x^\\top A x + b^\\top x$$"
   ]
  },
  {
   "cell_type": "markdown",
   "metadata": {},
   "source": [
    "$$\\nabla f = Ax+b$$"
   ]
  },
  {
   "cell_type": "code",
   "execution_count": 5,
   "metadata": {},
   "outputs": [],
   "source": [
    "n = 100\n",
    "np.random.seed(41)\n",
    "A = np.random.randn(n, n)\n",
    "A = A.T @ A\n",
    "b = np.random.randn(n)"
   ]
  },
  {
   "cell_type": "code",
   "execution_count": 6,
   "metadata": {},
   "outputs": [],
   "source": [
    "# x is variable of diminsion n\n",
    "x = cvx.Variable(n)"
   ]
  },
  {
   "cell_type": "code",
   "execution_count": 7,
   "metadata": {},
   "outputs": [],
   "source": [
    "# Object function\n",
    "obj = 1/2 * x.T @ A @ x + b @ x\n",
    "obj = 1/2 * cvx.quad_form(x, A) + b @ x\n",
    "obj = cvx.Minimize(obj)"
   ]
  },
  {
   "cell_type": "code",
   "execution_count": 8,
   "metadata": {},
   "outputs": [
    {
     "name": "stdout",
     "output_type": "stream",
     "text": [
      "===============================================================================\n",
      "                                     CVXPY                                     \n",
      "                                     v1.2.0                                    \n",
      "===============================================================================\n",
      "(CVXPY) May 06 11:56:32 AM: Your problem has 100 variables, 0 constraints, and 0 parameters.\n",
      "(CVXPY) May 06 11:56:32 AM: It is compliant with the following grammars: DCP, DQCP\n",
      "(CVXPY) May 06 11:56:32 AM: (If you need to solve this problem multiple times, but with different data, consider using parameters.)\n",
      "(CVXPY) May 06 11:56:32 AM: CVXPY will first compile your problem; then, it will invoke a numerical solver to obtain a solution.\n",
      "-------------------------------------------------------------------------------\n",
      "                                  Compilation                                  \n",
      "-------------------------------------------------------------------------------\n",
      "(CVXPY) May 06 11:56:32 AM: Compiling problem (target solver=OSQP).\n",
      "(CVXPY) May 06 11:56:32 AM: Reduction chain: CvxAttr2Constr -> Qp2SymbolicQp -> QpMatrixStuffing -> OSQP\n",
      "(CVXPY) May 06 11:56:32 AM: Applying reduction CvxAttr2Constr\n",
      "(CVXPY) May 06 11:56:32 AM: Applying reduction Qp2SymbolicQp\n",
      "(CVXPY) May 06 11:56:32 AM: Applying reduction QpMatrixStuffing\n",
      "(CVXPY) May 06 11:56:32 AM: Applying reduction OSQP\n",
      "(CVXPY) May 06 11:56:32 AM: Finished problem compilation (took 1.074e-01 seconds).\n",
      "-------------------------------------------------------------------------------\n",
      "                                Numerical solver                               \n",
      "-------------------------------------------------------------------------------\n",
      "(CVXPY) May 06 11:56:33 AM: Invoking solver OSQP  to obtain a solution.\n",
      "-----------------------------------------------------------------\n",
      "           OSQP v0.6.0  -  Operator Splitting QP Solver\n",
      "              (c) Bartolomeo Stellato,  Goran Banjac\n",
      "        University of Oxford  -  Stanford University 2019\n",
      "-----------------------------------------------------------------\n",
      "problem:  variables n = 100, constraints m = 0\n",
      "          nnz(P) + nnz(A) = 5050\n",
      "settings: linear system solver = qdldl,\n",
      "          eps_abs = 1.0e-05, eps_rel = 1.0e-05,\n",
      "          eps_prim_inf = 1.0e-04, eps_dual_inf = 1.0e-04,\n",
      "          rho = 1.00e-01 (adaptive),\n",
      "          sigma = 1.00e-06, alpha = 1.60, max_iter = 10000\n",
      "          check_termination: on (interval 25),\n",
      "          scaling: on, scaled_termination: off\n",
      "          warm start: on, polish: on, time_limit: off\n",
      "\n",
      "iter   objective    pri res    dua res    rho        time\n",
      "   1  -1.0899e+01   0.00e+00   1.46e+00   1.00e-01   9.88e-04s\n",
      "  25  -1.6454e+01   0.00e+00   6.91e-06   1.00e-01   1.43e-03s\n",
      "plsh  -1.6454e+01   0.00e+00   9.82e-07   --------   4.86e-03s\n",
      "\n",
      "status:               solved\n",
      "solution polish:      successful\n",
      "number of iterations: 25\n",
      "optimal objective:    -16.4535\n",
      "run time:             4.86e-03s\n",
      "optimal rho estimate: 1.00e-06\n",
      "\n",
      "-------------------------------------------------------------------------------\n",
      "                                    Summary                                    \n",
      "-------------------------------------------------------------------------------\n",
      "(CVXPY) May 06 11:56:33 AM: Problem status: optimal\n",
      "(CVXPY) May 06 11:56:33 AM: Optimal value: -1.645e+01\n",
      "(CVXPY) May 06 11:56:33 AM: Compilation took 1.074e-01 seconds\n",
      "(CVXPY) May 06 11:56:33 AM: Solver (including time spent in interface) took 8.198e-03 seconds\n"
     ]
    },
    {
     "data": {
      "text/plain": [
       "-16.453510003152072"
      ]
     },
     "execution_count": 8,
     "metadata": {},
     "output_type": "execute_result"
    }
   ],
   "source": [
    "# Problem\n",
    "problem = cvx.Problem(obj)\n",
    "problem.solve(verbose=True)"
   ]
  },
  {
   "cell_type": "code",
   "execution_count": 9,
   "metadata": {},
   "outputs": [
    {
     "data": {
      "text/plain": [
       "Variable((100,))"
      ]
     },
     "execution_count": 9,
     "metadata": {},
     "output_type": "execute_result"
    }
   ],
   "source": [
    "x"
   ]
  },
  {
   "cell_type": "code",
   "execution_count": 10,
   "metadata": {},
   "outputs": [
    {
     "data": {
      "text/plain": [
       "3.514953722626272e-06"
      ]
     },
     "execution_count": 10,
     "metadata": {},
     "output_type": "execute_result"
    }
   ],
   "source": [
    "np.linalg.norm(A @ x.value + b)"
   ]
  },
  {
   "cell_type": "markdown",
   "metadata": {},
   "source": [
    "### 1.2. QCQP\n",
    "\n",
    "$$\\min_{x \\in \\mathbb{R}^n} \\frac{1}{2}x^\\top A x + b^\\top x$$\n",
    "\n",
    "$$\\text{s.t. } \\frac{1}{2}x^\\top A_i x + b_i^\\top x+c_i \\leq 0, i=\\overline{1,m}$$\n",
    "\n",
    "$$Gx=h$$\n",
    "\n",
    "where $G\\in\\mathbb{R}^{d\\times n}$"
   ]
  },
  {
   "cell_type": "code",
   "execution_count": 11,
   "metadata": {},
   "outputs": [],
   "source": [
    "np.random.seed(1)\n",
    "n = 100\n",
    "m = 1\n",
    "d = 5\n",
    "A = np.random.randn(n, n)\n",
    "A = A.T @ A\n",
    "b = np.random.randn(n)\n",
    "\n",
    "G = np.random.randn(d, n)\n",
    "h = np.random.randn(d)\n",
    "\n",
    "A_list = [np.random.randn(n, n) for _ in range(m)]\n",
    "A_list = [Ai.T @ Ai for Ai in A_list]\n",
    "b_list = [np.random.randn(n) for _ in range(m)]\n",
    "c_list = [np.random.randn() for _ in range(m)]"
   ]
  },
  {
   "cell_type": "code",
   "execution_count": 12,
   "metadata": {},
   "outputs": [],
   "source": [
    "x = cvx.Variable(n)\n",
    "obj = 1/2 * cvx.quad_form(x, A) + b @ x\n",
    "obj = cvx.Minimize(obj)"
   ]
  },
  {
   "cell_type": "code",
   "execution_count": 13,
   "metadata": {},
   "outputs": [],
   "source": [
    "constrains_lin = [G @ x==h]\n",
    "constraints_quad = [1/2 * cvx.quad_form(x, A_) + b_ @ x + c_<=0 for A_, b_, c_ in zip(A_list, b_list, c_list)]"
   ]
  },
  {
   "cell_type": "code",
   "execution_count": 14,
   "metadata": {
    "scrolled": false
   },
   "outputs": [
    {
     "name": "stdout",
     "output_type": "stream",
     "text": [
      "===============================================================================\n",
      "                                     CVXPY                                     \n",
      "                                     v1.2.0                                    \n",
      "===============================================================================\n",
      "(CVXPY) May 06 11:56:33 AM: Your problem has 100 variables, 2 constraints, and 0 parameters.\n",
      "(CVXPY) May 06 11:56:33 AM: It is compliant with the following grammars: DCP, DQCP\n",
      "(CVXPY) May 06 11:56:33 AM: (If you need to solve this problem multiple times, but with different data, consider using parameters.)\n",
      "(CVXPY) May 06 11:56:33 AM: CVXPY will first compile your problem; then, it will invoke a numerical solver to obtain a solution.\n",
      "-------------------------------------------------------------------------------\n",
      "                                  Compilation                                  \n",
      "-------------------------------------------------------------------------------\n",
      "(CVXPY) May 06 11:56:33 AM: Compiling problem (target solver=SCS).\n",
      "(CVXPY) May 06 11:56:33 AM: Reduction chain: Dcp2Cone -> CvxAttr2Constr -> ConeMatrixStuffing -> SCS\n",
      "(CVXPY) May 06 11:56:33 AM: Applying reduction Dcp2Cone\n",
      "(CVXPY) May 06 11:56:33 AM: Applying reduction CvxAttr2Constr\n",
      "(CVXPY) May 06 11:56:33 AM: Applying reduction ConeMatrixStuffing\n",
      "(CVXPY) May 06 11:56:33 AM: Applying reduction SCS\n",
      "(CVXPY) May 06 11:56:33 AM: Finished problem compilation (took 1.242e-01 seconds).\n",
      "-------------------------------------------------------------------------------\n",
      "                                Numerical solver                               \n",
      "-------------------------------------------------------------------------------\n",
      "(CVXPY) May 06 11:56:33 AM: Invoking solver SCS  to obtain a solution.\n",
      "----------------------------------------------------------------------------\n",
      "\tSCS v2.1.2 - Splitting Conic Solver\n",
      "\t(c) Brendan O'Donoghue, Stanford University, 2012\n",
      "----------------------------------------------------------------------------\n",
      "Lin-sys: sparse-direct, nnz in A = 20605\n",
      "eps = 1.00e-04, alpha = 1.50, max_iters = 5000, normalize = 1, scale = 1.00\n",
      "acceleration_lookback = 10, rho_x = 1.00e-03\n",
      "Variables n = 102, constraints m = 210\n",
      "Cones:\tprimal zero / dual free vars: 5\n",
      "\tlinear vars: 1\n",
      "\tsoc vars: 204, soc blks: 2\n",
      "Setup time: 2.21e-02s\n",
      "----------------------------------------------------------------------------\n",
      " Iter | pri res | dua res | rel gap | pri obj | dua obj | kap/tau | time (s)\n",
      "----------------------------------------------------------------------------\n",
      "     0| 6.80e+18  1.42e+19  1.00e+00 -8.14e+20  3.57e+19  6.92e+21  1.64e-02 \n",
      "    60| 6.05e-07  8.24e-08  4.08e-08  1.31e+01  1.31e+01  1.50e-15  2.98e-01 \n",
      "----------------------------------------------------------------------------\n",
      "Status: Solved\n",
      "Timing: Solve time: 2.98e-01s\n",
      "\tLin-sys: nnz in L factor: 25967, avg solve time: 1.21e-04s\n",
      "\tCones: avg projection time: 7.91e-07s\n",
      "\tAcceleration: avg step time: 4.48e-03s\n",
      "----------------------------------------------------------------------------\n",
      "Error metrics:\n",
      "dist(s, K) = 2.5964e-13, dist(y, K*) = 0.0000e+00, s'y/|s||y| = -7.7687e-16\n",
      "primal res: |Ax + s - b|_2 / (1 + |b|_2) = 6.0529e-07\n",
      "dual res:   |A'y + c|_2 / (1 + |c|_2) = 8.2385e-08\n",
      "rel gap:    |c'x + b'y| / (1 + |c'x| + |b'y|) = 4.0777e-08\n",
      "----------------------------------------------------------------------------\n",
      "c'x = 13.1242, -b'y = 13.1242\n",
      "============================================================================\n",
      "-------------------------------------------------------------------------------\n",
      "                                    Summary                                    \n",
      "-------------------------------------------------------------------------------\n",
      "(CVXPY) May 06 11:56:34 AM: Problem status: optimal\n",
      "(CVXPY) May 06 11:56:34 AM: Optimal value: 1.312e+01\n",
      "(CVXPY) May 06 11:56:34 AM: Compilation took 1.242e-01 seconds\n",
      "(CVXPY) May 06 11:56:34 AM: Solver (including time spent in interface) took 3.353e-01 seconds\n"
     ]
    }
   ],
   "source": [
    "# Problem\n",
    "constraints = constrains_lin + constraints_quad\n",
    "problem = cvx.Problem(obj, constraints)\n",
    "result = problem.solve(verbose=True, solver=\"SCS\")"
   ]
  },
  {
   "cell_type": "code",
   "execution_count": 15,
   "metadata": {},
   "outputs": [],
   "source": [
    "x = x.value\n"
   ]
  },
  {
   "cell_type": "code",
   "execution_count": 16,
   "metadata": {},
   "outputs": [
    {
     "data": {
      "text/plain": [
       "(100,)"
      ]
     },
     "execution_count": 16,
     "metadata": {},
     "output_type": "execute_result"
    }
   ],
   "source": [
    "x.shape"
   ]
  },
  {
   "cell_type": "code",
   "execution_count": 17,
   "metadata": {},
   "outputs": [
    {
     "data": {
      "text/plain": [
       "1.8564515746888333e-07"
      ]
     },
     "execution_count": 17,
     "metadata": {},
     "output_type": "execute_result"
    }
   ],
   "source": [
    "1/2 * x.T @ A_list[0] @ x + b_list[0].T @ x + c_list[0]"
   ]
  },
  {
   "cell_type": "code",
   "execution_count": 18,
   "metadata": {},
   "outputs": [
    {
     "data": {
      "text/plain": [
       "5.716586092504652e-07"
      ]
     },
     "execution_count": 18,
     "metadata": {},
     "output_type": "execute_result"
    }
   ],
   "source": [
    "np.linalg.norm(G @ x - h)"
   ]
  },
  {
   "cell_type": "markdown",
   "metadata": {},
   "source": [
    "### 1.3. Log-Det minimization\n",
    "\n",
    "Рассмотрим эллипсоид заданный при помощи матрицы $X\\in\\mathbb{S}^n_++$, как $E=\\left\\{a\\in\\mathbb{R}^n \\Big| \\|Xa + b\\|\\leq  1\\right\\}$. Эквивалентно, его можно определить, как прообраз шара под действием отображения, задаваемого матрицей $X$: $E=\\left\\{a\\Big| Xa\\in B_1(0)\\right\\}$. В таком случае мы можем вычислить его объем:\n",
    "\n",
    "$$V_E = \\iiint_{x \\in E} dx = \\iiint_{x| Xx\\in B_1(0)} dx= \\iiint_{y \\in B_1(0)} \\det\\frac{\\partial X^{-1} y}{\\partial y} dy=\\det (X^{-1}) V_{B_1(0)}$$\n",
    "\n",
    "Теперь рассмотрим задачу построения минимального по объему эллипсоида, такого что точки $\\{a_i\\}_{i=1}^m$ лежат в нем, т.е. $\\|Xa_i\\|\\leq 1$. Минимизация объема $V_E$ эквивалентна минимизации $\\log V_E = \\log \\det (X^{-1}) + \\log V_{B_1(0)}=-\\log\\det X + c$. Тогда опуская аддитивную константу, получаем задачу минимизации:\n",
    "\n",
    "$$\\min_{X\\in\\mathbb{S}^n_++} -\\log\\det X$$\n",
    "\n",
    "$$\\text{s.t. } \\|X a_i+b\\|\\leq 1, i=\\overline{1,m}$$"
   ]
  },
  {
   "cell_type": "code",
   "execution_count": 19,
   "metadata": {},
   "outputs": [],
   "source": [
    "np.random.seed(1)\n",
    "n = 2\n",
    "m = 100\n",
    "A = np.random.randn(m, n)"
   ]
  },
  {
   "cell_type": "code",
   "execution_count": 20,
   "metadata": {},
   "outputs": [
    {
     "data": {
      "text/plain": [
       "<matplotlib.collections.PathCollection at 0x7fb8619c8d30>"
      ]
     },
     "execution_count": 20,
     "metadata": {},
     "output_type": "execute_result"
    },
    {
     "data": {
      "image/png": "[encoded data removed]",
      "text/plain": [
       "<Figure size 720x504 with 1 Axes>"
      ]
     },
     "metadata": {
      "needs_background": "light"
     },
     "output_type": "display_data"
    }
   ],
   "source": [
    "%matplotlib inline\n",
    "plt.figure(figsize=(10, 7))\n",
    "plt.scatter(A[:, 0], A[:, 1], s=90)"
   ]
  },
  {
   "cell_type": "code",
   "execution_count": 21,
   "metadata": {},
   "outputs": [],
   "source": [
    "X = cvx.Variable((n, n))\n",
    "b = cvx.Variable(n)"
   ]
  },
  {
   "cell_type": "code",
   "execution_count": 22,
   "metadata": {},
   "outputs": [
    {
     "name": "stdout",
     "output_type": "stream",
     "text": [
      "===============================================================================\n",
      "                                     CVXPY                                     \n",
      "                                     v1.2.0                                    \n",
      "===============================================================================\n",
      "(CVXPY) May 06 11:56:35 AM: Your problem has 6 variables, 100 constraints, and 0 parameters.\n",
      "(CVXPY) May 06 11:56:35 AM: It is compliant with the following grammars: DCP, DQCP\n",
      "(CVXPY) May 06 11:56:35 AM: (If you need to solve this problem multiple times, but with different data, consider using parameters.)\n",
      "(CVXPY) May 06 11:56:35 AM: CVXPY will first compile your problem; then, it will invoke a numerical solver to obtain a solution.\n",
      "-------------------------------------------------------------------------------\n",
      "                                  Compilation                                  \n",
      "-------------------------------------------------------------------------------\n",
      "(CVXPY) May 06 11:56:35 AM: Compiling problem (target solver=SCS).\n",
      "(CVXPY) May 06 11:56:35 AM: Reduction chain: Dcp2Cone -> CvxAttr2Constr -> ConeMatrixStuffing -> SCS\n",
      "(CVXPY) May 06 11:56:35 AM: Applying reduction Dcp2Cone\n",
      "(CVXPY) May 06 11:56:35 AM: Applying reduction CvxAttr2Constr\n",
      "(CVXPY) May 06 11:56:35 AM: Applying reduction ConeMatrixStuffing\n",
      "(CVXPY) May 06 11:56:35 AM: Applying reduction SCS\n",
      "(CVXPY) May 06 11:56:36 AM: Finished problem compilation (took 2.194e-01 seconds).\n",
      "-------------------------------------------------------------------------------\n",
      "                                Numerical solver                               \n",
      "-------------------------------------------------------------------------------\n",
      "(CVXPY) May 06 11:56:36 AM: Invoking solver SCS  to obtain a solution.\n",
      "----------------------------------------------------------------------------\n",
      "\tSCS v2.1.2 - Splitting Conic Solver\n",
      "\t(c) Brendan O'Donoghue, Stanford University, 2012\n",
      "----------------------------------------------------------------------------\n",
      "Lin-sys: sparse-direct, nnz in A = 813\n",
      "eps = 1.00e-04, alpha = 1.50, max_iters = 5000, normalize = 1, scale = 1.00\n",
      "acceleration_lookback = 10, rho_x = 1.00e-03\n",
      "Variables n = 111, constraints m = 416\n",
      "Cones:\tlinear vars: 100\n",
      "\tsoc vars: 300, soc blks: 100\n",
      "\tsd vars: 10, sd blks: 1\n",
      "\texp vars: 6, dual exp vars: 0\n",
      "Setup time: 7.96e-03s\n",
      "----------------------------------------------------------------------------\n",
      " Iter | pri res | dua res | rel gap | pri obj | dua obj | kap/tau | time (s)\n",
      "----------------------------------------------------------------------------\n",
      "     0| 1.17e+20  7.99e+19  1.00e+00 -5.69e+20  4.84e+19  6.22e+20  1.01e-02 \n",
      "   100| 2.70e-03  8.02e-03  1.40e-03  1.76e+00  1.76e+00  1.98e-16  2.43e-02 \n",
      "   160| 3.65e-05  7.57e-05  1.14e-05  1.77e+00  1.77e+00  6.07e-16  2.83e-02 \n",
      "----------------------------------------------------------------------------\n",
      "Status: Solved\n",
      "Timing: Solve time: 2.86e-02s\n",
      "\tLin-sys: nnz in L factor: 1349, avg solve time: 4.73e-06s\n",
      "\tCones: avg projection time: 1.12e-04s\n",
      "\tAcceleration: avg step time: 2.07e-05s\n",
      "----------------------------------------------------------------------------\n",
      "Error metrics:\n",
      "dist(s, K) = 4.9960e-16, dist(y, K*) = 2.7754e-09, s'y/|s||y| = 2.6749e-11\n",
      "primal res: |Ax + s - b|_2 / (1 + |b|_2) = 3.6499e-05\n",
      "dual res:   |A'y + c|_2 / (1 + |c|_2) = 7.5678e-05\n",
      "rel gap:    |c'x + b'y| / (1 + |c'x| + |b'y|) = 1.1368e-05\n",
      "----------------------------------------------------------------------------\n",
      "c'x = 1.7651, -b'y = 1.7651\n",
      "============================================================================\n",
      "-------------------------------------------------------------------------------\n",
      "                                    Summary                                    \n",
      "-------------------------------------------------------------------------------\n",
      "(CVXPY) May 06 11:56:36 AM: Problem status: optimal\n",
      "(CVXPY) May 06 11:56:36 AM: Optimal value: 1.765e+00\n",
      "(CVXPY) May 06 11:56:36 AM: Compilation took 2.194e-01 seconds\n",
      "(CVXPY) May 06 11:56:36 AM: Solver (including time spent in interface) took 5.144e-02 seconds\n"
     ]
    }
   ],
   "source": [
    "obj = cvx.Minimize(-cvx.log_det(X))\n",
    "constraints = [cvx.norm(X @ a + b)<=1 for a in A]\n",
    "problem = cvx.Problem(obj, constraints)\n",
    "_ = problem.solve(verbose=True)"
   ]
  },
  {
   "cell_type": "code",
   "execution_count": 23,
   "metadata": {},
   "outputs": [
    {
     "data": {
      "text/plain": [
       "[<matplotlib.lines.Line2D at 0x7fb86162a550>]"
      ]
     },
     "execution_count": 23,
     "metadata": {},
     "output_type": "execute_result"
    },
    {
     "data": {
      "image/png": "[encoded data removed]",
      "text/plain": [
       "<Figure size 720x504 with 1 Axes>"
      ]
     },
     "metadata": {
      "needs_background": "light"
     },
     "output_type": "display_data"
    }
   ],
   "source": [
    "L = np.linalg.inv(X.value)\n",
    "plt.figure(figsize=(10, 7))\n",
    "plt.scatter(A[:, 0], A[:, 1])\n",
    "phi = np.linspace(0, 2 * np.pi, num=100)\n",
    "xy = np.vstack((np.cos(phi), np.sin(phi))) - b.value.reshape(-1, 1)\n",
    "ellips = L.dot(xy)\n",
    "plt.plot(ellips[0, :], ellips[1, :])"
   ]
  },
  {
   "cell_type": "markdown",
   "metadata": {},
   "source": [
    "### 1.4. Problem 1\n",
    "\n",
    "$$\\max_{x \\in \\mathbb{R}^n} c^\\top x$$\n",
    "\n",
    "$$\\text{s.t. } \\sum\\limits_{i=1}^n x_i A_i \\succeq 0, \\|x\\|_1 \\leq 1$$"
   ]
  },
  {
   "cell_type": "code",
   "execution_count": 24,
   "metadata": {},
   "outputs": [],
   "source": [
    "np.random.seed(1)\n",
    "n = 30\n",
    "m = 10\n",
    "A_list = [np.random.randn(n, n) for i in range(n)]\n",
    "A_list = [A @ A.T for A in A_list]\n",
    "c = np.random.randn(n)"
   ]
  },
  {
   "cell_type": "code",
   "execution_count": 25,
   "metadata": {
    "scrolled": false
   },
   "outputs": [
    {
     "name": "stdout",
     "output_type": "stream",
     "text": [
      "===============================================================================\n",
      "                                     CVXPY                                     \n",
      "                                     v1.2.0                                    \n",
      "===============================================================================\n",
      "(CVXPY) May 06 11:56:36 AM: Your problem has 30 variables, 2 constraints, and 0 parameters.\n",
      "(CVXPY) May 06 11:56:36 AM: It is compliant with the following grammars: DCP, DQCP\n",
      "(CVXPY) May 06 11:56:36 AM: (If you need to solve this problem multiple times, but with different data, consider using parameters.)\n",
      "(CVXPY) May 06 11:56:36 AM: CVXPY will first compile your problem; then, it will invoke a numerical solver to obtain a solution.\n",
      "-------------------------------------------------------------------------------\n",
      "                                  Compilation                                  \n",
      "-------------------------------------------------------------------------------\n",
      "(CVXPY) May 06 11:56:36 AM: Compiling problem (target solver=SCS).\n",
      "(CVXPY) May 06 11:56:36 AM: Reduction chain: FlipObjective -> Dcp2Cone -> CvxAttr2Constr -> ConeMatrixStuffing -> SCS\n",
      "(CVXPY) May 06 11:56:36 AM: Applying reduction FlipObjective\n",
      "(CVXPY) May 06 11:56:36 AM: Applying reduction Dcp2Cone\n",
      "(CVXPY) May 06 11:56:36 AM: Applying reduction CvxAttr2Constr\n",
      "(CVXPY) May 06 11:56:36 AM: Applying reduction ConeMatrixStuffing\n",
      "(CVXPY) May 06 11:56:36 AM: Applying reduction SCS\n",
      "(CVXPY) May 06 11:56:36 AM: Finished problem compilation (took 3.694e-02 seconds).\n",
      "-------------------------------------------------------------------------------\n",
      "                                Numerical solver                               \n",
      "-------------------------------------------------------------------------------\n",
      "(CVXPY) May 06 11:56:36 AM: Invoking solver SCS  to obtain a solution.\n",
      "----------------------------------------------------------------------------\n",
      "\tSCS v2.1.2 - Splitting Conic Solver\n",
      "\t(c) Brendan O'Donoghue, Stanford University, 2012\n",
      "----------------------------------------------------------------------------\n",
      "Lin-sys: sparse-direct, nnz in A = 14100\n",
      "eps = 1.00e-04, alpha = 1.50, max_iters = 5000, normalize = 1, scale = 1.00\n",
      "acceleration_lookback = 10, rho_x = 1.00e-03\n",
      "Variables n = 60, constraints m = 526\n",
      "Cones:\tlinear vars: 61\n",
      "\tsd vars: 465, sd blks: 1\n",
      "Setup time: 9.01e-03s\n",
      "----------------------------------------------------------------------------\n",
      " Iter | pri res | dua res | rel gap | pri obj | dua obj | kap/tau | time (s)\n",
      "----------------------------------------------------------------------------\n",
      "     0| 7.33e+19  4.43e+20  1.00e+00 -1.95e+17 -0.00e+00  7.00e+17  4.86e-03 \n",
      "   100| 8.79e-02  5.56e-01  3.99e-04 -1.09e+00 -1.09e+00  7.21e-20  1.37e-02 \n",
      "   200| 8.69e-02  1.05e+00  5.36e-04 -2.03e+00 -2.04e+00  5.48e-19  2.32e-02 \n",
      "   300| 1.65e-01  8.79e-01  1.32e-03 -1.87e+00 -1.86e+00  6.21e-20  3.31e-02 \n",
      "   400| 2.11e+00  7.08e+00  3.82e-04 -1.10e+01 -1.10e+01  5.00e-18  4.19e-02 \n",
      "   500| 1.00e-01  5.95e-01  1.80e-04 -1.30e+00 -1.30e+00  1.24e-19  5.27e-02 \n",
      "   600| 7.61e-02  5.95e-01  9.30e-04 -1.81e+00 -1.81e+00  4.79e-19  6.30e-02 \n",
      "   700| 2.55e-01  1.23e+00  1.47e-04 -3.09e+00 -3.09e+00  3.58e-19  7.21e-02 \n",
      "   800| 1.51e-01  8.02e-01  3.87e-04 -1.60e+00 -1.60e+00  4.29e-19  8.20e-02 \n",
      "   900| 6.27e+00  1.56e+02  2.53e-03 -2.41e+00 -2.43e+00  4.68e-19  8.99e-02 \n",
      "  1000| 1.65e-01  7.47e-01  8.04e-04 -1.98e+00 -1.97e+00  1.56e-18  9.87e-02 \n",
      "  1100| 8.78e-02  6.82e-01  5.55e-05 -1.88e+00 -1.88e+00  6.66e-19  1.06e-01 \n",
      "  1200| 8.84e-02  7.95e-01  1.03e-03 -2.33e+00 -2.33e+00  5.09e-19  1.15e-01 \n",
      "  1300| 3.67e-02  6.09e-01  2.85e-04 -1.87e+00 -1.87e+00  4.66e-19  1.25e-01 \n",
      "  1400| 6.47e-01  8.28e-01  2.19e-03 -1.91e+00 -1.92e+00  8.75e-19  1.35e-01 \n",
      "  1500| 2.91e-01  7.70e-01  1.25e-03 -1.84e+00 -1.83e+00  8.78e-19  1.44e-01 \n",
      "  1600| 1.87e-01  5.35e-01  6.37e-04 -8.98e-01 -8.97e-01  1.86e-18  1.55e-01 \n",
      "  1700| 1.02e+01  8.50e+02  2.76e-03 -1.30e+00 -1.31e+00  7.32e-19  1.67e-01 \n",
      "  1800| 2.58e-01  5.08e-01  1.97e-04 -9.18e-01 -9.17e-01  1.78e-18  1.76e-01 \n",
      "  1900| 8.03e-02  7.90e-01  1.93e-04 -2.82e+00 -2.82e+00  6.88e-19  1.87e-01 \n",
      "  2000| 9.72e-02  4.68e-01  1.37e-05 -1.87e+00 -1.87e+00  1.50e-19  1.97e-01 \n",
      "  2100| 2.47e-01  6.27e-01  2.35e-03 -1.60e+00 -1.61e+00  2.91e-19  2.07e-01 \n",
      "  2200| 8.29e-02  5.04e-01  6.55e-05 -2.00e+00 -2.00e+00  4.71e-19  2.18e-01 \n",
      "  2300| 4.27e-01  5.65e-01  1.92e-03 -1.27e+00 -1.28e+00  1.98e-18  2.27e-01 \n",
      "  2400| 8.11e-02  5.04e-01  8.61e-04 -1.74e+00 -1.74e+00  1.60e-18  2.38e-01 \n",
      "  2500| 6.40e-02  5.45e-01  1.88e-04 -1.68e+00 -1.68e+00  1.73e-19  2.49e-01 \n",
      "  2600| 9.08e-02  4.59e-01  2.25e-04 -2.15e+00 -2.14e+00  1.02e-19  2.58e-01 \n",
      "  2700| 1.51e+00  9.97e-01  6.46e-03 -1.74e+00 -1.77e+00  8.48e-19  2.70e-01 \n",
      "  2800| 1.61e-01  7.12e-01  8.28e-04 -2.07e+00 -2.07e+00  5.72e-19  2.80e-01 \n",
      "  2900| 2.39e+00  1.28e+01  2.60e-03 -9.07e-01 -9.14e-01  8.74e-19  2.89e-01 \n",
      "  3000| 1.41e-01  7.44e-01  4.72e-04 -2.19e+00 -2.19e+00  3.05e-19  2.99e-01 \n",
      "  3100| 3.46e+01  4.73e+02  1.07e-02 -2.05e+00 -2.10e+00  1.53e-18  3.09e-01 \n",
      "  3200| 2.77e-01  5.99e-01  4.10e-03 -6.43e-01 -6.52e-01  1.13e-18  3.20e-01 \n",
      "  3300| 1.51e+00  7.82e+00  7.06e-05 -1.35e+01 -1.35e+01  2.77e-18  3.30e-01 \n",
      "  3400| 8.14e-02  5.71e-01  4.37e-04 -1.74e+00 -1.75e+00  4.80e-19  3.40e-01 \n",
      "  3500| 4.48e-01  6.93e-01  1.14e-03 -1.26e+00 -1.25e+00  2.61e-18  3.51e-01 \n",
      "  3600| 7.73e-02  6.21e-01  4.96e-04 -1.62e+00 -1.62e+00  6.83e-19  3.61e-01 \n",
      "  3700| 2.92e-01  6.34e-01  4.74e-04 -1.97e+00 -1.97e+00  2.54e-18  3.74e-01 \n",
      "  3800| 9.55e-02  7.28e-01  1.01e-04 -1.82e+00 -1.82e+00  4.86e-21  3.85e-01 \n",
      "  3900| 6.37e-02  8.32e-01  5.32e-04 -1.95e+00 -1.95e+00  5.08e-19  3.94e-01 \n",
      "  4000| 1.35e-01  5.80e-01  1.72e-03 -7.87e-01 -7.91e-01  7.37e-19  4.06e-01 \n",
      "  4100| 1.48e-01  7.11e-01  3.04e-04 -1.91e+00 -1.91e+00  0.00e+00  4.17e-01 \n",
      "  4200| 2.37e+00  9.72e-01  1.97e-03 -1.10e+00 -1.10e+00  1.18e-18  4.26e-01 \n",
      "  4300| 1.87e-01  6.81e-01  4.36e-05 -1.72e+00 -1.72e+00  1.90e-19  4.37e-01 \n",
      "  4400| 2.38e+18  2.29e+19  5.40e-03 -4.08e+17 -4.13e+17  7.54e+15  4.46e-01 \n",
      "  4500| 9.55e-02  4.82e-01  7.18e-04 -1.35e+00 -1.34e+00  6.09e-19  4.53e-01 \n",
      "  4600| 2.16e-01  1.24e+00  2.90e-04 -2.47e+00 -2.47e+00  8.32e-19  4.59e-01 \n",
      "  4700| 2.30e-01  1.22e+00  5.19e-04 -3.70e+00 -3.71e+00  6.94e-19  4.66e-01 \n",
      "  4800| 7.90e+00  7.19e+02  1.63e-02 -1.45e-02 -3.15e-02  5.99e-19  4.74e-01 \n",
      "  4900| 6.72e-02  4.15e-01  2.49e-04 -2.18e+00 -2.18e+00  1.67e-18  4.80e-01 \n",
      "  5000| 8.64e-02  5.73e-01  4.88e-04 -1.49e+00 -1.49e+00  6.55e-19  4.87e-01 \n",
      "----------------------------------------------------------------------------\n",
      "Status: Solved/Inaccurate\n",
      "Hit max_iters, solution may be inaccurate, returning best found solution.\n",
      "Timing: Solve time: 4.87e-01s\n",
      "\tLin-sys: nnz in L factor: 15237, avg solve time: 3.84e-05s\n",
      "\tCones: avg projection time: 2.04e-05s\n",
      "\tAcceleration: avg step time: 2.27e-05s\n",
      "----------------------------------------------------------------------------\n",
      "Error metrics:\n",
      "dist(s, K) = 4.4915e-16, dist(y, K*) = 0.0000e+00, s'y/|s||y| = 2.4279e-18\n",
      "primal res: |Ax + s - b|_2 / (1 + |b|_2) = 6.0637e-02\n",
      "dual res:   |A'y + c|_2 / (1 + |c|_2) = 3.8989e-01\n",
      "rel gap:    |c'x + b'y| / (1 + |c'x| + |b'y|) = 2.2559e-04\n",
      "----------------------------------------------------------------------------\n",
      "c'x = -1.7933, -b'y = -1.7922\n",
      "============================================================================\n",
      "----------------------------------------------------------------------------\n",
      "\tSCS v2.1.2 - Splitting Conic Solver\n",
      "\t(c) Brendan O'Donoghue, Stanford University, 2012\n",
      "----------------------------------------------------------------------------\n",
      "Lin-sys: sparse-direct, nnz in A = 14100\n",
      "eps = 1.00e-04, alpha = 1.50, max_iters = 5000, normalize = 1, scale = 1.00\n",
      "acceleration_lookback = 0, rho_x = 1.00e-03\n",
      "Variables n = 60, constraints m = 526\n",
      "Cones:\tlinear vars: 61\n",
      "\tsd vars: 465, sd blks: 1\n",
      "Setup time: 3.12e-03s\n",
      "----------------------------------------------------------------------------\n",
      " Iter | pri res | dua res | rel gap | pri obj | dua obj | kap/tau | time (s)\n",
      "----------------------------------------------------------------------------\n",
      "     0| 7.33e+19  4.43e+20  1.00e+00 -1.95e+17 -0.00e+00  7.00e+17  7.97e-03 \n",
      "   100| 1.22e-02  5.81e-01  2.86e-05 -1.21e+00 -1.21e+00  1.47e-18  1.31e-02 \n",
      "   200| 7.18e-03  6.11e-01  3.11e-06 -1.25e+00 -1.25e+00  6.87e-19  1.81e-02 \n",
      "   300| 9.65e-03  6.55e-01  1.52e-05 -1.34e+00 -1.34e+00  1.63e-18  2.28e-02 \n",
      "   400| 1.55e-02  6.61e-01  2.11e-05 -1.41e+00 -1.41e+00  4.74e-19  2.75e-02 \n",
      "   500| 1.92e-02  6.80e-01  1.58e-05 -1.47e+00 -1.47e+00  2.17e-18  3.23e-02 \n",
      "   600| 1.56e-02  7.67e-01  3.60e-06 -1.51e+00 -1.51e+00  8.65e-19  3.70e-02 \n",
      "   700| 1.59e-02  7.97e-01  5.42e-06 -1.57e+00 -1.57e+00  5.39e-19  4.17e-02 \n",
      "   800| 1.97e-02  8.02e-01  9.12e-06 -1.64e+00 -1.64e+00  2.42e-18  4.64e-02 \n",
      "   900| 1.96e-02  8.62e-01  5.59e-06 -1.69e+00 -1.69e+00  9.52e-19  5.12e-02 \n"
     ]
    },
    {
     "name": "stdout",
     "output_type": "stream",
     "text": [
      "  1000| 1.50e-02  7.48e-01  1.33e-05 -1.70e+00 -1.70e+00  2.11e-18  5.66e-02 \n",
      "  1100| 1.66e-02  6.58e-01  1.97e-05 -1.72e+00 -1.72e+00  9.83e-19  6.75e-02 \n",
      "  1200| 1.91e-02  6.27e-01  1.92e-05 -1.76e+00 -1.76e+00  1.02e-18  7.66e-02 \n",
      "  1300| 1.99e-02  6.18e-01  1.52e-05 -1.79e+00 -1.79e+00  1.05e-18  8.46e-02 \n",
      "  1400| 2.03e-02  6.43e-01  1.14e-05 -1.83e+00 -1.83e+00  6.49e-19  9.29e-02 \n"
     ]
    },
    {
     "name": "stderr",
     "output_type": "stream",
     "text": [
      "/home/elias/anaconda3/lib/python3.7/site-packages/cvxpy/reductions/solvers/conic_solvers/scs_conif.py:333: UserWarning: \n",
      "    CVXPY has just called the numerical solver SCS (version 2.1.2),\n",
      "    which could not accurately solve the problem with the provided solver\n",
      "    options. No value was specified for the SCS option called\n",
      "    \"acceleration_lookback\". That option often has a major impact on\n",
      "    whether this version of SCS converges to an accurate solution.\n",
      "\n",
      "    We will try to solve the problem again by setting acceleration_lookback = 0.\n",
      "    To avoid this error in the future we recommend installing SCS version 3.0\n",
      "    or higher.\n",
      "\n",
      "    More information on SCS options can be found at the following URL:\n",
      "    https://www.cvxgrp.org/scs/api/settings.html\n",
      "    \n",
      "  warnings.warn(SCS.ACCELERATION_RETRY_MESSAGE % str(scs_version))\n"
     ]
    },
    {
     "name": "stdout",
     "output_type": "stream",
     "text": [
      "  1500| 1.94e-02  6.51e-01  4.43e-06 -1.84e+00 -1.84e+00  2.20e-19  1.01e-01 \n",
      "  1600| 1.88e-02  6.74e-01  2.01e-06 -1.88e+00 -1.88e+00  1.12e-18  1.10e-01 \n",
      "  1700| 1.95e-02  6.56e-01  3.10e-06 -1.89e+00 -1.89e+00  6.80e-19  1.17e-01 \n",
      "  1800| 2.11e-02  6.03e-01  4.26e-06 -1.91e+00 -1.91e+00  1.60e-18  1.25e-01 \n",
      "  1900| 2.00e-02  6.15e-01  6.40e-06 -1.93e+00 -1.93e+00  6.96e-19  1.33e-01 \n",
      "  2000| 1.97e-02  6.14e-01  9.35e-06 -1.95e+00 -1.95e+00  2.36e-19  1.42e-01 \n",
      "  2100| 2.25e-02  5.78e-01  1.15e-05 -1.97e+00 -1.97e+00  2.40e-19  1.50e-01 \n",
      "  2200| 2.17e-02  6.16e-01  9.03e-06 -1.97e+00 -1.97e+00  2.43e-19  1.59e-01 \n",
      "  2300| 1.64e-02  7.06e-01  4.80e-06 -1.97e+00 -1.97e+00  7.33e-19  1.67e-01 \n",
      "  2400| 1.85e-02  6.54e-01  1.15e-05 -1.99e+00 -1.99e+00  2.49e-19  1.75e-01 \n",
      "  2500| 2.18e-02  5.52e-01  1.03e-05 -2.01e+00 -2.01e+00  2.53e-19  1.82e-01 \n",
      "  2600| 2.12e-02  5.82e-01  8.83e-06 -2.03e+00 -2.03e+00  2.57e-19  1.88e-01 \n",
      "  2700| 1.81e-02  6.24e-01  3.97e-06 -2.03e+00 -2.03e+00  2.59e-19  1.94e-01 \n",
      "  2800| 1.81e-02  6.01e-01  2.04e-06 -2.07e+00 -2.07e+00  1.85e-18  2.00e-01 \n",
      "  2900| 1.94e-02  5.53e-01  4.41e-06 -2.08e+00 -2.08e+00  2.66e-19  2.06e-01 \n",
      "  3000| 2.03e-02  4.88e-01  7.22e-06 -2.07e+00 -2.07e+00  7.98e-19  2.12e-01 \n",
      "  3100| 1.91e-02  5.50e-01  9.96e-06 -2.08e+00 -2.08e+00  1.35e-18  2.18e-01 \n",
      "  3200| 1.53e-02  5.84e-01  1.11e-05 -2.09e+00 -2.09e+00  8.14e-19  2.25e-01 \n",
      "  3300| 1.78e-02  5.39e-01  1.18e-05 -2.10e+00 -2.10e+00  2.76e-19  2.31e-01 \n",
      "  3400| 2.04e-02  4.95e-01  9.54e-06 -2.11e+00 -2.11e+00  1.39e-18  2.38e-01 \n",
      "  3500| 1.69e-02  5.95e-01  2.06e-05 -2.11e+00 -2.11e+00  1.96e-18  2.44e-01 \n",
      "  3600| 1.56e-02  6.45e-01  3.33e-06 -2.13e+00 -2.13e+00  1.98e-18  2.50e-01 \n",
      "  3700| 1.85e-02  5.45e-01  3.56e-06 -2.15e+00 -2.15e+00  8.53e-19  2.56e-01 \n",
      "  3800| 1.90e-02  4.69e-01  3.83e-06 -2.16e+00 -2.16e+00  8.57e-19  2.62e-01 \n",
      "  3900| 1.64e-02  5.10e-01  1.35e-05 -2.15e+00 -2.15e+00  8.61e-19  2.69e-01 \n",
      "  4000| 1.71e-02  4.90e-01  1.89e-05 -2.14e+00 -2.14e+00  2.89e-19  2.76e-01 \n",
      "  4100| 1.94e-02  4.26e-01  1.48e-05 -2.14e+00 -2.14e+00  8.78e-19  2.82e-01 \n",
      "  4200| 1.87e-02  4.88e-01  3.18e-06 -2.15e+00 -2.15e+00  2.96e-19  2.88e-01 \n",
      "  4300| 1.67e-02  5.41e-01  8.14e-06 -2.17e+00 -2.17e+00  8.95e-19  2.94e-01 \n",
      "  4400| 1.71e-02  5.21e-01  1.15e-05 -2.20e+00 -2.20e+00  9.00e-19  2.98e-01 \n",
      "  4500| 1.85e-02  4.43e-01  6.74e-06 -2.21e+00 -2.21e+00  8.95e-19  3.04e-01 \n",
      "  4600| 1.88e-02  4.38e-01  5.04e-06 -2.21e+00 -2.21e+00  2.09e-18  3.10e-01 \n",
      "  4700| 1.58e-02  5.21e-01  1.54e-05 -2.19e+00 -2.19e+00  1.49e-18  3.15e-01 \n",
      "  4800| 1.52e-02  5.13e-01  1.65e-05 -2.16e+00 -2.16e+00  1.49e-18  3.20e-01 \n",
      "  4900| 1.93e-02  4.03e-01  7.93e-06 -2.18e+00 -2.18e+00  3.03e-19  3.26e-01 \n",
      "  5000| 1.95e-02  4.18e-01  3.06e-06 -2.20e+00 -2.20e+00  1.54e-18  3.31e-01 \n",
      "----------------------------------------------------------------------------\n",
      "Status: Solved/Inaccurate\n",
      "Hit max_iters, solution may be inaccurate, returning best found solution.\n",
      "Timing: Solve time: 3.31e-01s\n",
      "\tLin-sys: nnz in L factor: 15237, avg solve time: 3.19e-05s\n",
      "\tCones: avg projection time: 2.10e-05s\n",
      "\tAcceleration: avg step time: 3.76e-08s\n",
      "----------------------------------------------------------------------------\n",
      "Error metrics:\n",
      "dist(s, K) = 8.1642e-16, dist(y, K*) = 0.0000e+00, s'y/|s||y| = -6.1438e-19\n",
      "primal res: |Ax + s - b|_2 / (1 + |b|_2) = 2.0062e-02\n",
      "dual res:   |A'y + c|_2 / (1 + |c|_2) = 3.8108e-01\n",
      "rel gap:    |c'x + b'y| / (1 + |c'x| + |b'y|) = 3.3106e-06\n",
      "----------------------------------------------------------------------------\n",
      "c'x = -2.1844, -b'y = -2.1844\n",
      "============================================================================\n",
      "-------------------------------------------------------------------------------\n",
      "                                    Summary                                    \n",
      "-------------------------------------------------------------------------------\n",
      "(CVXPY) May 06 11:56:37 AM: Problem status: optimal_inaccurate\n",
      "(CVXPY) May 06 11:56:37 AM: Optimal value: 2.184e+00\n",
      "(CVXPY) May 06 11:56:37 AM: Compilation took 3.694e-02 seconds\n",
      "(CVXPY) May 06 11:56:37 AM: Solver (including time spent in interface) took 8.511e-01 seconds\n"
     ]
    },
    {
     "name": "stderr",
     "output_type": "stream",
     "text": [
      "/home/elias/anaconda3/lib/python3.7/site-packages/cvxpy/problems/problem.py:1334: UserWarning: Solution may be inaccurate. Try another solver, adjusting the solver settings, or solve with verbose=True for more information.\n",
      "  \"Solution may be inaccurate. Try another solver, \"\n"
     ]
    },
    {
     "data": {
      "text/plain": [
       "2.1844061230977316"
      ]
     },
     "execution_count": 25,
     "metadata": {},
     "output_type": "execute_result"
    }
   ],
   "source": [
    "x = cvx.Variable(n)\n",
    "obj = cvx.Maximize(c @ x)\n",
    "xA = cvx.sum([x[ind] * A_list[ind] for ind in range(n)])\n",
    "constraints = [cvx.norm(x, 1)<=1] + [xA >> 0]\n",
    "problem = cvx.Problem(obj, constraints)\n",
    "problem.solve(verbose=True, solver=\"SCS\")"
   ]
  },
  {
   "cell_type": "code",
   "execution_count": 26,
   "metadata": {},
   "outputs": [
    {
     "data": {
      "text/plain": [
       "(0.23261794375413844, 1.1208019404315939)"
      ]
     },
     "execution_count": 26,
     "metadata": {},
     "output_type": "execute_result"
    }
   ],
   "source": [
    "x_sol = x.value\n",
    "A_ = sum([x_sol[ind] * A_list[ind] for ind in range(n)])\n",
    "np.linalg.eigh(A_)[0].min(), np.linalg.norm(x_sol, 1)"
   ]
  },
  {
   "cell_type": "markdown",
   "metadata": {},
   "source": [
    "### 1.5. Trace Minimization\n",
    "\n",
    "$$\\min_{X \\in \\mathbb{S}^{n}_{+}} \\text{tr}(XW)$$\n",
    "\n",
    "$$\\text{s.t. } \\|X\\|_F\\leq 1, $$\n",
    "\n",
    "where $W \\in\\mathbb{R}^{m \\times n}$"
   ]
  },
  {
   "cell_type": "code",
   "execution_count": 27,
   "metadata": {},
   "outputs": [],
   "source": [
    "np.random.seed(1)\n",
    "m = 10\n",
    "n = 10\n",
    "W = np.random.randn(n, n)"
   ]
  },
  {
   "cell_type": "code",
   "execution_count": 28,
   "metadata": {
    "scrolled": false
   },
   "outputs": [
    {
     "data": {
      "text/plain": [
       "-7.436114034592189"
      ]
     },
     "execution_count": 28,
     "metadata": {},
     "output_type": "execute_result"
    }
   ],
   "source": [
    "X = cvx.Variable((n, n), PSD=True)\n",
    "obj = cvx.Minimize(cvx.trace(X @ W))\n",
    "constraints = [cvx.norm(X)<=1] + [X >> 0, X==X.T]\n",
    "problem = cvx.Problem(obj, constraints)\n",
    "problem.solve(verbose=False)"
   ]
  },
  {
   "cell_type": "markdown",
   "metadata": {},
   "source": [
    "### 1.6. Sparse solution of linear inequalities\n",
    "\n",
    "The system of linear inequality $Ax\\leq b$ is given. Our problem is to find sparse solution of this system.\n",
    "\n",
    "The problem of finding the most sparse solution:\n",
    "\n",
    "$$\\min_{x\\in\\mathbb{R}^n} \\|x\\|_0,$$\n",
    "\n",
    "$$\\text{s.t. }Ax\\leq b,$$\n",
    "where $A\\in\\mathbb{R}^{m \\times n}$, $\\|x\\|_0=\\left|\\{i=\\overline{1,n}| x_i\\neq 0\\}\\right|.$\n",
    "\n",
    "Its convex relaxation:\n",
    "$$\\min_{x\\in\\mathbb{R}^n} \\|x\\|_{\\color{red}1},$$\n",
    "\n",
    "$$\\text{s.t. }Ax\\leq b,$$"
   ]
  },
  {
   "cell_type": "markdown",
   "metadata": {},
   "source": [
    "Consider the problem:\n",
    "$$\\min_{x\\in\\mathbb{R}^n} \\sum\\limits_{i=1}^n \\log(\\delta+|x_i|),$$\n",
    "\n",
    "$$\\text{s.t. }Ax\\leq b,$$"
   ]
  },
  {
   "cell_type": "markdown",
   "metadata": {},
   "source": [
    "$$\\sum\\limits_{i=1}^n \\log(\\delta+|x_i|) = n\\log \\delta + \\sum\\limits_{i=1}^n \\frac{1}{\\delta+|x_i|}|x_i|$$"
   ]
  },
  {
   "cell_type": "markdown",
   "metadata": {},
   "source": [
    "Solve the following problems sequentially\n",
    "$$\\min_{x^k \\in\\mathbb{R}^n} \\sum\\limits_{i=1}^n W_i |x_i^k|,$$\n",
    "\n",
    "$$\\text{s.t. }Ax\\leq b,$$\n",
    "where weights $W_i = \\frac{1}{\\delta+|x_i^k|}$ depend on $x^k$ from previous iteration."
   ]
  },
  {
   "cell_type": "code",
   "execution_count": 29,
   "metadata": {},
   "outputs": [],
   "source": [
    "delta = 1e-8"
   ]
  },
  {
   "cell_type": "code",
   "execution_count": 30,
   "metadata": {},
   "outputs": [],
   "source": [
    "np.random.seed(1)\n",
    "m = 100\n",
    "n = 100\n",
    "A = np.random.randn(m, n)\n",
    "b = np.random.randn(m)"
   ]
  },
  {
   "cell_type": "code",
   "execution_count": 31,
   "metadata": {},
   "outputs": [
    {
     "data": {
      "text/plain": [
       "5.511084777890009"
      ]
     },
     "execution_count": 31,
     "metadata": {},
     "output_type": "execute_result"
    }
   ],
   "source": [
    "x = cvx.Variable(n)\n",
    "obj = cvx.Minimize(cvx.sum(cvx.abs(x)))\n",
    "constraints = [A@x<=b]\n",
    "problem = cvx.Problem(obj, constraints)\n",
    "problem.solve(verbose=False, solver=cvx.CVXOPT)"
   ]
  },
  {
   "cell_type": "code",
   "execution_count": 32,
   "metadata": {},
   "outputs": [],
   "source": [
    "x = x.value"
   ]
  },
  {
   "cell_type": "code",
   "execution_count": 33,
   "metadata": {},
   "outputs": [
    {
     "data": {
      "text/plain": [
       "53"
      ]
     },
     "execution_count": 33,
     "metadata": {},
     "output_type": "execute_result"
    }
   ],
   "source": [
    "np.sum(np.abs(x)>delta)"
   ]
  },
  {
   "cell_type": "markdown",
   "metadata": {},
   "source": [
    "The log-based heuristic\n"
   ]
  },
  {
   "cell_type": "code",
   "execution_count": 34,
   "metadata": {},
   "outputs": [],
   "source": [
    "NUM_RUNS = 15\n",
    "nnzs_log = np.array(())\n",
    "\n",
    "# Store W as a positive parameter for simple modification of the problem.\n",
    "W = cvx.Parameter(n, nonneg=True)\n",
    "x_log = cvx.Variable(shape=n)\n",
    "\n",
    "# Initial weights.\n",
    "W.value = np.ones(n)\n",
    "\n",
    "# Setup the problem.\n",
    "obj = cvx.Minimize( W @ cvx.abs(x_log)) # sum of elementwise product\n",
    "constraints = [A@x_log <= b]\n",
    "prob = cvx.Problem(obj, constraints)"
   ]
  },
  {
   "cell_type": "code",
   "execution_count": 35,
   "metadata": {},
   "outputs": [
    {
     "name": "stdout",
     "output_type": "stream",
     "text": [
      "Iteration 1: Found a feasible x in R^100 with 53 nonzeros...\n",
      "Iteration 2: Found a feasible x in R^100 with 34 nonzeros...\n",
      "Iteration 3: Found a feasible x in R^100 with 29 nonzeros...\n",
      "Iteration 4: Found a feasible x in R^100 with 28 nonzeros...\n",
      "Iteration 5: Found a feasible x in R^100 with 27 nonzeros...\n",
      "Iteration 6: Found a feasible x in R^100 with 25 nonzeros...\n",
      "Iteration 7: Found a feasible x in R^100 with 25 nonzeros...\n",
      "Iteration 8: Found a feasible x in R^100 with 25 nonzeros...\n",
      "Iteration 9: Found a feasible x in R^100 with 25 nonzeros...\n",
      "Iteration 10: Found a feasible x in R^100 with 24 nonzeros...\n",
      "Iteration 11: Found a feasible x in R^100 with 24 nonzeros...\n",
      "Iteration 12: Found a feasible x in R^100 with 24 nonzeros...\n",
      "Iteration 13: Found a feasible x in R^100 with 24 nonzeros...\n",
      "Iteration 14: Found a feasible x in R^100 with 24 nonzeros...\n",
      "Iteration 15: Found a feasible x in R^100 with 24 nonzeros...\n"
     ]
    }
   ],
   "source": [
    "# Do the iterations of the problem, solving and updating W.\n",
    "for k in range(1, NUM_RUNS+1):\n",
    "    # Solve problem.\n",
    "    # The ECOS solver has known numerical issues with this problem\n",
    "    # so force a different solver.\n",
    "    prob.solve(solver=cvx.CVXOPT)\n",
    "\n",
    "    # Check for error.\n",
    "    if prob.status != cvx.OPTIMAL:\n",
    "        raise Exception(\"Solver did not converge!\")\n",
    "\n",
    "    # Display new number of nonzeros in the solution vector.\n",
    "    nnz = (np.absolute(x_log.value) > delta).sum()\n",
    "    nnzs_log = np.append(nnzs_log, nnz);\n",
    "    print('Iteration {}: Found a feasible x in R^{}'\n",
    "          ' with {} nonzeros...'.format(k, n, nnz))\n",
    "\n",
    "    # Adjust the weights elementwise and re-iterate\n",
    "    W.value = np.ones(n)/(delta*np.ones(n) + np.absolute(x_log.value))"
   ]
  },
  {
   "cell_type": "code",
   "execution_count": null,
   "metadata": {},
   "outputs": [],
   "source": []
  }
 ],
 "metadata": {
  "kernelspec": {
   "display_name": "Python 3",
   "language": "python",
   "name": "python3"
  },
  "language_info": {
   "codemirror_mode": {
    "name": "ipython",
    "version": 3
   },
   "file_extension": ".py",
   "mimetype": "text/x-python",
   "name": "python",
   "nbconvert_exporter": "python",
   "pygments_lexer": "ipython3",
   "version": "3.7.3"
  }
 },
 "nbformat": 4,
 "nbformat_minor": 2
}

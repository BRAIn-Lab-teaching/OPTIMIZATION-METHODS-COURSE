{
 "cells": [
  {
   "cell_type": "markdown",
   "id": "ba42ac99",
   "metadata": {},
   "source": [
    "# Зеркальный спуск  "
   ]
  },
  {
   "cell_type": "markdown",
   "id": "17c7f082",
   "metadata": {
    "id": "17c7f082"
   },
   "source": [
    "## Основная часть"
   ]
  },
  {
   "cell_type": "markdown",
   "id": "236eb90b",
   "metadata": {
    "id": "236eb90b"
   },
   "source": [
    "__Задача 1. (10 баллов)__ Рассмотрим следующую билинейную задачу на симплексах:\n",
    "$$\n",
    "\\min_{x \\in \\mathcal{X}} \\max_{y \\in \\mathcal{Y}} f(x,y) = x^T A y,\n",
    "$$\n",
    "где $X = \\{ x \\in \\mathbb{R}^d \\mid x_i \\geq 0 , \\sum_{i=1}^d x_i = 1\\}$, $Y = \\{ y \\in \\mathbb{R}^d \\mid y_i \\geq 0 , \\sum_{i=1}^d x_i = 1\\}$, $A \\in \\mathbb{R^{d \\times d}}$.\n",
    "\n",
    "Такую задачу часто называют матричной игрой. В этом задании будет конкретная игра \"Вор и полицейский\".\n",
    "\n",
    "Пусть город представляет собой квадрат из $n \\times n$ маленьких квадратиков. В каждом квадратике стоит дом и полицейская будка рядом с ним. Пусть так же известны ценность дома для вора $w_{i}$ в квадрате $i$. Каждую ночь вор выбирает, какой дом ограбить, а полицейский выбирает будку, в которой будет дежурить. Вероятность поимки вора, если вор грабит дом в квадрате $j$, а полисмен дежурит в квадрате $i$ равна:\n",
    "    $$\\exp(- \\alpha  \\cdot \\text{dist}(i,j)).$$\n",
    "Здесь $\\alpha > 0$ - некторый параметр, т.е. вероятность уменьшается с увеличением расстояния между квадратами.\n",
    "Вор хочет максимизировать свою ожидаемую прибыль:\n",
    "    $$w_j \\left(1 -  \\exp(- \\alpha \\cdot \\text{dist}(i,j))\\right).$$\n",
    "Полицейский наоборот - минимизировать.\n",
    "\n",
    "Такую постановку можно формализовать в виде матричной игры: занумеруем все дома от $0$ до $d = n^2 - 1$, получится вектор $w \\in \\mathbb{R}^{d}$ стоимостей домов. В элемент $A_{ij}$ матрицы $A$ запишем:\n",
    "$$A_{ij} = w_j \\left(1 - \\exp(- \\alpha \\cdot \\text{dist}(i,j))\\right),$$\n",
    "т.е. ожидаемую прибыль вора, если он будет грабить дом с номером $j$, а полицейский дежурить в доме с номером $i$. В векторах $x$ и $y$ будут хранится вероятностные стратегии для полицийского и вора: вероятность выбрать тот или иной дом для дежурства или грабежа. Цель задания найти равновестные стратегии."
   ]
  },
  {
   "cell_type": "markdown",
   "id": "6ea9f32b",
   "metadata": {
    "id": "6ea9f32b"
   },
   "source": [
    "Возьмем $n = 10$. Следующий код генерирует некоторое распределение ценностей домов $w$ и матрицу $A$."
   ]
  },
  {
   "cell_type": "code",
   "execution_count": null,
   "id": "8b24df53",
   "metadata": {
    "id": "8b24df53"
   },
   "outputs": [],
   "source": [
    "import numpy as np\n",
    "import matplotlib.pyplot as plt\n",
    "from matplotlib import cm"
   ]
  },
  {
   "cell_type": "code",
   "execution_count": null,
   "id": "4f3513ba",
   "metadata": {
    "id": "4f3513ba"
   },
   "outputs": [],
   "source": [
    "def dist(i, j, n):\n",
    "    i_x = i % n\n",
    "    i_y = i // n\n",
    "    j_x = j % n\n",
    "    j_y = j // n\n",
    "    return np.linalg.norm([i_x - j_x, i_y - j_y], 2)\n",
    "\n",
    "def game(n = 10):\n",
    "    i_max = (n // 2) * (n + 1)\n",
    "    w = np.array([1. / (dist(i, i_max, n) + 20) for i in range(n ** 2)])\n",
    "    A = np.zeros([n ** 2, n ** 2])\n",
    "    for i in range(n ** 2):\n",
    "        for j in range(n ** 2):\n",
    "            A[i,j] = w[j] * (1 - np.exp(- dist(i, j, n)))\n",
    "    return A, w"
   ]
  },
  {
   "cell_type": "code",
   "execution_count": null,
   "id": "307089ab",
   "metadata": {
    "id": "307089ab"
   },
   "outputs": [],
   "source": [
    "n = 10\n",
    "A, w = game(n)"
   ]
  },
  {
   "cell_type": "code",
   "execution_count": null,
   "id": "eafc6dc9",
   "metadata": {
    "id": "eafc6dc9"
   },
   "outputs": [],
   "source": [
    "X, Y = np.meshgrid(range(n), range(n))\n",
    "X = X.ravel()\n",
    "Y = Y.ravel()\n",
    "\n",
    "fig = plt.figure()\n",
    "ax = fig.add_subplot(projection='3d')\n",
    "\n",
    "ax.scatter(X, Y, w, c = w, cmap=cm.coolwarm)\n",
    "ax.set_title(f\"Веса\", fontsize = 10, fontweight='bold')\n",
    "\n",
    "plt.show()"
   ]
  },
  {
   "cell_type": "code",
   "execution_count": null,
   "id": "f707339a",
   "metadata": {
    "id": "f707339a"
   },
   "outputs": [],
   "source": [
    "fig, ax = plt.subplots()\n",
    "\n",
    "sc = ax.scatter(X, Y, c=w, cmap='coolwarm', marker='s', s=100)\n",
    "ax.set_aspect('equal', adjustable='box')\n",
    "\n",
    "cbar = plt.colorbar(sc, ax=ax)\n",
    "cbar.set_label('Веса')\n",
    "\n",
    "ax.set_title(\"Веса\", fontsize=10, fontweight='bold')\n",
    "ax.set_xlabel(\"X\")\n",
    "ax.set_ylabel(\"Y\")\n",
    "\n",
    "plt.show()"
   ]
  },
  {
   "cell_type": "markdown",
   "id": "0f806336",
   "metadata": {
    "id": "0f806336"
   },
   "source": [
    "На графиках выше визуализированны стоимости домов в городе: в центре самые дорогие, на окраинах бедные."
   ]
  },
  {
   "cell_type": "markdown",
   "id": "23bf4b19",
   "metadata": {
    "id": "23bf4b19"
   },
   "source": [
    "\n",
    "На лекциях мы познакомились с экстраградиентным методом и зеркальным спуском. Первый предназначен для решения седловых задач, второй - для лучшего учета \"геометрии\" задачи. Попробуем объединить эти две идеи и получим следующий метод:\n",
    "\\begin{align}\n",
    "x^{k+1/2} &= \\arg\\min_{x \\in \\mathcal{X}} (\\gamma\\langle \\nabla_x f(x^k, y^k), x\\rangle + V(x,x^k))\n",
    "\\\\\n",
    "y^{k+1/2} &= \\arg\\min_{y \\in \\mathcal{Y}} (\\gamma\\langle - \\nabla_y f(x^k, y^k), y\\rangle + V(y,y^k))\n",
    "\\\\\n",
    "x^{k+1} &= \\arg\\min_{x \\in \\mathcal{X}} (\\gamma\\langle \\nabla_x f(x^{k+1/2}, y^{k+1/2}), x\\rangle + V(x,x^k))\n",
    "\\\\\n",
    "y^{k+1} &= \\arg\\min_{y \\in \\mathcal{Y}} (\\gamma\\langle - \\nabla_y f(x^{k+1/2}, y^{k+1/2}), y\\rangle + V(y,y^k)),\n",
    "\\end{align}\n",
    "где $\\gamma > 0$ - шаг метода.\n",
    "Для краткости введем обозначения, как на лекции:\n",
    "$$\n",
    "z = \\binom{x}{y} \\quad F(z) = F(x,y) = \\binom{\\nabla_x f(x, y)}{- \\nabla_y f(x, y)}\n",
    "$$\n",
    "В новых обозначениях метод выше можно переписать, как\n",
    "\\begin{align}\n",
    "z^{k+1/2} &= \\arg\\min_{z \\in \\mathcal{Z}} (\\gamma\\langle F(z^k), z\\rangle + V(z,z^k))\n",
    "\\\\\n",
    "z^{k+1} &= \\arg\\min_{z \\in \\mathcal{Z}} (\\gamma\\langle F(z^{k+1/2}), z\\rangle + V(z,z^k)).\n",
    "\\end{align}\n",
    "\n",
    "Пусть оператор $F$ является $L$-Липшицевым (следует из Липшицевости градиентов):\n",
    "$$\n",
    "\\| F(z_1) - F(z_2) \\|_* \\leq L \\| z_1 - z_2\\|,\n",
    "$$\n",
    "а функция $f$ является выпукло-вогнутой."
   ]
  },
  {
   "cell_type": "markdown",
   "id": "6ae0bbcf",
   "metadata": {
    "id": "6ae0bbcf"
   },
   "source": [
    "__а). (3 балла)__ Для игровой задачи запишите явный вид метода, (на лекции мы тоже работали с симплексом). Реализуйте в виде кода."
   ]
  },
  {
   "cell_type": "code",
   "execution_count": null,
   "id": "f661ddb7",
   "metadata": {
    "id": "f661ddb7"
   },
   "outputs": [],
   "source": [
    "# ВАШЕ РЕШЕНИЕ (Code и Markdown)"
   ]
  },
  {
   "cell_type": "markdown",
   "id": "3042ee62",
   "metadata": {
    "id": "3042ee62"
   },
   "source": [
    "__б). (2 балла)__ Докажите, что константа $L$ для игровой задачи может быть оценена как максимальное (по модулю) собственное число матрицы $A$."
   ]
  },
  {
   "cell_type": "code",
   "execution_count": null,
   "id": "dd25777b",
   "metadata": {
    "id": "dd25777b"
   },
   "outputs": [],
   "source": [
    "# ВАШЕ РЕШЕНИЕ (Code и Markdown)"
   ]
  },
  {
   "cell_type": "markdown",
   "id": "940806a8",
   "metadata": {
    "id": "940806a8"
   },
   "source": [
    "__в). (1 балл)__ В качестве критерия используйте следующее выражение:\n",
    "$$\n",
    "\\text{gap}(x^k, y^k) = \\max_{y \\in \\mathcal{Y}} f(x^k, y) - \\min_{x \\in \\mathcal{X}} f(x, y^k), \\quad \\text{или} \\quad \\text{gap}\\left( \\frac{1}{k} \\sum_{i=0}^{k-1} x^i, \\frac{1}{k}\\sum_{i=0}^{k-1} y^k \\right)\n",
    "$$\n",
    "Выпишите явный вид подсчета $\\text{gap}(x^k, y^k)$ и реализуйте его (задача не зря называется билинейной)."
   ]
  },
  {
   "cell_type": "code",
   "execution_count": null,
   "id": "888243b3",
   "metadata": {
    "id": "888243b3"
   },
   "outputs": [],
   "source": [
    "# ВАШЕ РЕШЕНИЕ (Code и Markdown)"
   ]
  },
  {
   "cell_type": "markdown",
   "id": "9d88ef79",
   "metadata": {
    "id": "9d88ef79"
   },
   "source": [
    "__г). (3 балла)__ С помощью реализованного метода решите игровую задачу. Рекомендуется подбирать шаг и брать его значительно больше $\\frac{1}{L}$. Постройте график сходимости: значение критерия сходимости от номера итерации."
   ]
  },
  {
   "cell_type": "code",
   "execution_count": null,
   "id": "2018e890",
   "metadata": {
    "id": "2018e890"
   },
   "outputs": [],
   "source": [
    "# ВАШЕ РЕШЕНИЕ (Code и Markdown)"
   ]
  },
  {
   "cell_type": "markdown",
   "id": "27fdd0e2",
   "metadata": {
    "id": "27fdd0e2"
   },
   "source": [
    "__д). (1 балл)__ Визуализируйте решение $x^*$ и $y^*$ на карте города. В этом может помочь визуализация весов выше. Сделайте вывод. Насколько результат кажется натуральным и интепретируемым?"
   ]
  },
  {
   "cell_type": "code",
   "execution_count": null,
   "id": "24fd62e9",
   "metadata": {
    "id": "24fd62e9"
   },
   "outputs": [],
   "source": [
    "# ВАШЕ РЕШЕНИЕ (Code и Markdown)"
   ]
  },
  {
   "cell_type": "markdown",
   "id": "cc32a5d6",
   "metadata": {
    "id": "cc32a5d6"
   },
   "source": [
    "## Дополнительная часть"
   ]
  },
  {
   "cell_type": "markdown",
   "id": "045e12ee",
   "metadata": {
    "id": "045e12ee"
   },
   "source": [
    "__Задача 1. (10 баллов)__\n",
    "\n",
    "При обучении нейронных сетей часто возникает проблема с шумом: картинки, которые правильно распознаются моделью, после добавление шума, малозаметно для человека меняются, а модель начинает ошибаться. В данном задании мы будем исследовать влияние шума на качество распознавания модели и пытаться решить проблему с помощью обучаемого шума."
   ]
  },
  {
   "cell_type": "markdown",
   "id": "842caff7",
   "metadata": {
    "id": "842caff7"
   },
   "source": [
    "__а). (2 балла)__ Обучение базовой модели\n"
   ]
  },
  {
   "cell_type": "markdown",
   "id": "a9d7756a",
   "metadata": {
    "id": "a9d7756a"
   },
   "source": [
    "В данном задании мы будем решать задачу классификации: определять к какому классу относится объект (какая у него метка, label).\n",
    "В нашем случае объектами будут выступать изображения, а классами — что изображено на картинке.\n"
   ]
  },
  {
   "cell_type": "code",
   "execution_count": null,
   "id": "1ef3b38a",
   "metadata": {
    "id": "1ef3b38a"
   },
   "outputs": [],
   "source": [
    "import torch\n",
    "import matplotlib.pyplot as plt"
   ]
  },
  {
   "cell_type": "markdown",
   "id": "342445d0",
   "metadata": {
    "id": "342445d0"
   },
   "source": [
    "При обучении модели для ускорения работы используем GPU (а в случае новых процессоров Apple Silicon - MPS). Для этого в pytorch используется концепция \"устройства\" (device): где хранятся данные и выполняются операции.\n",
    "\n",
    "Определим `DEVICE`:"
   ]
  },
  {
   "cell_type": "code",
   "execution_count": null,
   "id": "5438bb4c",
   "metadata": {
    "id": "5438bb4c"
   },
   "outputs": [],
   "source": [
    "DEVICE = torch.device(\"cuda\" if torch.cuda.is_available() else \"mps\" if torch.backends.mps.is_available() else \"cpu\")\n",
    "DEVICE"
   ]
  },
  {
   "cell_type": "markdown",
   "id": "f5cc19eb",
   "metadata": {
    "id": "f5cc19eb"
   },
   "source": [
    "Подготовим данные для обучения. Библиотека pytorch предоставляет удобные функции для загрузки и обработки популярных датасетов."
   ]
  },
  {
   "cell_type": "code",
   "execution_count": null,
   "id": "3c4eb4fc",
   "metadata": {
    "id": "3c4eb4fc"
   },
   "outputs": [],
   "source": [
    "from torchvision import transforms\n",
    "from torch.utils.data import DataLoader\n",
    "from torchvision.datasets import CIFAR10"
   ]
  },
  {
   "cell_type": "markdown",
   "id": "b37330cb",
   "metadata": {
    "id": "b37330cb"
   },
   "source": [
    "Загрузим популярный датасет CIFAR10: он содержит изображения 32x32 пикселей, разбитые на 10 классов; каждый класс записан как число, хотя он соотвествует конкретному классу (например, класс 0 — это изображения самолетов). Подробнее можно почитать [здесь](https://www.cs.toronto.edu/~kriz/cifar.html).\n",
    "\n",
    "Если первый раз запускаете, то придется подождать, пока данные скачаются и сохранятся локально. Повторное запуск кода не потребует этого.\n",
    "\n",
    "При загрузке сразу применим к данным преобразования: нормализуем и приведем к нужному виду."
   ]
  },
  {
   "cell_type": "code",
   "execution_count": null,
   "id": "814a08ce",
   "metadata": {
    "id": "814a08ce"
   },
   "outputs": [],
   "source": [
    "transform = transforms.Compose([\n",
    "    transforms.ToTensor(),\n",
    "    transforms.Normalize((0.5, 0.5, 0.5), (0.5, 0.5, 0.5))\n",
    "])\n",
    "train_dataset = CIFAR10(root='./data', train=True, transform=transform, download=True)\n",
    "test_dataset = CIFAR10(root='./data', train=False, transform=transform, download=True)"
   ]
  },
  {
   "cell_type": "markdown",
   "id": "31b9ab2d",
   "metadata": {
    "id": "31b9ab2d"
   },
   "source": [
    "Ещё одна концепция в pytorch - DataLoader. Она позволяет удобно подавать данные на вход модели батчами и, при необходимости, перемешивать их."
   ]
  },
  {
   "cell_type": "code",
   "execution_count": null,
   "id": "3128e5bd",
   "metadata": {
    "id": "3128e5bd"
   },
   "outputs": [],
   "source": [
    "batch_size = 64 # размер одного батча: сколько изображений будет подаваться на вход модели за один раз\n",
    "\n",
    "train_loader = DataLoader(train_dataset, batch_size=batch_size, shuffle=True, drop_last=True) # drop_last=True, чтобы не было батчей, которые меньше batch_size\n",
    "test_loader = DataLoader(test_dataset, batch_size=batch_size, shuffle=False, drop_last=True)"
   ]
  },
  {
   "cell_type": "markdown",
   "id": "c81dd5c7",
   "metadata": {
    "id": "c81dd5c7"
   },
   "source": [
    "Теперь пришло время определить модель. Определим архитектуру AlexNet, которая является одной из самых известных сверточных нейронных сетей и хорошо подходит для задач классификации изображений. AlexNet состоит из нескольких сверточных слоев и полносвязных слоев.\n",
    "\n",
    "Вот изображение архитектуры AlexNet (оно для другой задачи, в нашем случае размер входного изображения и количество классов отличаются, поэтому некоторые параметры в слоях изменились):\n",
    "\n",
    "![AlexNet](https://www.researchgate.net/publication/372113543/figure/fig4/AS:11431281220692710@1706534406530/Visualization-of-the-fine-tuned-AlexNet-architecture.png)\n",
    "\n",
    "[Ссылка](https://github.com/soapisnotfat/pytorch-cifar10/blob/master/models/AlexNet.py) на репозиторий, откуда был частично взят код\n"
   ]
  },
  {
   "cell_type": "code",
   "execution_count": null,
   "id": "4fd746f6",
   "metadata": {
    "id": "4fd746f6"
   },
   "outputs": [],
   "source": [
    "import torch.nn as nn # модуль для работы непосредственно с моделями\n",
    "import torch.nn.functional as F # модуль для работы с функциями активации\n",
    "\n",
    "class AlexNet(nn.Module):\n",
    "    def __init__(self, num_classes):\n",
    "        super(AlexNet, self).__init__()\n",
    "        self.features = nn.Sequential(\n",
    "            nn.Conv2d(3, 64, kernel_size=3, stride=2, padding=1),\n",
    "            nn.ReLU(inplace=True),\n",
    "            nn.MaxPool2d(kernel_size=2),\n",
    "            nn.Conv2d(64, 192, kernel_size=3, padding=1),\n",
    "            nn.ReLU(inplace=True),\n",
    "            nn.MaxPool2d(kernel_size=2),\n",
    "            nn.Conv2d(192, 384, kernel_size=3, padding=1),\n",
    "            nn.ReLU(inplace=True),\n",
    "            nn.Conv2d(384, 256, kernel_size=3, padding=1),\n",
    "            nn.ReLU(inplace=True),\n",
    "            nn.Conv2d(256, 256, kernel_size=3, padding=1),\n",
    "            nn.ReLU(inplace=True),\n",
    "            nn.MaxPool2d(kernel_size=3),\n",
    "        )\n",
    "        self.avgpool = nn.AdaptiveAvgPool2d((6, 6))\n",
    "        self.classifier = nn.Sequential(\n",
    "            nn.Dropout(p=0.5),\n",
    "            nn.Linear(256 * 6 * 6, 4096),\n",
    "            nn.ReLU(inplace=True),\n",
    "            nn.Dropout(p=0.5),\n",
    "            nn.Linear(4096, 4096),\n",
    "            nn.ReLU(inplace=True),\n",
    "            nn.Linear(4096, num_classes),\n",
    "        )\n",
    "\n",
    "    def forward(self, x):\n",
    "        x = self.features(x)\n",
    "        x = self.avgpool(x)\n",
    "        x = x.view(x.size(0), 256 * 6 * 6)\n",
    "        logits = self.classifier(x)\n",
    "        return logits"
   ]
  },
  {
   "cell_type": "markdown",
   "id": "3c154a74",
   "metadata": {
    "id": "3c154a74"
   },
   "source": [
    "Создадим модель"
   ]
  },
  {
   "cell_type": "code",
   "execution_count": null,
   "id": "fbe54473",
   "metadata": {
    "id": "fbe54473"
   },
   "outputs": [],
   "source": [
    "model = AlexNet(num_classes=...).to(DEVICE)\n",
    "# ВАШЕ РЕШЕНИЕ: заполните пропуски"
   ]
  },
  {
   "cell_type": "markdown",
   "id": "3151be09",
   "metadata": {
    "id": "3151be09"
   },
   "source": [
    "Теперь определим конкретный вид функции потерь. На выход модель выдает вектор предсказание распределения вероятностей между классами, истинный же вектор вероятностей — все нули, кроме единицы на месте соответствущем верному классу. Кросс-энтропия измеряет расстояние между этими распределениями."
   ]
  },
  {
   "cell_type": "code",
   "execution_count": null,
   "id": "41b8da98",
   "metadata": {
    "id": "41b8da98"
   },
   "outputs": [],
   "source": [
    "criterion = nn.CrossEntropyLoss() # отметим что функция потерь принимает на вход \"logits\", это уже учтено в нашей модели (нет применения softmax в конце)"
   ]
  },
  {
   "cell_type": "markdown",
   "id": "c3daa0c1",
   "metadata": {
    "id": "c3daa0c1"
   },
   "source": [
    "В качестве оптимизатора будем использовать стохастический градиентный спуск (SGD)."
   ]
  },
  {
   "cell_type": "code",
   "execution_count": null,
   "id": "0361cbb3",
   "metadata": {
    "id": "0361cbb3"
   },
   "outputs": [],
   "source": [
    "learning_rate = 0.01 # тот самый шаг оптимизации градиентного спуска\n",
    "optimizer = torch.optim.SGD(model.parameters(), lr=learning_rate)"
   ]
  },
  {
   "cell_type": "markdown",
   "id": "9f5e42c4",
   "metadata": {
    "id": "9f5e42c4"
   },
   "source": [
    "Реализуйте функцию для подсчета точности модели"
   ]
  },
  {
   "cell_type": "code",
   "execution_count": null,
   "id": "30276555",
   "metadata": {
    "id": "30276555"
   },
   "outputs": [],
   "source": [
    "# ВАШЕ РЕШЕНИЕ: заполните пропуски\n",
    "\n",
    "def test_model(model, loader):\n",
    "    model.eval()\n",
    "    correct = 0\n",
    "    total = 0\n",
    "    with torch.no_grad():\n",
    "        for images, labels in loader:\n",
    "            images, labels = images.to(DEVICE), labels.to(DEVICE)\n",
    "            outputs = model(images)\n",
    "            _, predicted = ...\n",
    "            total += ...\n",
    "            correct += ...\n",
    "    accuracy = ...\n",
    "    return accuracy"
   ]
  },
  {
   "cell_type": "markdown",
   "id": "10ea0c51",
   "metadata": {
    "id": "10ea0c51"
   },
   "source": [
    "Теперь подготовим функцию для полного цикла обучения модели. Она будет принимать модель, оптимизатор, функцию потерь и количество эпох, на выход будет выводить значение функции потерь и точность (на тренировочных и тестовых данных) на каждой эпохе."
   ]
  },
  {
   "cell_type": "code",
   "execution_count": null,
   "id": "a7e81068",
   "metadata": {
    "id": "a7e81068"
   },
   "outputs": [],
   "source": [
    "from tqdm import tqdm # для прогрессбара\n",
    "\n",
    "def train_model(model, optimizer, criterion, epochs):\n",
    "    train_losses = []\n",
    "    train_accuracies = []\n",
    "    test_accuracies = []\n",
    "\n",
    "    model.train()\n",
    "    for epoch in range(epochs):\n",
    "        with tqdm(total=len(train_loader), desc=f'Epoch {epoch+1}/{epochs}', leave=True) as pbar_batch:\n",
    "            for images, labels in train_loader:\n",
    "                images, labels = images.to(DEVICE), labels.to(DEVICE)\n",
    "                # ВАШЕ РЕШЕНИЕ: заполните пропуски\n",
    "                ...  # Обнуляем градиенты, иначе они будут прибавляться к предыдущим (метод optimizer)\n",
    "                outputs = ...  # Получаем предсказания модели\n",
    "                loss = ... # Вычисляем функцию потерь используя outputs и labels\n",
    "                ... # Вычисляем градиенты c помощью применения алгоритма обратного распространения к функции потерь (метод loss)\n",
    "                ... # Обновляем параметры модели --- делаем шаг оптимизатора (метод optimizer)\n",
    "\n",
    "                pbar_batch.update(1)\n",
    "\n",
    "            # ВАШЕ РЕШЕНИЕ: реализуйте подсчёт и логирование функции потерь и точности\n",
    "            # подсказка: чтобы получить только значение loss, используйте loss.item()\n",
    "            ...\n",
    "\n",
    "            print(f'Epoch {epoch+1}/{epochs}, Loss: {train_losses[-1]}, Train Accuracy: {train_accuracies[-1]}, Test Accuracy: {test_accuracies[-1]}')\n",
    "\n",
    "    return train_losses, train_accuracies, test_accuracies\n"
   ]
  },
  {
   "cell_type": "markdown",
   "id": "fe953463",
   "metadata": {
    "id": "fe953463"
   },
   "source": [
    "Теперь непосредственно запустим обучение модели"
   ]
  },
  {
   "cell_type": "code",
   "execution_count": null,
   "id": "5d955388",
   "metadata": {
    "id": "5d955388"
   },
   "outputs": [],
   "source": [
    "# обучение на А100 занимает порядка 4 минут. Если у вас одна эпоха по времени ранится дольше 14 секунд, то рекомендуем снизить количество эпох до 16\n",
    "train_losses, train_accuracies, test_accuracies = train_model(\n",
    "    model=model,\n",
    "    optimizer=optimizer,\n",
    "    criterion=criterion,\n",
    "    epochs=32\n",
    ")\n"
   ]
  },
  {
   "cell_type": "markdown",
   "id": "b888ae22",
   "metadata": {
    "id": "b888ae22"
   },
   "source": [
    "Постройте графики зависимости функции потерь и точности от номера эпохи."
   ]
  },
  {
   "cell_type": "code",
   "execution_count": null,
   "id": "1bcc8b10",
   "metadata": {
    "id": "1bcc8b10"
   },
   "outputs": [],
   "source": [
    "# ВАШЕ РЕШЕНИЕ:\n",
    "...\n"
   ]
  },
  {
   "cell_type": "markdown",
   "id": "c7f828d4",
   "metadata": {
    "id": "c7f828d4"
   },
   "source": [
    "__б). (1 балл)__ В этом пункте мы будем исследовать влияние случайного шума на качество распознавания модели."
   ]
  },
  {
   "cell_type": "markdown",
   "id": "fcf22e66",
   "metadata": {
    "id": "fcf22e66"
   },
   "source": [
    "Реализуйте функцию для добавления случайного шума из ограниченного шара.\n",
    "Имеется в виду, что к каждому пикселю изображения добавляется шум, который выбирается из какого-то распределения, которое ограничено по модулю `max_noise`.\n"
   ]
  },
  {
   "cell_type": "code",
   "execution_count": null,
   "id": "484aea42",
   "metadata": {
    "id": "484aea42"
   },
   "outputs": [],
   "source": [
    "# ВАШЕ РЕШЕНИЕ: заполните пропуски\n",
    "\n",
    "def add_random_noise(image, max_noise):\n",
    "    noise = ...\n",
    "    return image + noise"
   ]
  },
  {
   "cell_type": "markdown",
   "id": "d3daea4c",
   "metadata": {
    "id": "d3daea4c"
   },
   "source": [
    "Модифицируйте функцию для тестирования модели, чтобы она принимала на вход изображения с шумом."
   ]
  },
  {
   "cell_type": "code",
   "execution_count": null,
   "id": "7d462cac",
   "metadata": {
    "id": "7d462cac"
   },
   "outputs": [],
   "source": [
    "# ВАШЕ РЕШЕНИЕ: заполните пропуски\n",
    "\n",
    "def test_model_noise(model, loader, max_noise=0.1):\n",
    "    model.eval()\n",
    "    correct = 0\n",
    "    total = 0\n",
    "    with torch.no_grad():\n",
    "        for images, labels in loader:\n",
    "            images, labels = images.to(DEVICE), labels.to(DEVICE)\n",
    "            noisy_images = add_random_noise(images, max_noise)\n",
    "            outputs = model(noisy_images)  # Используем зашумленные изображения для предсказания\n",
    "            _, predicted = ...\n",
    "            total += ...\n",
    "            correct += ...\n",
    "    accuracy = ...\n",
    "    return accuracy\n"
   ]
  },
  {
   "cell_type": "markdown",
   "id": "f610576d",
   "metadata": {
    "id": "f610576d"
   },
   "source": [
    "Посмотрите, как изменилась точность на тестовых данных с и без добавления шума."
   ]
  },
  {
   "cell_type": "code",
   "execution_count": null,
   "id": "cf3d0a36",
   "metadata": {
    "id": "cf3d0a36"
   },
   "outputs": [],
   "source": [
    "# ВАШЕ РЕШЕНИЕ:\n",
    "..."
   ]
  },
  {
   "cell_type": "markdown",
   "id": "616cb073",
   "metadata": {
    "id": "616cb073"
   },
   "source": [
    "__в). (1 балл)__ Изучите статью о добавлении специализированного шума, реализуйте метод из статьи и посмотрите изменения в точности."
   ]
  },
  {
   "cell_type": "markdown",
   "id": "20996688",
   "metadata": {
    "id": "20996688"
   },
   "source": [
    "В [статье](https://arxiv.org/pdf/1312.6199) подробно разбираются так называемые adversarial attacks, цель которых - добавить шум, который максимально затруднит распознавание модели, при этом будет мало заметен для человека. Изучите статью и реализуйте один из методов добавления шума."
   ]
  },
  {
   "cell_type": "code",
   "execution_count": null,
   "id": "f65b4590",
   "metadata": {
    "id": "f65b4590"
   },
   "outputs": [],
   "source": [
    "# ВАШЕ РЕШЕНИЕ: заполните пропуски\n",
    "\n",
    "def add_adversarial_noise(images,  model=..., max_noise=...):\n",
    "    ..."
   ]
  },
  {
   "cell_type": "markdown",
   "id": "b45d971c",
   "metadata": {
    "id": "b45d971c"
   },
   "source": [
    "Посмотрите, как изменилась точность на тестовых данных с и без добавления шума."
   ]
  },
  {
   "cell_type": "code",
   "execution_count": null,
   "id": "9af99f7a",
   "metadata": {
    "id": "9af99f7a"
   },
   "outputs": [],
   "source": [
    "# ВАШЕ РЕШЕНИЕ:\n",
    "..."
   ]
  },
  {
   "cell_type": "markdown",
   "id": "81c98922",
   "metadata": {
    "id": "81c98922"
   },
   "source": [
    "__г). (6 баллов)__ Добавим подъём по шуму.\n",
    "\n"
   ]
  },
  {
   "cell_type": "markdown",
   "id": "MDUaGeSGN_Oe",
   "metadata": {
    "id": "MDUaGeSGN_Oe"
   },
   "source": [
    "До этого момента наша задача выглядела вот так\n",
    "$$\n",
    "\\min_{x \\in \\mathbb{R}} \\left[ \\frac{1}{n} \\sum_{i=1}^n L\\big(g(x, a_i),b_i\\big) \\right]\n",
    "$$\n",
    "где $a_i$ — входные данные, $b_i$ — метки, $g(\\cdot, \\cdot)$ — модель, $x$ — параметры модели, $L(\\cdot,\\cdot)$ — функция потерь.\n",
    "\n",
    "Теперь добавим дополнительно $y_i$ — шум модели для изображения $i$.\n",
    "\n",
    "Задача будет выглядеть вот так\n",
    "$$\n",
    "\\min_{x \\in \\mathbb{R}} \\max_{y \\in [-\\epsilon,+\\epsilon]^n} \\left[ \\frac{1}{n} \\sum_{i=1}^n L\\big(g(x, a_i + y_i),b_i\\big) \\right]\n",
    "$$"
   ]
  },
  {
   "cell_type": "markdown",
   "id": "39e57e9a",
   "metadata": {
    "id": "39e57e9a"
   },
   "source": [
    "В прошлых пунктах мы заметили, что добавление малозаметного случайного шума может значительно изменять ответы модели. Логично ожидать, что модель будет устойчива к небольшим и незаметным изменениям входных данных (в каком-то смысле робастность модели, устойчивость к шуму). А если добавлять шум специализированным образом, это может привести к тому, что модель будет выдавать неправильные ответы практически везде.\n",
    "\n",
    "Мы стремимся улучшить качество нашей модели, подбирая наиболее \"плохой\" шум и обучая модель как на обычных, так и на зашумленных изображениях. Мы будем обучать шум отдельно для каждого изображения."
   ]
  },
  {
   "cell_type": "markdown",
   "id": "8da71035",
   "metadata": {
    "id": "8da71035"
   },
   "source": [
    "Создадим тензор, который для каждого батча изображений будет хранить шум для каждого изображения в батче."
   ]
  },
  {
   "cell_type": "code",
   "execution_count": null,
   "id": "771caadb",
   "metadata": {
    "id": "771caadb"
   },
   "outputs": [],
   "source": [
    "# ВАШЕ РЕШЕНИЕ: заполните пропуски\n",
    "\n",
    "noise_per_image = torch.empty(len(train_loader), train_loader.batch_size, 3, 32, 32).to(DEVICE)\n",
    "# пояснение:\n",
    "# len(train_loader) - количество батчей в train_loader\n",
    "# train_loader.batch_size - размер батча\n",
    "# 3 - количество каналов в изображении (RGB)\n",
    "# 32, 32 - размер изображения\n",
    "\n",
    "# напоминание: выше мы специально указали в train_loader drop_last=True,\n",
    "# чтобы не было батчей, которые меньше batch_size; это оказалось очень полезно сейчас\n",
    "\n",
    "for i, (images, labels) in enumerate(train_loader):\n",
    "    noise_per_image[i] = ... # используйте функцию add_random_noise"
   ]
  },
  {
   "cell_type": "markdown",
   "id": "e6ef372d",
   "metadata": {
    "id": "e6ef372d"
   },
   "source": [
    "Создадим оптимизатор для нашего тензора шума. Подумайте, как сделать так, чтобы оптимизатор именно поднимался по шуму (то есть увеличивал значение функции потерь)."
   ]
  },
  {
   "cell_type": "code",
   "execution_count": null,
   "id": "40bce310",
   "metadata": {
    "id": "40bce310"
   },
   "outputs": [],
   "source": [
    "# ВАШЕ РЕШЕНИЕ:\n",
    "\n",
    "noise_optimizer = torch.optim.SGD([noise_per_image], lr=0.01) # здесь свой lr, который не обязательно должен быть такой же, как и для модели\n",
    "\n",
    "# Изменим направление градиента для подъема по шуму\n",
    "... # подсказка: изучите как хранится lr в noise_optimizer (google, первые ссылки)\n",
    "\n",
    "\n",
    "# отметим, что \"по-хорошему\" мы должны были бы сделать отдельный оптимизатор для шума,\n",
    "# в котором сразу будет подъем и проекция, но мы не будем этого делать, чтобы не усложнять\n",
    "# но если хотите, можете попробовать!"
   ]
  },
  {
   "cell_type": "markdown",
   "id": "b85769b3",
   "metadata": {
    "id": "b85769b3"
   },
   "source": [
    "Теперь модернизируйте функцию `train_model_noise`, добавив в цикл обучения градиентный подъём по шуму для каждого класса изображений отдельно.\n",
    "\n",
    "Остановимся здесь чуть подробнее. В каждом цикле обучения добавятся следующие шаги:\n",
    "- Обучение модели на исходном батче изображений\n",
    "- Шаг оптимизатора модели\n",
    "- Обучение модели на модифицированном с помощью шума батче изображений\n",
    "- Шаг оптимизатора модели\n",
    "- Обновление шума:\n",
    "    - Шаг оптимизатора шума\n",
    "    - Проекция шума на шар"
   ]
  },
  {
   "cell_type": "code",
   "execution_count": null,
   "id": "0c0cb358",
   "metadata": {
    "id": "0c0cb358"
   },
   "outputs": [],
   "source": [
    "# ВАШЕ РЕШЕНИЕ: заполните пропуски\n",
    "\n",
    "def train_model_noise(model, optimizer, noise, noise_optimizer, criterion, epochs, max_noise=0.1):\n",
    "    train_losses = []\n",
    "    train_accuracies = []\n",
    "    test_accuracies = []\n",
    "    test_noise_accuracies = []\n",
    "\n",
    "    for epoch in range(epochs):\n",
    "        with tqdm(total=len(train_loader), desc=f'Epoch {epoch+1}/{epochs}', leave=True) as pbar_batch:\n",
    "            for i, (images, labels) in enumerate(train_loader):\n",
    "                images, labels = images.to(DEVICE), labels.to(DEVICE)\n",
    "                # ВАШЕ РЕШЕНИЕ: заполните пропуски\n",
    "                # Обучение модели на исходном изображении, как раньше\n",
    "                ...\n",
    "\n",
    "                # Обучение модели на модифицированном изображении с шумом\n",
    "                ...\n",
    "\n",
    "\n",
    "            # ВАШЕ РЕШЕНИЕ: реализуйте подсчёт и логирование функции потерь и точности\n",
    "            ...\n",
    "\n",
    "            print(f'Epoch {epoch+1}/{epochs}, Loss: {train_losses[-1]}, Train Accuracy: {train_accuracies[-1]}, Test Accuracy: {test_accuracies[-1]}, Test Noise Accuracy: {test_noise_accuracies[-1]}')\n"
   ]
  },
  {
   "cell_type": "markdown",
   "id": "001e3369",
   "metadata": {
    "id": "001e3369"
   },
   "source": [
    "Не забудем создать новый экземпляр модели и оптимизатор для нее"
   ]
  },
  {
   "cell_type": "code",
   "execution_count": null,
   "id": "89db8fb2",
   "metadata": {
    "id": "89db8fb2"
   },
   "outputs": [],
   "source": [
    "# ВАШЕ РЕШЕНИЕ: заполните пропуски\n",
    "\n",
    "model_noise = ...\n",
    "optimizer_noise = ..."
   ]
  },
  {
   "cell_type": "markdown",
   "id": "72f17d60",
   "metadata": {
    "id": "72f17d60"
   },
   "source": [
    "Теперь запустим обучение модели (учтите для чистоты эксперимента, что мы делаем два шага для модели: на обычных изображениях и на модифицированных с помощью шума, поэтому количество эпох должно быть в два раза меньше, чем для обычной модели)"
   ]
  },
  {
   "cell_type": "code",
   "execution_count": null,
   "id": "aea87fbf",
   "metadata": {
    "id": "aea87fbf"
   },
   "outputs": [],
   "source": [
    "# ВАШЕ РЕШЕНИЕ: заполните пропуски\n",
    "\n",
    "train_losses, train_accuracies, test_accuracies, test_noise_accuracies = train_model_noise(\n",
    "    model=...,\n",
    "    optimizer=...,\n",
    "    noise=...,\n",
    "    noise_optimizer=...,\n",
    "    criterion=...,\n",
    "    epochs=16, # возьмите в два раза меньше, чем брали для обычной модели\n",
    "    max_noise=0.1\n",
    ")"
   ]
  },
  {
   "cell_type": "markdown",
   "id": "5f78c14b",
   "metadata": {
    "id": "5f78c14b"
   },
   "source": [
    "Постройте графики зависимости функции потерь и точности от номера эпохи. Постройте на одном графике точность на обычных и модифицированных с помощью шума изображениях."
   ]
  },
  {
   "cell_type": "code",
   "execution_count": null,
   "id": "dbb62549",
   "metadata": {
    "id": "dbb62549"
   },
   "outputs": [],
   "source": [
    "# ВАШЕ РЕШЕНИЕ:\n",
    "..."
   ]
  },
  {
   "cell_type": "markdown",
   "id": "ff1ed23a",
   "metadata": {
    "id": "ff1ed23a"
   },
   "source": [
    "Убедитесь, что модель стала более робастной. Что можно сказать о результатах?"
   ]
  },
  {
   "cell_type": "markdown",
   "id": "51f93247",
   "metadata": {
    "id": "51f93247"
   },
   "source": [
    "**ВАШЕ РЕШЕНИЕ**"
   ]
  }
 ],
 "metadata": {
  "colab": {
   "provenance": []
  },
  "kernelspec": {
   "display_name": "Python 3 (ipykernel)",
   "language": "python",
   "name": "python3"
  },
  "language_info": {
   "codemirror_mode": {
    "name": "ipython",
    "version": 3
   },
   "file_extension": ".py",
   "mimetype": "text/x-python",
   "name": "python",
   "nbconvert_exporter": "python",
   "pygments_lexer": "ipython3",
   "version": "3.11.5"
  }
 },
 "nbformat": 4,
 "nbformat_minor": 5
}

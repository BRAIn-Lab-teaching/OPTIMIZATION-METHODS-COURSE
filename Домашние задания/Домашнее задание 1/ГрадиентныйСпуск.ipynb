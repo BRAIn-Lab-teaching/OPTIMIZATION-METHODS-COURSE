{
 "cells": [
  {
   "cell_type": "markdown",
   "id": "z99xutniDnmb",
   "metadata": {
    "id": "z99xutniDnmb"
   },
   "source": [
    "# Градиентрый спуск"
   ]
  },
  {
   "cell_type": "markdown",
   "id": "xjavq9U05AHT",
   "metadata": {
    "id": "xjavq9U05AHT"
   },
   "source": [
    "## Основная часть"
   ]
  },
  {
   "cell_type": "markdown",
   "id": "7bbcf83c",
   "metadata": {
    "id": "7bbcf83c"
   },
   "source": [
    "__Задача 1. (всего 5 баллов)__ Рассмотрим следуюущую задачу оптимизации:\n",
    "\n",
    "\\begin{equation}\n",
    "\\min_{x \\in \\mathbb{R}^d} \\left[f(x) := \\tfrac{1}{2} x^T A x - b^T x\\right],\n",
    "\\end{equation}\n",
    "где $A \\in \\mathbb{R}^{d \\times d}$, такая, что $A + A^T$ - положительно определенная матрица, $b \\in \\mathbb{R}^d$."
   ]
  },
  {
   "cell_type": "markdown",
   "id": "4880947a",
   "metadata": {
    "id": "4880947a"
   },
   "source": [
    "__а). (0.5 балла)__ Докажите, что константа сильной выпуклости для этой задачи $\\mu = \\frac{1}{2} \\lambda_{\\min} \\left(A + A^T\\right)$, где $\\lambda_{\\min}(A)$ - минимальное собственное значение матрицы $A$."
   ]
  },
  {
   "cell_type": "markdown",
   "id": "bb5a8bc4",
   "metadata": {},
   "source": [
    "__Ваше решение__"
   ]
  },
  {
   "cell_type": "markdown",
   "id": "iCYVXW9P8QKj",
   "metadata": {
    "id": "iCYVXW9P8QKj"
   },
   "source": [
    "__б). (0.5 балла)__ Докажите, что константа Липшица для данной задачи $L = \\frac{1}{2}\\lambda_{\\max}\\left(A + A^T\\right)$, где $\\lambda_{max}(A)$ - максимально собственное значние матрицы $A$."
   ]
  },
  {
   "cell_type": "markdown",
   "id": "50290109",
   "metadata": {},
   "source": [
    "__Ваше решение__"
   ]
  },
  {
   "cell_type": "markdown",
   "id": "07e3461a",
   "metadata": {
    "id": "07e3461a"
   },
   "source": [
    "__в). (1 балл)__ Предложите способ генерации матрицы $А$ так, чтобы $f$ была сильно выпуклой, а также можно было задавать и менять $d, \\mu, L$. Докажите, что способ корректен. \n",
    "\n",
    "_Hint:_ Диагональная матрица даст только 0.25 балла в данном пункте."
   ]
  },
  {
   "cell_type": "markdown",
   "id": "3e80706b",
   "metadata": {},
   "source": [
    "__Ваше решение__"
   ]
  },
  {
   "cell_type": "code",
   "execution_count": 1,
   "id": "3063dbd5",
   "metadata": {},
   "outputs": [],
   "source": [
    "#Ваше решение"
   ]
  },
  {
   "cell_type": "markdown",
   "id": "7988d2fb",
   "metadata": {
    "id": "7988d2fb"
   },
   "source": [
    "__г). (0.5 балла)__  Реализуйте метод градиетного спуска:\n",
    "\\begin{equation}\n",
    "x_{k+1} = x_k - \\gamma_k \\nabla f(x_k),\n",
    "\\end{equation}\n",
    "для квадратичной функции с матрицей, которую сгенерировали выше, и произвольным ненулевым вектором $b$.\n",
    "\n",
    "Используйте предложенную функцию для реализации алгоритма и допишите недостающие фрагменты. После чего для проверки загрузите функцию в [контест](https://contest.yandex.ru/contest/66540/enter/)."
   ]
  },
  {
   "cell_type": "code",
   "execution_count": null,
   "id": "CXQOQ8V79BkE",
   "metadata": {
    "id": "CXQOQ8V79BkE"
   },
   "outputs": [],
   "source": [
    "from tqdm.autonotebook import tqdm\n",
    "import numpy as np\n",
    "\n",
    "def GradientDescent(grad, criterion, x_0, eps, max_iter, **params):\n",
    "\n",
    "    '''\n",
    "       grad(x) - функция, которая считает градиент целевой функции;\n",
    "       criterion(x) - функция, которая считает критерий;\n",
    "       x_0 - начальная точка;\n",
    "       eps - точность сходимости (обычно 1e-8);\n",
    "       max_iter - количество итераций;\n",
    "       **params - содержит именнованные гиперпараметры метода:\n",
    "           params['gamma'](k) - шаг, зависящий от номера итерации.\n",
    "    '''\n",
    "\n",
    "    errors = []\n",
    "\n",
    "    x_k = np.copy(x_0)\n",
    "    err_x_0 = criterion(x_k)\n",
    "    errors.append(criterion(x_k) / err_x_0)\n",
    "    for k in tqdm(range(max_iter)):\n",
    "\n",
    "        # your code\n",
    "\n",
    "        errors.append(criterion(x_k) / err_x_0)\n",
    "        if errors[-1] < eps:\n",
    "            break\n",
    "\n",
    "    return x_k, errors"
   ]
  },
  {
   "cell_type": "code",
   "execution_count": 3,
   "id": "a628d320",
   "metadata": {
    "id": "a628d320"
   },
   "outputs": [],
   "source": [
    "#ваше решение"
   ]
  },
  {
   "cell_type": "markdown",
   "id": "57962249",
   "metadata": {
    "id": "57962249"
   },
   "source": [
    "__д). (0.5 балла)__ Для задачи с $d = 50$, $\\mu = 1$ и $L = 100$ найдите точное решение $x^*$ - выпишите формулу для решения в явном виде, а затем, реализуйте, например, с помощью пакетов линейной алгебры (есть встроенный в numpy)."
   ]
  },
  {
   "cell_type": "markdown",
   "id": "7343ffd3",
   "metadata": {},
   "source": [
    "__Ваше решение__"
   ]
  },
  {
   "cell_type": "code",
   "execution_count": 4,
   "id": "8fdeb19e",
   "metadata": {
    "id": "8fdeb19e"
   },
   "outputs": [],
   "source": [
    "#ваше решение"
   ]
  },
  {
   "cell_type": "markdown",
   "id": "L9ql_LKDGm-O",
   "metadata": {
    "id": "L9ql_LKDGm-O"
   },
   "source": [
    "__е). (1.5 балл)__ Запустите градиентный спуск на $10^3$ итераций с шагом $\\gamma_k = \\tfrac{1}{L}$ и произвольной начальной точкой $x^0$ (если $b$ ненулевой, то можно взять нулевой $x^0$). Проверьте сходится ли он. В качестве критерия сходимости используйте $\\| x_k - x^*\\|^2_2$. Постройте график сходимости:\n",
    "- по оси абцисс - номер итерации, по ординат - значения критерия на этой итерации.\n",
    "\n",
    "Следите за оформлением графиков: размер графика, масштаб осей (обычный или логарифмический), подписи осей (в том числе размер), легенда (если на графике не одна линия), толщина линий и т.д.. Графики должны быть удобны для чтения."
   ]
  },
  {
   "cell_type": "code",
   "execution_count": 5,
   "id": "b8xsDQZfG1HX",
   "metadata": {
    "id": "b8xsDQZfG1HX"
   },
   "outputs": [],
   "source": [
    "#ваше решение"
   ]
  },
  {
   "cell_type": "markdown",
   "id": "32dcc009",
   "metadata": {},
   "source": [
    "Аналогично предыдущему пункту постройте график сходимости, на котором \n",
    "- по оси абцисс - номер итерации, по ординат - логарифм значения критерия на этой итерации.\n",
    "\n",
    "Следите за оформлением графиков: размер графика, масштаб осей (обычный или логарифмический), подписи осей (в том числе размер), легенда (если на графике не одна линия), толщина линий и т.д.. Графики должны быть удобны для чтения."
   ]
  },
  {
   "cell_type": "code",
   "execution_count": 6,
   "id": "0853af4a",
   "metadata": {},
   "outputs": [],
   "source": [
    "#ваше решение"
   ]
  },
  {
   "cell_type": "markdown",
   "id": "abfa3903",
   "metadata": {},
   "source": [
    "Сделайте вывод о характере сходимости."
   ]
  },
  {
   "cell_type": "markdown",
   "id": "98d7613a",
   "metadata": {},
   "source": [
    "__Ваше решение__"
   ]
  },
  {
   "cell_type": "markdown",
   "id": "7a1237aa",
   "metadata": {
    "id": "7a1237aa"
   },
   "source": [
    "__ж). (0.5 балла)__ Добавьте на оба графика теоретическую сходимость, полученную на лекции. Добавьте легенду, чтобы можно было отличить, какой график за что отвечает. \n",
    "\n",
    "Сравните со сходимостью, полученной в прошлом пункте, и объясните результат."
   ]
  },
  {
   "cell_type": "code",
   "execution_count": 7,
   "id": "a6e52a92",
   "metadata": {
    "id": "a6e52a92"
   },
   "outputs": [],
   "source": [
    "#ваше решение"
   ]
  },
  {
   "cell_type": "markdown",
   "id": "1159dbb0",
   "metadata": {},
   "source": [
    "__Ваше решение__"
   ]
  },
  {
   "cell_type": "markdown",
   "id": "p1wW2JWQELat",
   "metadata": {
    "id": "p1wW2JWQELat"
   },
   "source": [
    "## Дополнительная часть"
   ]
  },
  {
   "cell_type": "markdown",
   "id": "1005bac7",
   "metadata": {},
   "source": [
    "__Задача 2. (всего 5 баллов)__ Исследуйте другие способы подбора шага:\n",
    "\n",
    "__а). (0.75 балла)__ Попробуйте метод с разными шагами (но постоянными в одном запуске) $\\gamma_k = \\gamma$. Проверьте диапозон от $0$ до $3/L$, а также $\\gamma = \\frac{2}{\\mu + L}$ Нанесите все новые запуски на график (теоретическую сходимость можно убрать). На каком шаге получен наибыстрейший результат? Как думаете почему?"
   ]
  },
  {
   "cell_type": "code",
   "execution_count": 8,
   "id": "fac7c1ce",
   "metadata": {},
   "outputs": [],
   "source": [
    "#ваше решение"
   ]
  },
  {
   "cell_type": "markdown",
   "id": "5230d7df",
   "metadata": {},
   "source": [
    "__Ваше решение__"
   ]
  },
  {
   "cell_type": "markdown",
   "id": "1a4fa073",
   "metadata": {
    "id": "1a4fa073"
   },
   "source": [
    "__б). (0.75 балла)__ Уменьшающийся с номером итерации шаг: $\\gamma_k = \\frac{\\gamma}{\\delta + k}$ или $\\gamma_k = \\frac{\\gamma}{\\delta + \\sqrt{k}}$, где $\\gamma$ и $\\delta$ нужно подобрать отдельно. Какая конфигурация $\\gamma$ и $\\delta$ показала наилучший результат?"
   ]
  },
  {
   "cell_type": "code",
   "execution_count": 9,
   "id": "f0d33478",
   "metadata": {
    "id": "f0d33478"
   },
   "outputs": [],
   "source": [
    "#ваше решение"
   ]
  },
  {
   "cell_type": "markdown",
   "id": "b4b67cfd",
   "metadata": {},
   "source": [
    "__Ваше решение__"
   ]
  },
  {
   "cell_type": "markdown",
   "id": "c8e8d2c4",
   "metadata": {},
   "source": [
    "__в). (1.5 балла)__ Наискорейший спуск: $\\gamma_k = \\arg\\min_{\\gamma} f(x_k - \\gamma \\nabla f(x_k))$. Как будете вычислять значение $\\gamma_k$ в данном случае?\n",
    "\n",
    "_Hint: является ли одномерная задача на $\\gamma$ выпуклой? Является ли выпуклая функция унимодальной?_"
   ]
  },
  {
   "cell_type": "markdown",
   "id": "f208ed9e",
   "metadata": {},
   "source": [
    "__Ваше решение__"
   ]
  },
  {
   "cell_type": "code",
   "execution_count": 10,
   "id": "d712b217",
   "metadata": {},
   "outputs": [],
   "source": [
    "#ваше решение"
   ]
  },
  {
   "cell_type": "markdown",
   "id": "36343f1a",
   "metadata": {},
   "source": [
    "__Ваше решение__"
   ]
  },
  {
   "cell_type": "markdown",
   "id": "bd683727",
   "metadata": {},
   "source": [
    "__г). (0.75 балла)__ Шаг Поляка-Шора: $\\gamma_k = \\tfrac{f(x^k) - f(x^*)}{\\alpha \\|\\nabla f(x^k)\\|^2_2}$, где $\\alpha \\geq 1$ нужно подобрать отдельно. Какое $\\alpha$ дало лучший результат?"
   ]
  },
  {
   "cell_type": "code",
   "execution_count": 11,
   "id": "afd1e8eb",
   "metadata": {},
   "outputs": [],
   "source": [
    "#ваше решение"
   ]
  },
  {
   "cell_type": "markdown",
   "id": "d05c45f1",
   "metadata": {},
   "source": [
    "__Ваше решение__"
   ]
  },
  {
   "cell_type": "markdown",
   "id": "sE3qqzu9Et0M",
   "metadata": {
    "id": "sE3qqzu9Et0M"
   },
   "source": [
    "__д). (1.25 балла)__ Сравните все указанные выше подходы подбора шага между собой (в том числе из основной части).\n",
    "Для этого постройте график сходимости, где \n",
    "- по оси абцисс - номер итерации, по ординат - логарифм значения критерия"
   ]
  },
  {
   "cell_type": "code",
   "execution_count": 12,
   "id": "rmst8f0qEweN",
   "metadata": {
    "id": "rmst8f0qEweN"
   },
   "outputs": [],
   "source": [
    "#ваше решение"
   ]
  },
  {
   "cell_type": "markdown",
   "id": "20af1e4b",
   "metadata": {},
   "source": [
    "Аналогично предыдущему пункту постройте график, где\n",
    "- по оси абцисс - время от начала старта алгоритма, по ординат - логарифм значения критерия"
   ]
  },
  {
   "cell_type": "code",
   "execution_count": 13,
   "id": "deb13b84",
   "metadata": {},
   "outputs": [],
   "source": [
    "#ваше решение"
   ]
  },
  {
   "cell_type": "markdown",
   "id": "0de969ee",
   "metadata": {},
   "source": [
    "При какой из техник подбора шага градиентный спуск сходится быстрее по итерационной сложности?\n",
    "\n",
    "Какая техника подбора шага показала наилучший результат с вычислительной стороны (по времени работы алгоритма)?"
   ]
  },
  {
   "cell_type": "markdown",
   "id": "a686efc5",
   "metadata": {},
   "source": [
    "__Ваше решение__"
   ]
  }
 ],
 "metadata": {
  "colab": {
   "provenance": []
  },
  "kernelspec": {
   "display_name": "Python 3 (ipykernel)",
   "language": "python",
   "name": "python3"
  },
  "language_info": {
   "codemirror_mode": {
    "name": "ipython",
    "version": 3
   },
   "file_extension": ".py",
   "mimetype": "text/x-python",
   "name": "python",
   "nbconvert_exporter": "python",
   "pygments_lexer": "ipython3",
   "version": "3.11.5"
  }
 },
 "nbformat": 4,
 "nbformat_minor": 5
}

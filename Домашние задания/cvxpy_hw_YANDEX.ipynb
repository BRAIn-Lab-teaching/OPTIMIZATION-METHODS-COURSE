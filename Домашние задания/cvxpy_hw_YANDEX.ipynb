{
 "cells": [
  {
   "cell_type": "markdown",
   "metadata": {},
   "source": [
    "### Домашнее задание. День 5: CVXPY\n",
    "\n",
    "- Выполняйте работу в этом же ноутбуке\n",
    "\n",
    "- Рекомендуется использовать темную тему в ноутбуке\n",
    "\n",
    "- В некоторых заданиях вам даны ассерты для проверки правильности кода\n"
   ]
  },
  {
   "cell_type": "code",
   "execution_count": 1,
   "metadata": {},
   "outputs": [],
   "source": [
    "import numpy as np\n",
    "import cvxpy as cp\n",
    "import scipy"
   ]
  },
  {
   "cell_type": "markdown",
   "metadata": {},
   "source": [
    "$\\color{orange} \\text{Задание 1.} $ Дана некая матрица $B = x_1A_1 + x_2A_2 + ... + x_n A_n$. То есть, матрица $B$ - линейная комбинация матриц $A_i$. В этом задании мы попробуем решить задачу поиска коэфициентов $x_i$ используя библиотеку CVXPY. \\\n",
    "Пусть $A,B \\in R^{\\,p \\times q}, n = 6, p = 10, q = 30$\\\n",
    "Вам нужно:\n",
    "1. Сформулировать задачу как задачу минимизации\n",
    "3. Решить сгенерированную нами задачу, используя библиотеку CVXPY, вывести и проверить ответ\n",
    "4. Добавить ограничение: $||x||_2<=3$. Решить ту же задачу, что раньше, но с новым ограничением. Вывести и проверить ответ"
   ]
  },
  {
   "cell_type": "code",
   "execution_count": 4,
   "metadata": {},
   "outputs": [],
   "source": [
    "n = 6\n",
    "p = 10\n",
    "q = 30\n",
    "A_i = []\n",
    "for i in range(n):\n",
    "    A_i.append(np.random.randn(p, q))\n",
    "\n",
    "B = np.zeros((p, q))\n",
    "for i in range(n):\n",
    "    B += (np.random.rand()*6-3) * A_i[i]"
   ]
  },
  {
   "cell_type": "code",
   "execution_count": null,
   "metadata": {},
   "outputs": [],
   "source": [
    "# Ваш код тут"
   ]
  },
  {
   "attachments": {
    "image.png": {
     "image/png": "[encoded data removed]"
    }
   },
   "cell_type": "markdown",
   "metadata": {},
   "source": [
    "$\\color{orange} \\text{Задание 2.}$ Рассмотрим задачу максимального разреза графа. Дан связный ненаправленный граф с $N$ вершинами. Между некоторыми вершинами имеется ребро заданного веса $w_{ij}$. __Задача__: распределить вершины на две группы так, чтобы максимизировать сумму весов всех ребер, которые соединяют вершины в разных группах (одна вершина в группе А, другая вершина в группе Б)\n",
    "\n",
    "Эта задача имеет довольно большое число различных применений на практике. \\\n",
    "Один из очень простых игрушечных примеров для понимания сути: предположим есть набор компьютеров. Некоторые из них имеют друг с другом связь (по проводу или беспроводу), другие нет. \\\n",
    "У нас есть две разные задачи, под которые мы хотим распределить компьютеры (и работающих за ними людей). Задачи связаны, так что обе группы компьютеров должны иметь связь друг с другом. Всякое бывает, и связь между 2 (а может и больше) компьютерами (любыми) может пропасть. \\\n",
    "Наша задача разделить компьютеры на эти группы так, чтобы минимизировать риски от пропажи связи между случайными компьютерами. \\\n",
    "Как решение, мы можем присвоить вес 1 всем ребрам, и решить задачу максимального разреза графа. Так как вес всех ребер равен 1, то задача реформулируется так: разделить компьютеры на 2 группы так, чтобы максимизировать число ребер (ведь сумма весов равна сумме ребер в нашем случае) между компьютерами в разных группах. Как раз то, что нам нужно. Интуитивно ясно, что чем больше соединений между группами, тем меньше шанс остаться без связи между группами\n",
    "\n",
    "На рисунке можно посмотреть пример максимального разреза, когда у каждого ребра вес 1. То есть, мы максимизируем суммарное число ребер из вершин одного набора в вершины другого набора\n",
    "\n",
    "![image.png](attachment:image.png)"
   ]
  },
  {
   "cell_type": "markdown",
   "metadata": {},
   "source": [
    "Будем работать с графом $G = (V, E)$, где $V$ - множество вершин, $E$ - множество ребер. $N$ - число вершин.\\\n",
    " $w_{ij}$ - вес ребра $(i,j) \\in E$. 0, если ребра нет\\\n",
    " $S, \\hat{S}$ - непересекающиеся множества вершин в первой и второй группах.\\\n",
    " $x_i  = \\left\\{ \\begin{array}{cl} 1 & : \\ x_i \\in S \\\\-1 & : \\ x_i \\in \\hat{S}\\end{array} \\right.$\\\n",
    " То есть $x_i$ показывает, в какой из двух групп находится вершина. Эту переменную (вектор) мы и хотим найти"
   ]
  },
  {
   "cell_type": "markdown",
   "metadata": {},
   "source": [
    "Наша задача может быть записана как задача целочисленного квадратичного программирования:\n",
    "$$\n",
    "\\begin{align*}\n",
    "& \\max_x \\frac{1}{2} \\sum_{i}^{N} \\sum_{j}^{N} w_{ij} \\frac{(1-x_i x_j)}{2} \\\\\n",
    "& \\text{s.t. } x_i \\in \\{1, -1\\}, \\forall i \\in V\n",
    "\\end{align*}\n",
    "$$\n"
   ]
  },
  {
   "cell_type": "markdown",
   "metadata": {},
   "source": [
    "$\\frac{(1-x_i x_j)}{2}$ равно единице только когда обе вершины находятся в разных группах, в противном случае 0. Поэтому мы максимизируем как раз сумму весов тех ребер, что соединяют вершины из разных групп. Деление на два происходит из-за того, что каждое ребро считается два раза."
   ]
  },
  {
   "cell_type": "markdown",
   "metadata": {},
   "source": [
    "Основная проблема заключается в том, что без модификаций это NP-трудная задача, для которой не известен алгоритм решения за полиномиальное время. Для их решения, обычно проводится релаксация (изменение) условия таким образом, что бы получилась новая NP-полная задача (для которой известен алгоритм решения за полиномиальное время), решение которой близко к настоящему решению\n",
    "\n",
    "Конкретнее, предположим что $c_{optimal}$ - это значение целевой функции при решении изначальной задачи любым алгоритмом. Назовем некий алгоритм $\\delta$-приблизительным, если он выдает оптимальное значение целевой функции $c_{approximate} \\ge \\delta c_{optimal}$. Чем ближе $\\delta$ к 1, тем лучше. К примеру, алгоритм, который случайно делит вершины графа на две группы, является 0.5-приблизительным. Мы же выведем 0.875-приблизительный алгоритм."
   ]
  },
  {
   "cell_type": "markdown",
   "metadata": {},
   "source": [
    "Для этого, мы сведем оригинальную задачу целочисленного квадратичного программирования к такой задаче, которую мы знаем как решать (удостоверившись, что решение этой задачи не даст решение оптимальнее, чем настоящее, что логично), путем релаксации."
   ]
  },
  {
   "cell_type": "markdown",
   "metadata": {},
   "source": [
    "Мы сделаем релаксацию к задаче полуопределенного программирования, которая в общем виде задается следующим образом:\n",
    "$$\n",
    "\\begin{align*}\n",
    "& \\min_X \\langle C, X \\rangle \\\\\n",
    "& \\text{s.t. } \\langle A_i, X \\rangle \\le b_i, \\forall i \\in V \\\\\n",
    "& X \\succeq 0\n",
    "\\end{align*}\n",
    "$$\n",
    "\n",
    "где $\\langle A, B \\rangle = \\sum_{i,j}^{N} A_{ij} B_{ij}$\\\n",
    "Вместо неравенства в условиях может быть и равенство. Эту задачу можно написать по-разному, мы же будем использовать эту форму\n",
    "\n",
    "Идейно, если в задаче линейного программирования мы оптимизируем линейную функцию на выпуклом многограннике, то в задаче полуопределенного программирования мы оптимизируем так же линейную функцию на выпуклой фигуре, но теперь это более сложная фигура, а не многогранник. Ниже можно посмотреть на пример. Заметим, что задача полуопределенного программирования - это задача линейного программирования с бесконечным числом линейных ограничений"
   ]
  },
  {
   "attachments": {
    "image.png": {
     "image/png": "[encoded data removed]"
    }
   },
   "cell_type": "markdown",
   "metadata": {},
   "source": [
    "![image.png](attachment:image.png)"
   ]
  },
  {
   "cell_type": "markdown",
   "metadata": {},
   "source": [
    "$\\color{lime} \\text{Подзадание 1.}$ Сейчас у нас в условии некая квадратичная функция от $x$, которую нам нужно свести к линейной функции. Уйдем от чисел $x_i$ (равных по модулю единице) к единичным векторам $u_i \\in \\mathbb{R}^N$. \n",
    "\n",
    "Интуиция следующая: до этого мы скаляром отмечали, к какому набору принадлежит вершина. Теперь, мы это делаем единичным вектором. И ставим задачу максимизировать расстояние между конечными точками эти векторов, если точки лежат в разных наборах. Если же вершины в одном наборе, тогда их вектора должна указывать в примерно одно место \n",
    "\n",
    "Запишите исходную задачу с новыми условиями и переменными. Распишите, откуда взялись те или иные новые условия"
   ]
  },
  {
   "cell_type": "markdown",
   "metadata": {},
   "source": [
    "$\\color{violet}\\text{Ваше решение тут}$"
   ]
  },
  {
   "cell_type": "markdown",
   "metadata": {},
   "source": [
    "$\\color{lime} \\text{Подзадание 2.}$ Теперь, сделаем из квадратичной функции линейную. Введите $Y_{i,j} = u_i ^\\top u_j$, перепишите задачу из предыдущего пункта с новыми условиями.\\\n",
    "Сделайте так, чтобы условия (не целевая функция) выглядели уже как в шаблоне для задачи полуопределенного программирования. \\\n",
    "Распишите, откуда взялись те или иные новые условия"
   ]
  },
  {
   "cell_type": "markdown",
   "metadata": {},
   "source": [
    "$\\color{violet}\\text{Ваше решение тут}$"
   ]
  },
  {
   "cell_type": "markdown",
   "metadata": {},
   "source": [
    "$\\color{lime} \\text{Подзадание 3.}$ Осталось целевую функцию представить в виде внутреннего произведения матриц, как в шаблоне. Распишите вашу целевую функцию в виде ... + ..., и подумайте как эту сумму превратить во внутреннее произведение матриц.\n",
    "\n",
    "Подсказка: внутреннее произведение $\\sum_{i,j}^{N} A_{ij} B_{ij} $ суммирует поэлементное произведение двух матриц. Это можно сделать сначала по диагонали, потом по оставшимся элементам, а потом сложить. К подобной сумме вам и стоит попробовать привести исходную сумму"
   ]
  },
  {
   "cell_type": "markdown",
   "metadata": {},
   "source": [
    "$\\color{violet}\\text{Ваше решение тут}$"
   ]
  },
  {
   "cell_type": "markdown",
   "metadata": {},
   "source": [
    "$\\color{lime} \\text{Подзадание 4.}$ Ниже вам задана матрица весов $W$. Вам нужно решить для $Y$ задачу, сформулированную вами выше в подзадача 2 или 3, используя CVXPY. Вы можете формулировать задачу в коде как вам удобно (упрощать матричные умножения, и так далее), __объяснив все изменения__. "
   ]
  },
  {
   "cell_type": "code",
   "execution_count": 2,
   "metadata": {},
   "outputs": [],
   "source": [
    "W = np.array([[0, 4, 10, -3, 0, 0, 0], [4, 0, 0, 0, 6, 0, 0], [10, 0, 0, 7, 0, 0, 0], [-3, 0, 7, 0, 0, 0, 8], [0, 6, 0, 0, 0, 4, 0], [0, 0,0,0,4,0,1],[0, 0, 0, 8, 0, 1, 0]], dtype = np.float32)\n",
    "n = 7"
   ]
  },
  {
   "cell_type": "code",
   "execution_count": null,
   "metadata": {},
   "outputs": [],
   "source": [
    "# Ваш код тут\n",
    "Y = ... \n",
    "constraints = []\n",
    "\n",
    "cost = ...\n",
    "problem = ...\n",
    "optimal_value = problem.solve()"
   ]
  },
  {
   "cell_type": "code",
   "execution_count": null,
   "metadata": {},
   "outputs": [],
   "source": [
    "assert abs(optimal_value - 39) < 1e-2, \"Правильный ответ - 39, ваше же ему не равно\""
   ]
  },
  {
   "cell_type": "markdown",
   "metadata": {},
   "source": [
    "$\\color{lime} \\text{Подзадание 5.} $ Мы получили решение для $Y$. Однако, нужно то нам узнать значения $x_i$. Начнем идти в обратном порядке. Используя наше определение матрицы $Y$, запишите $Y$ как произведение двух матриц (назовем их $A, B$), предложите способ из __только__ матрицы $Y$ получить $A, B$. Напишите соответствующий код."
   ]
  },
  {
   "cell_type": "markdown",
   "metadata": {},
   "source": [
    "$\\color{violet}\\text{Ваше решение тут}$"
   ]
  },
  {
   "cell_type": "code",
   "execution_count": 1,
   "metadata": {},
   "outputs": [],
   "source": [
    "# ваш код тут"
   ]
  },
  {
   "cell_type": "markdown",
   "metadata": {},
   "source": [
    "$\\color{lime} \\text{Подзадание 6.}$ Одна из полученных вами матриц является матрицей, у которой строка $i$ равна $u_i$ - единичному вектору, который олицетворяет принадлежность точку тому или иному набору. Нам нужно этот вектор превратить в циферку - 1 или -1. Наша модель обучена так, что вершины из разных наборов имеют \"разные\" векторные репрезентации, которые находятся в разных частях единичной сферы. Мы воспользуемся следующим приемом (называется __randomized hyperplane rounding__): сгенерируем __случайную__ плоскость (разберитесь, как правильно это делать) и поделим точки на единичной сфере на 2 набора в зависимости от того, по какую сторону эти точки оказались относительно сгенерированной плоскости. Мы полагаем, что если две точки находятся в разных частях сферы, то скорее всего при создании случайной плоскости через центр сферы эти точки окажутся по разные стороны. \n",
    "\n",
    "Вам нужно найти способ сгенерировать случайную гиперплоскость и разделить вершины на два набора. У вас должны получится два списка __чисел__: S и S_bar. В обоих - номера вершин в этих наборах, нумерация с нуля.\\\n",
    "Вы должны пройти ассерт в конце"
   ]
  },
  {
   "cell_type": "code",
   "execution_count": 5,
   "metadata": {},
   "outputs": [],
   "source": [
    "S = []\n",
    "S_bar = []\n",
    "# ваш код тут"
   ]
  },
  {
   "cell_type": "code",
   "execution_count": 7,
   "metadata": {},
   "outputs": [],
   "source": [
    "# Проверка деления\n",
    "def calculate_cut(S, S_bar, W):\n",
    "    max_cut = 0\n",
    "    for i in S:\n",
    "        for j in S_bar:\n",
    "            max_cut += W[i][j]\n",
    "    return max_cut\n",
    "\n",
    "assert abs(calculate_cut(S, S_bar, W) - 39) < 1e-2, \"Правильный ответ - 39, ваша разбивка этот ответ не дает\""
   ]
  }
 ],
 "metadata": {
  "kernelspec": {
   "display_name": "Python 3",
   "language": "python",
   "name": "python3"
  },
  "language_info": {
   "codemirror_mode": {
    "name": "ipython",
    "version": 3
   },
   "file_extension": ".py",
   "mimetype": "text/x-python",
   "name": "python",
   "nbconvert_exporter": "python",
   "pygments_lexer": "ipython3",
   "version": "3.11.2"
  }
 },
 "nbformat": 4,
 "nbformat_minor": 2
}

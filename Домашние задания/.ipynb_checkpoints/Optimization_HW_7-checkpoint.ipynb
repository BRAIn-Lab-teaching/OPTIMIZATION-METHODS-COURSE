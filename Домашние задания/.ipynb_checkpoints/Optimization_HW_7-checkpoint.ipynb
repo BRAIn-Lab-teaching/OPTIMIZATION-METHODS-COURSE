{
 "cells": [
  {
   "cell_type": "markdown",
   "id": "0a6fcbb6",
   "metadata": {},
   "source": [
    "# Домашнее задание 7\n",
    "\n",
    "Это домашнее задание по материалам второго семинаров. Дедлайн по отправке - 23:55 28 апреля. \n",
    "\n",
    "Домашнее задание выполняется в этом же Jupyter Notebook'e и присылается на почту: __OptimizationHomework@yandex.ru__.\n",
    "\n",
    "Тема письма для этого домашнего задания: __МФТИ_7__\n",
    "\n",
    "Файл должен называться: __Фамилия_Имя__\n",
    "\n",
    "Решение каждой задачи необходимо поместить после её условия.\n",
    "\n",
    "При полном запуске Вашего решения (Kernel -> Restart & Run All) все ячейки должны выполняться без ошибок.  "
   ]
  },
  {
   "cell_type": "markdown",
   "id": "c50d27e1",
   "metadata": {},
   "source": [
    "## Задача 1\n",
    "\n",
    "Рассмотрим задачу логистической регрессии на датасете mushrooms с $\\ell_2$-регуляризацией (коэффициент регуляризации равен $\\frac{L}{1000}$). Как мы знаем, эта задача имеет вид конечной суммы:\n",
    "\\begin{equation}\n",
    "\\min_{w \\in \\mathbb{R}^d} f(w) := \\frac{1}{n} \\sum\\limits_{j=1}^n f_j(w) := \\frac{1}{n} \\sum\\limits_{j=1}^n \\left[\\frac{1}{b} \\sum\\limits_{i=1}^b f_{ji}(w)\\right] := \\frac{1}{n} \\sum\\limits_{j=1}^n \\left[\\frac{1}{b} \\sum\\limits_{i=1}^b l (g(w, x_i), y_i) + \\frac{\\lambda}{2} \\| w\\|^2_2\\right],\n",
    "\\end{equation}\n",
    "где $nb = N$ - полный размер выборки. Будем решать данную задачу с помощью стохастических методов SGD, SAGA (секция А.5 из [работы](https://arxiv.org/pdf/1905.11261.pdf)), SVRG (секция А.9 из [работы](https://arxiv.org/pdf/1905.11261.pdf)) и SARAH ([работа](https://arxiv.org/pdf/1703.00102.pdf)). \n",
    "\n",
    "__(а)__ Оцените $\\mu$ и $L$ для данной задачи. Обратите внимание, что теория стохастических методов часто предполагает, что $L$ - это константа Липшица градиентов $\\nabla f_j$. "
   ]
  },
  {
   "cell_type": "code",
   "execution_count": null,
   "id": "e48c3edf",
   "metadata": {},
   "outputs": [],
   "source": [
    "#ответ"
   ]
  },
  {
   "cell_type": "markdown",
   "id": "d1335c12",
   "metadata": {},
   "source": [
    "__(б)__ Реализуйте возможность делить обучающую часть датасета на батчи размера $b$ ($b$ - это параметр). Реализуйте метод SGD для нашей задачи вида суммы. Решите задачу оптимизации на обучающей выборке с помощью реализованного метода. Возьмите $b = 10$, а шаг равным $\\gamma_k \\equiv \\frac{1}{L}$. Постройте график сходимости: значение критерия сходимости от номера итерации. Сделайте вывод."
   ]
  },
  {
   "cell_type": "code",
   "execution_count": null,
   "id": "5bb8952e",
   "metadata": {},
   "outputs": [],
   "source": [
    "#ответ"
   ]
  },
  {
   "cell_type": "markdown",
   "id": "67e405d4",
   "metadata": {},
   "source": [
    "Варьируйте размер батча: $b = 1, 10, 100, 1000$, а шаг равным $\\gamma_k \\equiv \\frac{1}{L}$ (обратите внимание, что $L$ возможно нужно пересчитывать для каждого $b$). Постройте график сходимости: значение критерия сходимости от номера итерации для каждого $b$. Честное ли сравнение отражает этот график? Почему? Придумайте, как сравнить результаты между собой более честно и постройте новый график сравнения. Сделайте вывод."
   ]
  },
  {
   "cell_type": "code",
   "execution_count": null,
   "id": "0b664896",
   "metadata": {},
   "outputs": [],
   "source": [
    "#ответ"
   ]
  },
  {
   "cell_type": "markdown",
   "id": "c9d875fe",
   "metadata": {},
   "source": [
    "Зафиксируем $b = 10$. Теперь попробуем менять стратегию выбора шага:\n",
    "\n",
    "1) $\\gamma_k \\equiv \\frac{1}{L}$, как делали ранее,\n",
    "\n",
    "2) $\\gamma_k \\equiv \\text{const}$, подбирая $\\text{const}$ так, чтобы добиться \"наилучшей\" сходимости (объясните, что понимаете под \"наилучшей\"),\n",
    "\n",
    "3) $\\gamma_k = \\frac{1}{\\sqrt{k + 1}}$, \n",
    "\n",
    "4) $\\gamma_k = \\frac{1}{k + 1}$.\n",
    "\n",
    "Постройте график сходимости: значение критерия сходимости от номера итерации. Сделайте вывод."
   ]
  },
  {
   "cell_type": "code",
   "execution_count": null,
   "id": "690046bb",
   "metadata": {},
   "outputs": [],
   "source": [
    "#ответ"
   ]
  },
  {
   "cell_type": "markdown",
   "id": "9f58c18b",
   "metadata": {},
   "source": [
    "__(в)__ Реализуйте SAGA, SVRG, SARAH для задачи логистической регресии из $n$ слагаемых, где каждое слагаемое так же имеет виды суммы размеры $b$. Каким надо взять $b$? Почему? Что об этом говорит теория? Как будете выбирать шаг и другие параметры методов?"
   ]
  },
  {
   "cell_type": "code",
   "execution_count": null,
   "id": "19b8f1a2",
   "metadata": {},
   "outputs": [],
   "source": [
    "#ответ"
   ]
  },
  {
   "cell_type": "markdown",
   "id": "93dae9df",
   "metadata": {},
   "source": [
    "__(г)__ Постройте графики сравнения всех методов (в том числе SGD): по оси $x$ используйте время или количество подсчетов $\\nabla f_{ji}$, по оси $y$ - $\\|\\nabla f(w^k)\\|/\\|\\nabla f(w^0)\\|$ или точность на тесте. Таким образом, всего 4 графика. Сделайте сравнение и вывод."
   ]
  },
  {
   "cell_type": "code",
   "execution_count": null,
   "id": "a1f76f76",
   "metadata": {},
   "outputs": [],
   "source": [
    "#ответ"
   ]
  },
  {
   "cell_type": "markdown",
   "id": "56317873",
   "metadata": {},
   "source": [
    "__Бонусные пункты__\n",
    "\n",
    "__(д)__ Методы SGD, SAGA, SVRG, SARAH, которые мы рассматривали, предполагают случайный выбор индекса на каждой итерации. Но между тем, на практике обычно делают по-другому и просто последовательно меняют $i_k$ от $1$ до $n$ (а потом заново). В [работе](https://arxiv.org/abs/2006.05988) изучаются такие подходы. Реализуйте Random Reshuffling и Shuffle Once для SGD и SARAH. Сравните новые алгоритмы со старыми версиями SGD и SARAH из пунктов выше."
   ]
  },
  {
   "cell_type": "code",
   "execution_count": null,
   "id": "caad1f26",
   "metadata": {},
   "outputs": [],
   "source": [
    "#ответ"
   ]
  },
  {
   "cell_type": "markdown",
   "id": "5de0ffdd",
   "metadata": {},
   "source": [
    "__(е)__ Методы SVRG и SARAH имеют loopless версии: L-SVRG (секция А.10 из [работы](https://arxiv.org/pdf/1905.11261.pdf)) и PAGE ([работа](https://proceedings.mlr.press/v139/li21a.html)), соотвественно. Реализуйте их. Как будете выбирать вероятности в этих алгоритмах? Сравните новые алгоритмы со старыми версиями SVRG и SARAH."
   ]
  },
  {
   "cell_type": "code",
   "execution_count": null,
   "id": "ead8a333",
   "metadata": {},
   "outputs": [],
   "source": [
    "#ответ"
   ]
  }
 ],
 "metadata": {
  "kernelspec": {
   "display_name": "Python 3 (ipykernel)",
   "language": "python",
   "name": "python3"
  },
  "language_info": {
   "codemirror_mode": {
    "name": "ipython",
    "version": 3
   },
   "file_extension": ".py",
   "mimetype": "text/x-python",
   "name": "python",
   "nbconvert_exporter": "python",
   "pygments_lexer": "ipython3",
   "version": "3.11.4"
  }
 },
 "nbformat": 4,
 "nbformat_minor": 5
}

{
 "cells": [
  {
   "cell_type": "markdown",
   "id": "9f3a6fa0",
   "metadata": {},
   "source": [
    "# Домашние задания\n",
    "\n",
    "- Звёздочкой (*) помечены необязательные (дополнительные) части/задания. Все задания в необязательной части являются необязательными\n",
    "- В скобочках после каждой части и каждого задания написано максимальное количество баллов в формате (кол-во баллов за обязательные задания + кол-во баллов за дополнительные задания)\n",
    "- Сумма баллов за обязательные задания равна 85. **Для зачета вам нужно 85**\n",
    "- Если вы не можете сделать обязательное задание, то вам нужно выполнить дополнительных заданий (из любого дня) на удвоенную ценность обязательного задания.\n",
    "В таком случае вам нужно будет явно указать, какие обязательные задания вы пропустили и какие дополнительные задания сделали вместо них\n",
    "\n",
    "Шкала оценивания\n",
    "- $\\ge$ 85 баллов - Pass\n",
    "- $<$ 85 баллов - Fail\n",
    "\n",
    "Оценивание будет происходить следующим образом:\n",
    "- Вы заранее составляете табличку с тем, какие задания вы выполнили и считаете общее количество баллов\n",
    "- Присылаете готовый ноутбук заранее. Дедлайн по отправке - 23:59 24.07.2024\n",
    "- Приходите на защиту, где проверяющий случайно выберет несколько сделанных вами задания из заранее присланного ноутбука и попросит вас объяснить решение\n",
    "- Затем вам могут задать несколько вопросов по теории с лекций или семинаров\n",
    "- Если вы отвечаете удовлетворительно на все вопросы, вам ставится оценка, соответствующая общему количеству набранных вами баллов\n",
    "\n",
    "\n",
    "**Дедлайн по отправке - 23:59 24.07.2024**\n",
    "\n",
    "\n",
    "Это домашнее задание по материалам курса оптимизации, читаемого на студкемпе Яндекса по математике в ИИ.\n",
    "\n",
    "\n",
    "- Домашнее задание выполняется в этом же Jupyter Notebook'e\n",
    "\n",
    "- Файл необходимо переименовать: **NameSurname.ipynb** (без пробелов в начале и конце). Пример: **IvanIvanov.ipynb**\n",
    "\n",
    "- Решение нужно отправлять на в телеграм своему семинаристу: [Дмитрию](https://t.me/flip_floppa) или [Роману](https://t.me/porludom)\n",
    "\n",
    "- Вместе с решением присылаете табличку, в которой отмечены, какие обязательные задания сделаны, какие дополнительные задания сделаны (и в счёт каких обязательных ои идут) и общее количество баллов\n",
    "\n",
    "- Для решения можно использовать Google Colab, и прислать ссылку на него\n",
    "\n",
    "- Для вопросов используйте [Google Table](https://docs.google.com/spreadsheets/d/12kNEjELysBDXsEBb2WLjXaF5ZzJUi0ke-APZ8RjKNlc/edit?usp=sharing)\n",
    "\n",
    "- Решение каждой задачи/пункта задачи поместите после условия\n",
    "\n",
    "- Не забывайте добавлять необходимые пояснения и комментарии\n",
    "\n",
    "- В финальной версии, которая будет отправлена на проверку, должны быть удалены все отладочные артефакты. Под таким артефактами подразумеваются любые выводы ячеек, которые никак не прокомментированы в тексте, а также любой массовый/длинный технический вывод (даже если он прокомментирован в тексте)\n",
    "\n",
    "- При полном запуске решения (Kernel --> Restart & Run All) все ячейки должны выполняться без ошибок\n",
    "\n",
    "- Максимальный балл за задания - **178** (85 за обязательные + 93 за дополнительные)\n",
    "\n",
    "Желаем успехов!"
   ]
  },
  {
   "cell_type": "markdown",
   "id": "9e640a05",
   "metadata": {},
   "source": [
    "# Ссылки на задания по дням"
   ]
  },
  {
   "cell_type": "markdown",
   "id": "ec10f18b",
   "metadata": {},
   "source": [
    "- [Подготовка](#preparation)\n",
    "- [Задания на день 1](#day1)\n",
    "- [Задания на день 2](#day2)\n",
    "- [Задания на день 3](#day3)\n",
    "- [Задания на день 4](#day4)\n",
    "- [Задания на день 5](#day5)\n",
    "\n",
    "Для более подробного содержания (с ссылками так же на все задания) используйте __outline__ во вкладке __explorer__ (в панели слева) при использовании Visual Studio, или __содержание__ (в панели слева) при использовании колаба"
   ]
  },
  {
   "cell_type": "markdown",
   "id": "7d0d4031",
   "metadata": {},
   "source": [
    "# <a id='preparation'></a> Подготовка"
   ]
  },
  {
   "cell_type": "markdown",
   "id": "ddbb999b",
   "metadata": {},
   "source": [
    "Все необходимые импорты вынесены в самый верх ноутбука. Использование других библиотек не запрещается, но крайне не рекомендуется"
   ]
  },
  {
   "cell_type": "code",
   "execution_count": 1,
   "id": "35ab9136",
   "metadata": {},
   "outputs": [],
   "source": [
    "import math\n",
    "import time\n",
    "import warnings\n",
    "from functools import partial\n",
    "from itertools import product\n",
    "from typing import Callable, Iterator, Optional\n",
    "\n",
    "import cvxpy as cp\n",
    "import jax\n",
    "import jax.numpy as jnp\n",
    "import matplotlib.pyplot as plt\n",
    "import numpy as np\n",
    "import scipy\n",
    "import torch\n",
    "import torch.nn as nn\n",
    "import torch.nn.functional as F\n",
    "import torchvision\n",
    "import torchvision.transforms as transforms\n",
    "from sklearn.datasets import load_svmlight_file\n",
    "from sklearn.model_selection import train_test_split\n",
    "from torch.utils.data import DataLoader, random_split\n",
    "from torchvision.datasets import MNIST\n",
    "from tqdm import tqdm"
   ]
  },
  {
   "cell_type": "code",
   "execution_count": 100,
   "id": "cf078197",
   "metadata": {},
   "outputs": [
    {
     "data": {
      "text/plain": [
       "device(type='cuda')"
      ]
     },
     "execution_count": 100,
     "metadata": {},
     "output_type": "execute_result"
    }
   ],
   "source": [
    "DEVICE = torch.device(\"cuda\" if torch.cuda.is_available() else \"cpu\")\n",
    "# DEVICE = torch.device(\"cpu\")\n",
    "DEVICE"
   ]
  },
  {
   "cell_type": "markdown",
   "id": "b0824f02",
   "metadata": {},
   "source": [
    "## Построение графиков"
   ]
  },
  {
   "cell_type": "markdown",
   "id": "5ea10204",
   "metadata": {},
   "source": [
    "Для удобства можете пользоваться следующей функцией для построения графиков"
   ]
  },
  {
   "cell_type": "code",
   "execution_count": 101,
   "id": "6b1ad4c0",
   "metadata": {},
   "outputs": [],
   "source": [
    "def moving_average(x, w):\n",
    "    return scipy.signal.savgol_filter(x, w, min(3, w - 1))\n",
    "\n",
    "\n",
    "def draw_plots(\n",
    "    data: dict,\n",
    "    plots: list[tuple[dict, dict]],\n",
    "    title: str = \"\",\n",
    "    row_plots: int = 2,\n",
    "    plot_width: float = 8,\n",
    "    plot_height: float = 4,\n",
    "    use_common_legend: bool = True,\n",
    "):\n",
    "    num_plots = len(plots)\n",
    "    row_plots = min(row_plots, num_plots)\n",
    "    column_plots = math.ceil(num_plots / row_plots)\n",
    "\n",
    "    fig, axs = plt.subplots(\n",
    "        column_plots,\n",
    "        row_plots,\n",
    "        figsize=(plot_width * row_plots, plot_height * column_plots),\n",
    "    )\n",
    "    if len(title):\n",
    "        fig.suptitle(title, fontsize=14)\n",
    "    axs_list = [axs] if num_plots == 1 else list(axs.flat)\n",
    "    for ax in axs_list:\n",
    "        ax.grid()\n",
    "        ax.set_visible(False)\n",
    "\n",
    "    for ax, (p1, p2) in zip(axs_list, plots):\n",
    "        ax.set_visible(True)\n",
    "\n",
    "        x_label = p1.get(\"axis_name\", p1[\"name\"])\n",
    "        y_label = p2.get(\"axis_name\", p2[\"name\"])\n",
    "        if p1.get(\"log\", False):\n",
    "            ax.set_xscale(\"log\")\n",
    "            x_label = f\"{x_label}, log scale\"\n",
    "        if p2.get(\"log\", False):\n",
    "            ax.set_yscale(\"log\")\n",
    "            y_label = f\"{y_label}, log scale\"\n",
    "\n",
    "        ax.set_title(f\"{p2['name']} over {p1['name']}\")\n",
    "        ax.set(xlabel=x_label, ylabel=y_label)\n",
    "\n",
    "        scatter_all = p1.get(\"scatter\", False) or p2.get(\"scatter\", False)\n",
    "\n",
    "        for method, method_data in data.items():\n",
    "            label = method\n",
    "\n",
    "            x_values = method_data[p1.get(\"ref\", p1[\"name\"])]\n",
    "            y_values = method_data[p2.get(\"ref\", p2[\"name\"])]\n",
    "\n",
    "            y_smooth_w = p2.get(\"smooth\", 0)\n",
    "            if y_smooth_w:\n",
    "                y_smooth = moving_average(y_values, w=y_smooth_w)\n",
    "                ax.fill_between(\n",
    "                    x_values,\n",
    "                    scipy.ndimage.minimum_filter1d(y_smooth, y_smooth_w),\n",
    "                    scipy.ndimage.maximum_filter1d(y_smooth, y_smooth_w),\n",
    "                    alpha=0.1,\n",
    "                )\n",
    "                y_values = y_smooth\n",
    "\n",
    "            ax.plot(x_values, y_values, label=label)\n",
    "            ax_color = ax.get_lines()[-1].get_color()\n",
    "            if scatter_all:\n",
    "                ax.scatter(x_values, y_values, s=15, color=ax_color)\n",
    "            else:\n",
    "                ax.scatter(x_values[-1], y_values[-1], s=15, color=ax_color)\n",
    "\n",
    "    if use_common_legend:\n",
    "        lines_labels = [axs_list[0].get_legend_handles_labels()]\n",
    "        lines, labels = [sum(x, []) for x in zip(*lines_labels)]\n",
    "        fig.legend(\n",
    "            lines,\n",
    "            labels,\n",
    "            scatterpoints=1,\n",
    "            markerscale=3,\n",
    "            loc=\"outside lower center\",\n",
    "            ncol=min(6, len(data)),\n",
    "            bbox_to_anchor=(0.5, -0.05 * (math.ceil(len(data) / 6) + 1)),\n",
    "        )\n",
    "    else:\n",
    "        if len(data) > 1:\n",
    "            for ax in axs_list:\n",
    "                ax.legend()\n",
    "\n",
    "    plt.tight_layout()\n",
    "    plt.show()"
   ]
  },
  {
   "cell_type": "markdown",
   "id": "e39aedf9",
   "metadata": {},
   "source": [
    "## [MNIST](https://en.wikipedia.org/wiki/MNIST_database)"
   ]
  },
  {
   "cell_type": "markdown",
   "id": "26e52f1e",
   "metadata": {},
   "source": [
    "Датасет понадобится для выполнения некоторых заданий Дней 3 и 5"
   ]
  },
  {
   "cell_type": "code",
   "execution_count": 102,
   "id": "21be6900",
   "metadata": {},
   "outputs": [
    {
     "name": "stdout",
     "output_type": "stream",
     "text": [
      "Dataset MNIST\n",
      "    Number of datapoints: 60000\n",
      "    Root location: data/\n",
      "    Split: Train\n",
      "    StandardTransform\n",
      "Transform: ToTensor()\n",
      "len(train_mnsit_seq)=2850, len(test_mnsit_seq)=150\n"
     ]
    },
    {
     "data": {
      "image/png": "[encoded data removed]",
      "text/plain": [
       "<Figure size 640x480 with 1 Axes>"
      ]
     },
     "metadata": {},
     "output_type": "display_data"
    }
   ],
   "source": [
    "# скачиваем MNIST\n",
    "MNIST(root=\"data/\", download=True)\n",
    "mnist_dataset = MNIST(root=\"data/\", train=True, transform=transforms.ToTensor())\n",
    "print(mnist_dataset)\n",
    "\n",
    "# выведем первое изображение\n",
    "image, label = mnist_dataset[0]\n",
    "plt.imshow(image.reshape(28, 28), cmap=\"gray\")\n",
    "plt.title(\n",
    "    f\"Label: {label}\",\n",
    ")\n",
    "\n",
    "# будем использовать только часть данных\n",
    "mnist_ratio = 0.05\n",
    "\n",
    "# делим данные на test и train\n",
    "train_mnsit_seq, test_mnsit_seq, _ = random_split(\n",
    "    mnist_dataset,\n",
    "    [0.95 * mnist_ratio, 0.05 * mnist_ratio, 1 - mnist_ratio],\n",
    "    generator=torch.Generator().manual_seed(420),\n",
    ")\n",
    "print(f\"{len(train_mnsit_seq)=}, {len(test_mnsit_seq)=}\")\n",
    "\n",
    "mnist_train_loader = DataLoader(train_mnsit_seq, 64, shuffle=True)\n",
    "mnist_test_loader = DataLoader(test_mnsit_seq, 512, shuffle=False)"
   ]
  },
  {
   "cell_type": "markdown",
   "id": "e951e5c3",
   "metadata": {},
   "source": [
    "Создадим простую модель для экспериментов"
   ]
  },
  {
   "cell_type": "code",
   "execution_count": 103,
   "id": "c2e2bf09",
   "metadata": {},
   "outputs": [],
   "source": [
    "class MnistModel(nn.Module):\n",
    "    def __init__(self, input_dim: int = 28 * 28, output_dim: int = 10):\n",
    "        super().__init__()\n",
    "\n",
    "        self.net = nn.Sequential(\n",
    "            nn.Linear(input_dim, output_dim),\n",
    "        )\n",
    "\n",
    "    def forward(self, x):\n",
    "        x = x.view(-1, 784)\n",
    "        return self.net(x)"
   ]
  },
  {
   "cell_type": "markdown",
   "id": "68f824a2",
   "metadata": {},
   "source": [
    "Полезные функции для тренировки и оценки на датасете MNIST"
   ]
  },
  {
   "cell_type": "code",
   "execution_count": 104,
   "id": "e47ec3b0",
   "metadata": {},
   "outputs": [],
   "source": [
    "def train_mnist(\n",
    "    model: nn.Module, optimizer: torch.optim.Optimizer, **loss_kwargs\n",
    ") -> None:\n",
    "    loss_fn = nn.CrossEntropyLoss()\n",
    "    model.train()\n",
    "    for inputs, labels in mnist_train_loader:\n",
    "        inputs, labels = inputs.to(DEVICE), labels.to(DEVICE)\n",
    "        optimizer.zero_grad()\n",
    "        output = model(inputs)\n",
    "        loss = loss_fn(output, labels)\n",
    "        loss.backward(**loss_kwargs)\n",
    "        optimizer.step()\n",
    "\n",
    "\n",
    "def eval_mnist(model: nn.Module) -> tuple[float, float]:\n",
    "    loss_fn = nn.CrossEntropyLoss()\n",
    "    correct = 0\n",
    "    total = 0\n",
    "    val_loss = 0.0\n",
    "    with torch.no_grad():\n",
    "        model.eval()\n",
    "        for inputs, labels in mnist_test_loader:\n",
    "            inputs, labels = inputs.to(DEVICE), labels.to(DEVICE)\n",
    "\n",
    "            outputs = model(inputs)\n",
    "            _, predicted = torch.max(outputs.data, 1)\n",
    "            total += labels.size(0)\n",
    "            correct += (predicted == labels).sum().item()\n",
    "\n",
    "            val_loss += loss_fn(outputs, labels).item()\n",
    "    return val_loss, correct / total"
   ]
  },
  {
   "cell_type": "markdown",
   "id": "e8d856e2",
   "metadata": {},
   "source": [
    "## [CIFAR-10](https://paperswithcode.com/dataset/cifar-10)"
   ]
  },
  {
   "cell_type": "markdown",
   "id": "6ec0a735",
   "metadata": {},
   "source": [
    "Датасет понадобится для выполнения некоторых заданий Дня 4"
   ]
  },
  {
   "cell_type": "code",
   "execution_count": 105,
   "id": "a685b55f",
   "metadata": {},
   "outputs": [
    {
     "name": "stdout",
     "output_type": "stream",
     "text": [
      "Files already downloaded and verified\n",
      "Files already downloaded and verified\n",
      "len(cifar_train_dataset)=2500\n",
      "len(cifar_test_dataset)=500\n"
     ]
    },
    {
     "data": {
      "image/png": "[encoded data removed]",
      "text/plain": [
       "<Figure size 640x480 with 1 Axes>"
      ]
     },
     "metadata": {},
     "output_type": "display_data"
    },
    {
     "name": "stdout",
     "output_type": "stream",
     "text": [
      "frog  dog   dog   cat   plane car   dog   cat  \n"
     ]
    }
   ],
   "source": [
    "cifar_transform = transforms.Compose(\n",
    "    [transforms.ToTensor(), transforms.Normalize((0.5, 0.5, 0.5), (0.5, 0.5, 0.5))]\n",
    ")\n",
    "\n",
    "# загружаем датасет\n",
    "cifar_train_dataset = torchvision.datasets.CIFAR10(\n",
    "    root=\"./data\", train=True, download=True, transform=cifar_transform\n",
    ")\n",
    "cifar_test_dataset = torchvision.datasets.CIFAR10(\n",
    "    root=\"./data\", train=False, download=True, transform=cifar_transform\n",
    ")\n",
    "\n",
    "# будем использовать только часть данных\n",
    "cifar_ratio = 0.05\n",
    "\n",
    "# делим данные train и test\n",
    "cifar_train_dataset, _ = random_split(\n",
    "    cifar_train_dataset,\n",
    "    [cifar_ratio, 1 - cifar_ratio],\n",
    "    generator=torch.Generator().manual_seed(420),\n",
    ")\n",
    "cifar_test_dataset, _ = random_split(\n",
    "    cifar_test_dataset,\n",
    "    [cifar_ratio, 1 - cifar_ratio],\n",
    "    generator=torch.Generator().manual_seed(420),\n",
    ")\n",
    "\n",
    "print(f\"{len(cifar_train_dataset)=}\")\n",
    "print(f\"{len(cifar_test_dataset)=}\")\n",
    "\n",
    "assert len(cifar_train_dataset) == 2500\n",
    "assert len(cifar_test_dataset) == 500\n",
    "\n",
    "cifar_train_loader = torch.utils.data.DataLoader(\n",
    "    cifar_test_dataset, batch_size=64, shuffle=True\n",
    ")\n",
    "\n",
    "cifar_test_loader = torch.utils.data.DataLoader(\n",
    "    cifar_test_dataset, batch_size=256, shuffle=False\n",
    ")\n",
    "\n",
    "classes = (\n",
    "    \"plane\",\n",
    "    \"car\",\n",
    "    \"bird\",\n",
    "    \"cat\",\n",
    "    \"deer\",\n",
    "    \"dog\",\n",
    "    \"frog\",\n",
    "    \"horse\",\n",
    "    \"ship\",\n",
    "    \"truck\",\n",
    ")\n",
    "\n",
    "\n",
    "def imshow(image):\n",
    "    image = image / 2 + 0.5  # де-нормализуем\n",
    "    np_image = image.numpy()\n",
    "    plt.imshow(np.transpose(np_image, (1, 2, 0)))\n",
    "    plt.show()\n",
    "\n",
    "\n",
    "# несколько случайных элементов\n",
    "images, labels = next(iter(cifar_train_loader))\n",
    "images, labels = images[:8], labels[:8]\n",
    "\n",
    "# выведем изображения\n",
    "imshow(torchvision.utils.make_grid(images))\n",
    "\n",
    "# выведем метки\n",
    "print(\" \".join(f\"{classes[labels[j]]:5s}\" for j in range(8)))"
   ]
  },
  {
   "cell_type": "code",
   "execution_count": 106,
   "id": "57f37fc2",
   "metadata": {},
   "outputs": [],
   "source": [
    "class CifarNet(nn.Module):\n",
    "    def __init__(self):\n",
    "        super().__init__()\n",
    "        self.conv1 = nn.Conv2d(3, 6, 5)\n",
    "        self.pool = nn.MaxPool2d(2, 2)\n",
    "        self.conv2 = nn.Conv2d(6, 16, 5)\n",
    "        self.fc1 = nn.Linear(16 * 5 * 5, 120)\n",
    "        self.fc2 = nn.Linear(120, 84)\n",
    "        self.fc3 = nn.Linear(84, 10)\n",
    "\n",
    "    def forward(self, x):\n",
    "        x = self.pool(F.relu(self.conv1(x)))\n",
    "        x = self.pool(F.relu(self.conv2(x)))\n",
    "        x = torch.flatten(x, 1)\n",
    "        x = F.relu(self.fc1(x))\n",
    "        x = F.relu(self.fc2(x))\n",
    "        return self.fc3(x)"
   ]
  },
  {
   "cell_type": "markdown",
   "id": "6ee1c8b8",
   "metadata": {},
   "source": [
    "Создадим сложную модель ([ResNet](https://arxiv.org/abs/1512.03385)) для экспериментов"
   ]
  },
  {
   "cell_type": "code",
   "execution_count": 107,
   "id": "76b555a4",
   "metadata": {},
   "outputs": [],
   "source": [
    "def conv_block(in_channels, out_channels, pool=False):\n",
    "    layers = [\n",
    "        nn.Conv2d(in_channels, out_channels, kernel_size=3, padding=1),\n",
    "        nn.BatchNorm2d(out_channels),\n",
    "        nn.ReLU(inplace=True),\n",
    "    ]\n",
    "    if pool:\n",
    "        layers.append(nn.MaxPool2d(2))\n",
    "    return nn.Sequential(*layers)\n",
    "\n",
    "\n",
    "class ResNet(nn.Module):\n",
    "    def __init__(self, in_channels=3, num_classes=10):\n",
    "        super().__init__()\n",
    "\n",
    "        self.conv1 = conv_block(in_channels, 64)\n",
    "        self.conv2 = conv_block(64, 128, pool=True)\n",
    "        self.res1 = nn.Sequential(conv_block(128, 128), conv_block(128, 128))\n",
    "\n",
    "        self.conv3 = conv_block(128, 256, pool=True)\n",
    "        self.conv4 = conv_block(256, 512, pool=True)\n",
    "        self.res2 = nn.Sequential(conv_block(512, 512), conv_block(512, 512))\n",
    "\n",
    "        self.classifier = nn.Sequential(\n",
    "            nn.MaxPool2d(4), nn.Flatten(), nn.Linear(512, num_classes)\n",
    "        )\n",
    "\n",
    "    def forward(self, xb):\n",
    "        out = self.conv1(xb)\n",
    "        out = self.conv2(out)\n",
    "        out = self.res1(out) + out\n",
    "        out = self.conv3(out)\n",
    "        out = self.conv4(out)\n",
    "        out = self.res2(out) + out\n",
    "        return self.classifier(out)"
   ]
  },
  {
   "cell_type": "code",
   "execution_count": 108,
   "id": "29a30441",
   "metadata": {},
   "outputs": [],
   "source": [
    "def train_cifar(\n",
    "    model: nn.Module, optimizer: torch.optim.Optimizer, **loss_kwargs\n",
    ") -> None:\n",
    "    loss_fn = nn.CrossEntropyLoss()\n",
    "    model.train()\n",
    "    for inputs, labels in cifar_train_loader:\n",
    "        inputs, labels = inputs.to(DEVICE), labels.to(DEVICE)\n",
    "        optimizer.zero_grad()\n",
    "        output = model(inputs)\n",
    "        loss = loss_fn(output, labels)\n",
    "        loss.backward(**loss_kwargs)\n",
    "        optimizer.step()\n",
    "\n",
    "\n",
    "def eval_cifar(model: nn.Module) -> tuple[float, float]:\n",
    "    loss_fn = nn.CrossEntropyLoss()\n",
    "    correct = 0\n",
    "    total = 0\n",
    "    val_loss = 0.0\n",
    "    with torch.no_grad():\n",
    "        model.eval()  # evaluation mode\n",
    "        for inputs, labels in cifar_test_loader:\n",
    "            inputs, labels = inputs.to(DEVICE), labels.to(DEVICE)\n",
    "\n",
    "            outputs = model(inputs)\n",
    "            _, predicted = torch.max(outputs.data, 1)\n",
    "            total += labels.size(0)\n",
    "            correct += (predicted == labels).sum().item()\n",
    "\n",
    "            val_loss += loss_fn(outputs, labels).item()\n",
    "    return val_loss, correct / total"
   ]
  },
  {
   "cell_type": "markdown",
   "id": "13561db9",
   "metadata": {},
   "source": [
    "# <a id='day1'></a> День 1 (10 + 38 баллов)"
   ]
  },
  {
   "cell_type": "markdown",
   "id": "e56ac22d",
   "metadata": {},
   "source": [
    "## Часть 1. Матрично-векторное дифференцирование (15 баллов)"
   ]
  },
  {
   "cell_type": "markdown",
   "id": "89826896",
   "metadata": {},
   "source": [
    "### Задание 1 (6 баллов)"
   ]
  },
  {
   "cell_type": "markdown",
   "id": "e2c14abf",
   "metadata": {},
   "source": [
    "Вычислите градиенты $\\nabla_A L, \\nabla_b L$ функции ошибки $L$ для входных параметров $A,b$ соответсвенно. Градиент от параметра $x$ считается известным и равным $\\nabla_x L$. Рекомендуется использовать алгоритм обратного распространения ошибки (backpropagation algorithm)\n",
    "\n",
    "<img width=\"50%\" src=\"data:image/png;base64,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\">\n"
   ]
  },
  {
   "cell_type": "markdown",
   "id": "7d9d8159",
   "metadata": {},
   "source": [
    "### Решение"
   ]
  },
  {
   "cell_type": "code",
   "execution_count": null,
   "id": "e9256ba8",
   "metadata": {},
   "outputs": [],
   "source": [
    "# ваше решение (markdown)"
   ]
  },
  {
   "cell_type": "markdown",
   "id": "80eb391e",
   "metadata": {},
   "source": [
    "### Задание 2 (4 балла)"
   ]
  },
  {
   "cell_type": "markdown",
   "id": "7f035a1d",
   "metadata": {},
   "source": [
    "Вычислите производную первого порядка для следующей функции $f : \\mathbb{R}^d \\setminus \\{ 0 \\} \\to \\mathbb{R}$ такой, что $\\displaystyle f(x) = \\langle x, x \\rangle^{\\langle x, x \\rangle}$"
   ]
  },
  {
   "cell_type": "markdown",
   "id": "e04bc73c",
   "metadata": {},
   "source": [
    "### Решение"
   ]
  },
  {
   "cell_type": "code",
   "execution_count": 109,
   "id": "71a13f71",
   "metadata": {},
   "outputs": [],
   "source": [
    "# ваше решение (markdown)"
   ]
  },
  {
   "cell_type": "markdown",
   "id": "bc4b3d96",
   "metadata": {},
   "source": [
    "### Задание 3* (5 баллов)"
   ]
  },
  {
   "cell_type": "markdown",
   "id": "3f615ad5",
   "metadata": {},
   "source": [
    "Вычислите производную **второго** порядка для функции из предыдущего задания $f : \\mathbb{R}^d \\setminus \\{ 0 \\} \\to \\mathbb{R}$ такой, что $\\displaystyle f(x) = \\langle x, x \\rangle^{\\langle x, x \\rangle}$"
   ]
  },
  {
   "cell_type": "markdown",
   "id": "9930d7f7",
   "metadata": {},
   "source": [
    "### Решение"
   ]
  },
  {
   "cell_type": "code",
   "execution_count": 1,
   "id": "2cf51cdf",
   "metadata": {},
   "outputs": [],
   "source": [
    "# ваше решение (markdown)"
   ]
  },
  {
   "cell_type": "markdown",
   "id": "f937a19f",
   "metadata": {},
   "source": [
    "## Часть 2*. Выпуклость (33 балла)"
   ]
  },
  {
   "cell_type": "markdown",
   "id": "09e70ca2",
   "metadata": {},
   "source": [
    "### Задание 1 (4 балла)"
   ]
  },
  {
   "cell_type": "markdown",
   "id": "327437d0",
   "metadata": {},
   "source": [
    "Проверьте, что множество $S = \\{ x_1 \\in \\mathbb{R}, x_2 \\in \\mathbb{R} \\mid x_1 > 0, x_2 > 0, x_1 x_2 \\geq 1 \\}$ является выпуклым"
   ]
  },
  {
   "cell_type": "markdown",
   "id": "9c528161",
   "metadata": {},
   "source": [
    "### Решение"
   ]
  },
  {
   "cell_type": "code",
   "execution_count": 111,
   "id": "924d2021",
   "metadata": {},
   "outputs": [],
   "source": [
    "# ваше решение (markdown)"
   ]
  },
  {
   "cell_type": "markdown",
   "id": "6f1b9742",
   "metadata": {},
   "source": [
    "### Задание 2 (4 балла)"
   ]
  },
  {
   "cell_type": "markdown",
   "id": "64f9db19",
   "metadata": {},
   "source": [
    "Проверьте, что множество $S = \\{ x \\in \\mathbb{R}^d \\mid x_1 \\leq x_2 \\leq \\ldots \\leq x_d \\}$ является выпуклым\n"
   ]
  },
  {
   "cell_type": "markdown",
   "id": "dc360528",
   "metadata": {},
   "source": [
    "### Решение"
   ]
  },
  {
   "cell_type": "code",
   "execution_count": 112,
   "id": "17a4a12b",
   "metadata": {},
   "outputs": [],
   "source": [
    "# ваше решение (markdown)"
   ]
  },
  {
   "cell_type": "markdown",
   "id": "163bc7a8",
   "metadata": {},
   "source": [
    "### Задание 3 (7 баллов)"
   ]
  },
  {
   "cell_type": "markdown",
   "id": "344d7e88",
   "metadata": {},
   "source": [
    "Проверьте, что множество $S = \\{ x \\in \\mathbb{R}^d \\mid  \\| x - a\\|_2 \\leq \\| x - b\\|_2 \\}$, где $a\\neq b \\in \\mathbb{R}^d$ and $\\| \\cdot \\|_2$ - Евклидова норма ($\\| x \\|^2_2 = x^T x$), является выпуклым"
   ]
  },
  {
   "cell_type": "markdown",
   "id": "80eec2e3",
   "metadata": {},
   "source": [
    "### Решение"
   ]
  },
  {
   "cell_type": "code",
   "execution_count": 113,
   "id": "6ee2b53c",
   "metadata": {},
   "outputs": [],
   "source": [
    "# ваше решение (markdown)"
   ]
  },
  {
   "cell_type": "markdown",
   "id": "40ba0382",
   "metadata": {},
   "source": [
    "### Задание 4 (4 балла)"
   ]
  },
  {
   "cell_type": "markdown",
   "id": "f1e06e6d",
   "metadata": {},
   "source": [
    "**Подсказка:** Возможно в этом задании (и возможно не только в нём) вам понадобятся следующие факты:\n",
    "\n",
    "- дифференцируемая функция является выпуклой тогда и только тогда, когда\n",
    "\n",
    "  $$\n",
    "  \\nabla^2 f(x) \\geq 0 \\quad \\text{(Гессиан положительно полуопределён)}.\n",
    "  $$\n",
    "\n",
    "- дифференцируемая функция является $\\mu$-сильно выпуклой тогда и только тогда, когда\n",
    "  $$\n",
    "  \\nabla^2 f(x) \\geq \\mu I.\n",
    "  $$"
   ]
  },
  {
   "cell_type": "markdown",
   "id": "3d402391",
   "metadata": {},
   "source": [
    "Проверьте, что функция $f: \\mathbb{R}^2 \\to \\mathbb{R}$ такая, что $f(x) = x_1^2 x_2^2$, является выпуклой"
   ]
  },
  {
   "cell_type": "markdown",
   "id": "ecdc19b8",
   "metadata": {},
   "source": [
    "### Решение"
   ]
  },
  {
   "cell_type": "code",
   "execution_count": 114,
   "id": "e583e343",
   "metadata": {},
   "outputs": [],
   "source": [
    "# ваше решение (markdown)"
   ]
  },
  {
   "cell_type": "markdown",
   "id": "b92856b9",
   "metadata": {},
   "source": [
    "### Задание 5 (4 балла)"
   ]
  },
  {
   "cell_type": "markdown",
   "id": "f8bf0499",
   "metadata": {},
   "source": [
    "Проверьте, что функция $f: \\mathbb{R}^d \\to \\mathbb{R}$ такая, что $f(x) = \\ | x \\|^p$, где $p > 0$, является выпуклой"
   ]
  },
  {
   "cell_type": "markdown",
   "id": "08fb3691",
   "metadata": {},
   "source": [
    "### Решение"
   ]
  },
  {
   "cell_type": "code",
   "execution_count": 115,
   "id": "73b32aae",
   "metadata": {},
   "outputs": [],
   "source": [
    "# ваше решение (markdown)"
   ]
  },
  {
   "cell_type": "markdown",
   "id": "f763159d",
   "metadata": {},
   "source": [
    "### Задание 6 (6 баллов)"
   ]
  },
  {
   "cell_type": "markdown",
   "id": "406e1eb5",
   "metadata": {},
   "source": [
    "Проверьте, что функция $f: \\mathbb{R}^d \\to \\mathbb{R}$ такая, что\n",
    "$\n",
    "f(x) =  \\frac{1}{n} \\sum\\limits_{i=1}^n l (g(x, a_i), b_i), \n",
    "$\n",
    "где $g(x, a) = x^T a$, $l(z,b) = \\ln (1 + \\exp(-bz))$, $a_i \\in \\mathbb{R}^d$, $b_i \\in \\{-1, 1\\}$, является выпуклой\n",
    "\n",
    "\n",
    "**Подсказка:** Попробуйте представить изначальную функцию как сумму двух функций, в одной из которых $b_i=1$, а в другой $b_i=-1$"
   ]
  },
  {
   "cell_type": "markdown",
   "id": "e59c93ec",
   "metadata": {},
   "source": [
    "### Решение"
   ]
  },
  {
   "cell_type": "code",
   "execution_count": 116,
   "id": "eee65f3a",
   "metadata": {},
   "outputs": [],
   "source": [
    "# ваше решение (markdown)"
   ]
  },
  {
   "cell_type": "markdown",
   "id": "6c88b918",
   "metadata": {},
   "source": [
    "### Задание 7 (4 балла)"
   ]
  },
  {
   "cell_type": "markdown",
   "id": "8df39132",
   "metadata": {},
   "source": [
    "Докажите, что для всех $p, q \\in \\{ x \\in \\mathbb{R}^d \\mid x_i \\geq 0, \\sum\\limits_{i=1}^d x_i = 1\\}$ справедливо следующее утверждение\n",
    "\n",
    "$$\n",
    "\\sum_{i=1}^d \\ln\\left( \\frac{p_i}{q_i}\\right) p_i \\geq 0.\n",
    "$$\n"
   ]
  },
  {
   "cell_type": "markdown",
   "id": "1a243fa3",
   "metadata": {},
   "source": [
    "### Решение"
   ]
  },
  {
   "cell_type": "code",
   "execution_count": 117,
   "id": "fb7abc4c",
   "metadata": {},
   "outputs": [],
   "source": [
    "# ваше решение (markdown)"
   ]
  },
  {
   "cell_type": "markdown",
   "id": "b2150825",
   "metadata": {},
   "source": [
    "# <a id='day2'></a> День 2 (45 + 19 баллов)"
   ]
  },
  {
   "cell_type": "markdown",
   "id": "789e5eab",
   "metadata": {},
   "source": [
    "## Часть 1. Задача безусловной оптимизации (33 + 8 баллов)"
   ]
  },
  {
   "cell_type": "markdown",
   "id": "ea291647",
   "metadata": {},
   "source": [
    "Рассмотрим проблему минимизации эмпирического риска (empirical risk minimization, ERM)\n",
    "$$\n",
    "\\begin{equation}\n",
    "\\min_{w \\in \\mathbb{R}^d} \\frac{1}{n} \\sum\\limits_{i=1}^n \\ell (g(w, x_i), y_i) + \\frac{\\lambda}{2} \\| w \\|^2_2,\n",
    "\\end{equation}\n",
    "$$\n",
    "где $\\ell$ - функция ошибки, $g$ - модель, $w$ - параметры модели, $\\{x_i, y_i\\}_{i=1}^n$ набор данных состоящий из признаков $x_i$ и значений $y_i$, $\\lambda > 0$ - параметр регуляризации\n",
    "\n",
    "Будем использовать линейную модель $g(w, x) = w^T x$ и логистическую (сигмоидальную) функцию ошибки: $\\ell(z,y) = \\ln (1 + \\exp(-yz))$ (**Важно: $y$ должны принимать значения -1 или +1**). Получившуюся задачу обычно называют задачей логистической регрессией"
   ]
  },
  {
   "cell_type": "markdown",
   "id": "69b3ebad",
   "metadata": {},
   "source": [
    "### Задание 1 (9 баллов)"
   ]
  },
  {
   "cell_type": "markdown",
   "id": "ca3647cb",
   "metadata": {},
   "source": [
    "В этом задании вам нужно:\n",
    "\n",
    "- Вычислить градиент и Гессиан для данной задачи\n",
    "- Доказать, что задача является $\\mu$-сильно выпуклой и имеет $L$-Липшецевый градиент с $\\mu = \\lambda$ и $L = \\lambda + \\frac{1}{4n} \\sum_{i=1}^n \\| x_i\\|^2_2$"
   ]
  },
  {
   "cell_type": "markdown",
   "id": "5bb04e1d",
   "metadata": {},
   "source": [
    "### Решение"
   ]
  },
  {
   "cell_type": "code",
   "execution_count": 118,
   "id": "9392d160",
   "metadata": {},
   "outputs": [],
   "source": [
    "# ваше решение (markdown)"
   ]
  },
  {
   "cell_type": "markdown",
   "id": "f70001de",
   "metadata": {},
   "source": [
    "### Задание 2 (4 балла)"
   ]
  },
  {
   "cell_type": "markdown",
   "id": "ff2ae920",
   "metadata": {},
   "source": [
    "К ноутбуку прилагается датасет *mushrooms.txt*. Так же его можно скачать по [ссылке](https://drive.google.com/file/d/1lgwawQxGD_6XruWbquMH6W2yKPVQ5kdi/view?usp=sharing)"
   ]
  },
  {
   "cell_type": "code",
   "execution_count": 119,
   "id": "afdfdb08",
   "metadata": {},
   "outputs": [
    {
     "name": "stdout",
     "output_type": "stream",
     "text": [
      "train_mush_x.shape=(6499, 112)\n",
      "train_mush_y.shape=(6499,)\n",
      "len(train_mush)=6499\n",
      "len(test_mush)=1625\n"
     ]
    }
   ],
   "source": [
    "# файл должен лежать в той же директории, что и ноутбук\n",
    "dataset = \"mushrooms.txt\"\n",
    "\n",
    "data = load_svmlight_file(dataset)\n",
    "mushrooms_x, mushrooms_y = data[0].toarray(), data[1]\n",
    "\n",
    "# сделаем y -1 или 1\n",
    "mushrooms_y = 2 * mushrooms_y - 3\n",
    "\n",
    "train_mush_x, test_mush_x, train_mush_y, test_mush_y = train_test_split(\n",
    "    mushrooms_x, mushrooms_y, test_size=0.2, random_state=42\n",
    ")\n",
    "\n",
    "print(f\"{train_mush_x.shape=}\")\n",
    "print(f\"{train_mush_y.shape=}\")\n",
    "\n",
    "train_mush = list(zip(train_mush_x, train_mush_y))\n",
    "test_mush = list(zip(test_mush_x, test_mush_y))\n",
    "\n",
    "print(f\"{len(train_mush)=}\")\n",
    "print(f\"{len(test_mush)=}\")\n",
    "\n",
    "assert len(train_mush) == 6499\n",
    "assert len(test_mush) == 1625"
   ]
  },
  {
   "cell_type": "markdown",
   "id": "78a6386d",
   "metadata": {},
   "source": [
    "В этом задании вам нужно:\n",
    "- Для тренировочной части `train_mush` оценить константу $L =  \\frac{1}{4n} \\sum\\limits_{i=1}^n \\| x_{i} \\|^2_2 + \\lambda$.\n",
    "Возьмите $\\lambda \\approx L / 1000$\n",
    "- Написать функцию для вычисления значения $f(w)$, градиента $\\nabla f(w)$ и гессиана $\\nabla^2 f(w)$. Функции должны принимать также параметры $x$ и $y$ (`train_mush_x`, `train_mush_y`)\n",
    "- Проверить правильность функции для вычисления $f(w)$, используя функцию `assert_mush()`. Если проверка не проведена или провалена, **задание автоматически считается невыполненным**\n",
    "- Написать функцию `mush_accuracy()`, которая бы считала точность предсказаний на тестовых данных `test_mush`"
   ]
  },
  {
   "cell_type": "code",
   "execution_count": 120,
   "id": "c3b96ae4",
   "metadata": {},
   "outputs": [],
   "source": [
    "def assert_mush(mush_f: Callable, mush_grad: Callable, mush_hess: Callable):\n",
    "    w = np.zeros(train_mush_x[0].shape[0])\n",
    "    assert mush_f(w) == 0.6931471805599453\n",
    "    assert mush_grad(w).sum() == -0.3732112632712724\n",
    "    assert mush_hess(w).sum() == 110.83858858858859"
   ]
  },
  {
   "cell_type": "markdown",
   "id": "f25ac156",
   "metadata": {},
   "source": [
    "### Решение"
   ]
  },
  {
   "cell_type": "code",
   "execution_count": 121,
   "id": "b1f7beb4",
   "metadata": {},
   "outputs": [],
   "source": [
    "# ваше решение (code + markdown)"
   ]
  },
  {
   "cell_type": "markdown",
   "id": "66eac0bc",
   "metadata": {},
   "source": [
    "Проверка"
   ]
  },
  {
   "cell_type": "code",
   "execution_count": 124,
   "id": "6c8d4876",
   "metadata": {},
   "outputs": [],
   "source": [
    "assert_mush(...)"
   ]
  },
  {
   "cell_type": "markdown",
   "id": "4f6d8520",
   "metadata": {},
   "source": [
    "### Задание 3 (5 баллов)"
   ]
  },
  {
   "cell_type": "markdown",
   "id": "32703f9e",
   "metadata": {},
   "source": [
    "Рассмотрим метод градиентного спуска (Gradient Descent)\n",
    "\n",
    "$$\n",
    "\\begin{equation*}\n",
    "x_{k+1} = x_k - \\gamma_k \\nabla f(x_k)\n",
    "\\end{equation*}\n",
    "$$\n",
    "\n",
    "В этом задании вам нужно:\n",
    "- Дописать функцию `check_approx_mush`, которая будет использоваться для тестирования алгоритмов на датасете mushrooms. В качестве критерия сходимости рекомендуется использовать норму градиента, но вы можете использовать любой другой критерий\n",
    "- Реализовать градиентный спуск как класс, унаследованный от `ManualSolver` (определён ниже)\n",
    "- Запустить градиентный спуск на датасете mushrooms на 500 эпохах и $\\gamma_k=0.001$\n",
    "- Построить следующие графики (можете использовать для этого функцию `draw_plots()`):\n",
    "  - Критерий / Эпоха\n",
    "  - Критерий / Эпоха (логарифмическая шкала)"
   ]
  },
  {
   "cell_type": "markdown",
   "id": "259fcd27",
   "metadata": {},
   "source": [
    "### Решение"
   ]
  },
  {
   "cell_type": "code",
   "execution_count": 125,
   "id": "f80f3a86",
   "metadata": {},
   "outputs": [],
   "source": [
    "w_mush_shape = train_mush_x.shape[1]\n",
    "np.random.seed(420)\n",
    "start_w_mush = np.random.randn(w_mush_shape)  # начальная точка для всех экспериментов"
   ]
  },
  {
   "cell_type": "code",
   "execution_count": 126,
   "id": "2de0d94f",
   "metadata": {},
   "outputs": [],
   "source": [
    "class BaseSolver:\n",
    "    def step(self, x: np.ndarray, k: int) -> np.ndarray:\n",
    "        # эту функцию должны переопределить наследуемые классы\n",
    "        raise NotImplementedError\n",
    "\n",
    "\n",
    "class ManualSolver(BaseSolver):\n",
    "    def __init__(\n",
    "        self,\n",
    "        lr: float | Callable,\n",
    "        grad_f: Callable = mush_grad,\n",
    "        hess_f: Callable = mush_hess,\n",
    "    ) -> None:\n",
    "        self.grad_f = grad_f\n",
    "        self.hess_f = hess_f\n",
    "        self.lr = lr if isinstance(lr, Callable) else lambda _: lr"
   ]
  },
  {
   "cell_type": "code",
   "execution_count": 127,
   "id": "8cf8c9eb",
   "metadata": {},
   "outputs": [],
   "source": [
    "def check_approx_mush(\n",
    "    approximations: list[tuple[str, BaseSolver]],\n",
    "    epochs: int = 500,\n",
    "    start_w: np.ndarray = start_w_mush,\n",
    "    stop_criterion: float = 1e-5,\n",
    ") -> dict:\n",
    "    results_dict = {}\n",
    "\n",
    "    for name, approx in approximations:\n",
    "        accuracies = []\n",
    "        criterion_logs = []  # нормы градиента или что-то другое\n",
    "        time_logs = []\n",
    "\n",
    "        np.random.seed(420)\n",
    "        w = start_w.copy()\n",
    "\n",
    "        # initial eval\n",
    "        ... #TODO\n",
    "\n",
    "        # log\n",
    "        ... #TODO\n",
    "\n",
    "        start_time = time.time()\n",
    "\n",
    "        with tqdm(range(epochs), desc=name) as loop:\n",
    "            for k in loop:\n",
    "                # train\n",
    "                w = approx.step(w, k)\n",
    "\n",
    "                # eval\n",
    "                ... #TODO\n",
    "\n",
    "                # Остановить, если результат функции не определён\n",
    "                if np.isnan(...) or np.isinf(...): #\n",
    "                    break\n",
    "\n",
    "                # log\n",
    "                ... #TODO\n",
    "\n",
    "                time_logs.append(time.time() - start_time)\n",
    "                loop.set_postfix({\"Loss\": ..., \"Accuracy\": ..., \"Grad norm\": ...}) # TODO\n",
    "\n",
    "                # Остановить, если criterion <= stop_criterion\n",
    "                ... #TODO\n",
    "\n",
    "        results_dict[name] = {\n",
    "            \"Epoch\": list(range(len(accuracies))),\n",
    "            \"Time\": time_logs,\n",
    "            \"Accuracy\": accuracies,\n",
    "            \"Criterion\": criterion_logs,\n",
    "            \"W\": w.copy(),\n",
    "        }\n",
    "\n",
    "    return results_dict"
   ]
  },
  {
   "cell_type": "code",
   "execution_count": 128,
   "id": "1bc3c4ab",
   "metadata": {},
   "outputs": [],
   "source": [
    "# ваше решение (code + markdown)"
   ]
  },
  {
   "cell_type": "markdown",
   "id": "ad315fc4",
   "metadata": {},
   "source": [
    "### Задание 4 (3 балла)"
   ]
  },
  {
   "cell_type": "markdown",
   "id": "f5bab0e5",
   "metadata": {},
   "source": [
    "В этом задании вам нужно:\n",
    "- Протестировать градиентный спуск с шагом $\\gamma_k = \\frac{1}{L}$ на 500 эпохах\n",
    "- Протестировать градиентный спуск с разными, но константными шагами $\\gamma_k = \\gamma$ на 1000 эпохах (не менее четырёх экспериментов). Попробуйте $\\gamma$ из диапазона от $0$ до $3/L$\n",
    "- Построить следующие графики (в дальнейших заданиях нужно использовать такой же набор графиков):\n",
    "  - Критерий / Эпоха (логарифмическая шкала)\n",
    "  - Критерий / Время (логарифмическая шкала)\n",
    "  - Точность (Accuracy) / Эпоха\n",
    "  - Точность (Accuracy) / Время\n",
    "\n",
    "- Определить, какой шаг оказался \"лучшим\". Не забудьте пояснить, по каким критериям определяли \"лучший\"\n",
    "- Сделайте выводы"
   ]
  },
  {
   "cell_type": "markdown",
   "id": "34a69dd9",
   "metadata": {},
   "source": [
    "### Решение"
   ]
  },
  {
   "cell_type": "code",
   "execution_count": 132,
   "id": "8e407371",
   "metadata": {},
   "outputs": [],
   "source": [
    "# ваше решение (code + markdown)"
   ]
  },
  {
   "cell_type": "markdown",
   "id": "6a9570d1",
   "metadata": {},
   "source": [
    "**Выводы**\n",
    "- ..."
   ]
  },
  {
   "cell_type": "markdown",
   "id": "e320c6a5",
   "metadata": {},
   "source": [
    "### Задание 5* (3 балла)"
   ]
  },
  {
   "cell_type": "markdown",
   "id": "1fdb6ba9",
   "metadata": {},
   "source": [
    "Теперь рассмотрим другие техники выбора шага, а не только константные\n",
    "\n",
    "В этом задании вам нужно:\n",
    "- Протестировать градиентный спуск с шагом $\\gamma_k = \\frac{\\gamma}{\\delta + k}$, где  $\\gamma$ и $\\delta$ должны быть подобраны по-отдельности. Какая конфигурация показывает лучшие результаты?\n",
    "- Протестировать градиентный спуск с шагом $\\gamma_k = \\frac{\\gamma}{\\delta + \\sqrt{k}}$, где  $\\gamma$ и $\\delta$ должны быть подобраны по-отдельности. Какая конфигурация показывает лучшие результаты?\n",
    "- Построить сравнительные графики на датасете mushrooms для предложенных подходов (в том числе из предыдущих заданий)\n",
    "- Сделайте выводы\n"
   ]
  },
  {
   "cell_type": "markdown",
   "id": "bb583f13",
   "metadata": {},
   "source": [
    "### Решение"
   ]
  },
  {
   "cell_type": "code",
   "execution_count": 135,
   "id": "cb26b34f",
   "metadata": {},
   "outputs": [],
   "source": [
    "# ваше решение (code + markdown)"
   ]
  },
  {
   "cell_type": "markdown",
   "id": "50ab280c",
   "metadata": {},
   "source": [
    "**Выводы**\n",
    "\n",
    "...\n"
   ]
  },
  {
   "cell_type": "markdown",
   "id": "bffc8ae1",
   "metadata": {},
   "source": [
    "### Задание 6 (5 баллов)"
   ]
  },
  {
   "cell_type": "markdown",
   "id": "e655dd96",
   "metadata": {},
   "source": [
    "Рассмотрим так называемый Метод тяжёлого шарика (Heavy Ball)\n",
    "\n",
    "$$\n",
    "\\begin{align*}\n",
    "& x_{k+1} = x_k - \\gamma_k \\sum_{i\\in \\mathcal{X}} \\nabla f_i(x_k) + \\beta_k (x_k - x_{k-1})\n",
    "\\end{align*}\n",
    "$$\n",
    "\n",
    "Или, как обычно записывают на практике:\n",
    "\n",
    "$$\n",
    "\\begin{align*}\n",
    "& h_k = \\beta_k h_{k-1} - \\gamma_k \\sum_{i\\in \\mathcal{X}} \\nabla f_i(x_k) \\\\\n",
    "& x_{k+1} = x_k + h_k\n",
    "\\end{align*}\n",
    "$$\n",
    "\n",
    "Метод как бы предполагает наличие у текущей точки есть инерция, как у \"тяжелого\" материального шарика движущегося по наклонной поверхности.\n",
    "\n",
    "\n",
    "В этом задании вам нужно:\n",
    "- Реализовать метод тяжёлого шарика как класс, унаследованный от `BaseSolver`. Обратите внимание, что в методе есть дополнительный гиперпараметр $\\beta_k$\n",
    "- Запустить метод тяжёлого шарика на датасете mushrooms на 500 эпохах и подберите лучший набор гиперпарамеров ($\\gamma_k$ и $\\beta_k$), как выше с градиентным спуском\n",
    "- Построить графики, как в предыдущем задании\n",
    "- Сделать выводы. В том числе опишите, на что влияет изменение $\\beta_k$"
   ]
  },
  {
   "cell_type": "markdown",
   "id": "9ea4b012",
   "metadata": {},
   "source": [
    "### Решение"
   ]
  },
  {
   "cell_type": "code",
   "execution_count": 138,
   "id": "008d6e32",
   "metadata": {},
   "outputs": [],
   "source": [
    "# ваше решение (code + markdown)"
   ]
  },
  {
   "cell_type": "markdown",
   "id": "6fe99e9e",
   "metadata": {},
   "source": [
    "**Выводы**\n",
    "- ..."
   ]
  },
  {
   "cell_type": "markdown",
   "id": "cd3d9b7f",
   "metadata": {},
   "source": [
    "### Задание 7* (5 баллов)"
   ]
  },
  {
   "cell_type": "markdown",
   "id": "73739783",
   "metadata": {},
   "source": [
    "Рассмотрим ещё один ускоренный метод - Ускоренный градиентный метод Нестерова (Nesterov Momentum)\n",
    "\n",
    "$$\n",
    "\\begin{align*}\n",
    "& x_{k+1} = y_k - \\gamma_k \\sum_{i\\in \\mathcal{X}} \\nabla f_i(y_k) \\\\\n",
    "& y_{k+1} = x_{k+1} + \\beta_k (x_{k+1} - x_k)\n",
    "\\end{align*}\n",
    "$$\n",
    "\n",
    "Или, как обычно записывают на практике:\n",
    "\n",
    "$$\n",
    "\\begin{align*}\n",
    "& h_k = \\beta_k h_{k-1} - \\gamma_k \\sum_{i\\in \\mathcal{X}} \\nabla f_i(x_k + \\beta_k  h_{k-1})\\\\\n",
    "& x_{k+1} = x_k + h_k\n",
    "\\end{align*}\n",
    "$$\n",
    "\n",
    "Ключевое отличие метода Нестерова от метода тяжёлого шарика в том, что благодаря импульсу в точку подсчёта градиента, происходит экстраполяция, или \"взгляд в будущее\"\n",
    "\n",
    "\n",
    "В этом задании вам нужно:\n",
    "- Реализовать метод Нестерова как класс, унаследованный от `BaseSolver`\n",
    "- Запустить метод Нестерова на датасете mushrooms на 500 эпохах и подберите лучший набор гиперпарамеров ($\\gamma_k$ и $\\beta_k$), как в предыдущих заданиях\n",
    "- Построить графики, как в предыдущих заданиях\n",
    "- Сделать выводы. В том числе опишите, на что влияет изменение $\\beta_k$"
   ]
  },
  {
   "cell_type": "markdown",
   "id": "2c5f94f8",
   "metadata": {},
   "source": [
    "### Решение"
   ]
  },
  {
   "cell_type": "code",
   "execution_count": 141,
   "id": "10ad95f9",
   "metadata": {},
   "outputs": [],
   "source": [
    "# ваше решение (code + markdown)"
   ]
  },
  {
   "cell_type": "markdown",
   "id": "c0fad44c",
   "metadata": {},
   "source": [
    "**Выводы**\n",
    "- ..."
   ]
  },
  {
   "cell_type": "markdown",
   "id": "1e87a5b8",
   "metadata": {},
   "source": [
    "### Задание 8 (5 баллов)"
   ]
  },
  {
   "cell_type": "markdown",
   "id": "53549f6f",
   "metadata": {},
   "source": [
    "Три предыдущих метода (градиентный спуск, метод тяжёлого шарика и метод Нестерова) относятся к методам первого порядка, так как использует для обновления только градиент целевой функции\n",
    "\n",
    "Рассмотрим один из самых известных методов второго порядка - Метод Ньютона (Newton's method):\n",
    "\n",
    "$$\n",
    "x_{k+1} = x_k - \\nabla^2f(x_k)^{-1} \\nabla f(x_k)\n",
    "$$\n",
    "\n",
    "А точнее, его модификацию - демпфированный метод Ньютона (Dumped Newton's method):\n",
    "\n",
    "$$\n",
    "x_{k+1} = x_k - \\gamma_k \\nabla^2f(x_k)^{-1} \\nabla f(x_k)\n",
    "$$\n",
    "\n",
    "Как видно из описания метода, для обновления параметров используется обратный гессиан\n",
    "\n",
    "В этом задании вам нужно:\n",
    "- Реализовать демпфированный метод Ньютона как класс, унаследованный от `BaseSolver`\n",
    "- Запустить демпфированный метод Ньютонана датасете mushrooms на 500 эпохах и подберите лучший шаг ($\\gamma_k$), как в предыдущих заданиях. Обязательно попробуйте $\\gamma_k = 1$, что соответствует оригинальному методу Ньютона\n",
    "- Построить графики, как в предыдущих заданиях\n",
    "- Зафиксировать $\\gamma_k = 1$ и попробовать варьировать начальную точку алгоритма `start_w`. Обязательно попробуйте нулевой и единичный вектора. Построить графики сходимости\n",
    "- Сделать выводы"
   ]
  },
  {
   "cell_type": "markdown",
   "id": "7ce7fd01",
   "metadata": {},
   "source": [
    "### Решение"
   ]
  },
  {
   "cell_type": "code",
   "execution_count": 144,
   "id": "0d0a97c9",
   "metadata": {},
   "outputs": [],
   "source": [
    "# ваше решение (code + markdown)"
   ]
  },
  {
   "cell_type": "markdown",
   "id": "17f93635",
   "metadata": {},
   "source": [
    "**Выводы**\n",
    "- ..."
   ]
  },
  {
   "cell_type": "markdown",
   "id": "1a34efa1",
   "metadata": {},
   "source": [
    "### Задание 9 (2 балла)"
   ]
  },
  {
   "cell_type": "markdown",
   "id": "a28eb464",
   "metadata": {},
   "source": [
    "В этом задании вам нужно:\n",
    "- Построить общий график для лучших методов из предыдущих заданий (градиентный спуск, метод тяжёлого шарика, метод Нестерова*, метод Ньютона)\n",
    "- Объяснить, по каким критериям выбирали лучшие методы\n",
    "- Сделать выводы. Какой метод наиболее предпочтителен? Почему?"
   ]
  },
  {
   "cell_type": "markdown",
   "id": "5b0bd6db",
   "metadata": {},
   "source": [
    "### Решение"
   ]
  },
  {
   "cell_type": "code",
   "execution_count": 148,
   "id": "86132e4f",
   "metadata": {},
   "outputs": [],
   "source": [
    "# ваше решение (code + markdown)"
   ]
  },
  {
   "cell_type": "markdown",
   "id": "5383b316",
   "metadata": {},
   "source": [
    "**Выводы**\n",
    "- ..."
   ]
  },
  {
   "cell_type": "markdown",
   "id": "6ffacbae",
   "metadata": {},
   "source": [
    "## Часть 2. Сравнение Numpy, PyTorch и JAX (12 + 11 балла)"
   ]
  },
  {
   "cell_type": "markdown",
   "id": "f84197fb",
   "metadata": {},
   "source": [
    "В предыдущих частях вы в основном работали с Numpy, так как первая и вторая производные нашей функции могли быть теоретически вычислены. Однако, так бывает не всегда. В таких случаях прибегают к библиотекам, которые предоставляют функции автоматического дифференцирования. Одни из самых популярных (и знакомых вам из семинаров) - PyTorch и JAX. Это часть работы посвящена сравнению удобства и производительности трёх библиотек - Numpy, PyTorch и JAX - для реализации как простых математических операций, так и автоматического дифференцирования"
   ]
  },
  {
   "cell_type": "markdown",
   "id": "8782bb52",
   "metadata": {},
   "source": [
    "### Задание 1 (1 балл)"
   ]
  },
  {
   "cell_type": "markdown",
   "id": "cf15861d",
   "metadata": {},
   "source": [
    "В этом задании вам нужно:\n",
    "\n",
    "- Реализовать функцию `measure_script_time()`, которая\n",
    "  - Принимает другую функцию, аргументы для неё, количество повторений вызова и количество \"разгоночных вызовов\" (warm up calls)\n",
    "  - Совершает \"разгоночные вызовы\" переданной функции, а затем замеряет среднее время работы переданной функции на переданном количестве повторений\n",
    "  - Возвращает среднее время работы переданной функции в миллисекундах\n",
    "- Зафиксировать для всех дальнейших экспериментов количество повторений равное 50 и количество \"разгоночных вызовов\" равное 5\n",
    "- Предположить, для чего нужны \"разгоночные вызовы\""
   ]
  },
  {
   "cell_type": "markdown",
   "id": "7b8d0665",
   "metadata": {},
   "source": [
    "### Решение"
   ]
  },
  {
   "cell_type": "code",
   "execution_count": 150,
   "id": "99a71b21",
   "metadata": {},
   "outputs": [],
   "source": [
    "# ваше решение (code + markdown)"
   ]
  },
  {
   "cell_type": "markdown",
   "id": "8471e514",
   "metadata": {},
   "source": [
    "### Задание 2 (4 баллов)"
   ]
  },
  {
   "cell_type": "markdown",
   "id": "c38c181b",
   "metadata": {},
   "source": [
    "В этом задании вам нужно:\n",
    "\n",
    "- Реализовать функцию, которая будет измерять среднее время выполнения для каждой из библиотек (Numpy, PyTorch и JAX) следующих операций:\n",
    "  - Матричного умножения (сделайте замеры для матриц размером 100, 500, 1000 и 2000)\n",
    "  - Матричного сложения (сделайте замеры для матриц размером 100, 500, 1000 и 3000)\n",
    "  - Поэлементного умножения двух матриц (сделайте замеры для матриц размером 100, 500, 1000 и 3000)\n",
    "- Постройте соответствующие графики (отдельный график для каждой операции)\n",
    "- Сделайте выводы\n",
    "\n",
    "**ПРИМЕЧАНИЕ**: Для экспериментов дайте возможность генерировать две случайные матрицы на базе переданного seed. Зафиксируйте одно значение seed и используйте его для всех экспериментов. Очевидно, матрицы для всех трёх библиотек должны быть одинаковые. Как вариант, генерировать случайные матрицы с помощью `np.random.rand`, а затем, с помощью `torch.from_numpy` и `jnp.array`, переводить их в структуры других библиотек. Наконец, сделайте так, чтобы все матрицы во всех библиотеках были типа **float32**: `np.float32`, `torch.float32` и `jnp.float32`"
   ]
  },
  {
   "cell_type": "markdown",
   "id": "f1748b7f",
   "metadata": {},
   "source": [
    "### Решение"
   ]
  },
  {
   "cell_type": "code",
   "execution_count": 152,
   "id": "b56bd1b9",
   "metadata": {},
   "outputs": [],
   "source": [
    "# ваше решение (code + markdown)"
   ]
  },
  {
   "cell_type": "markdown",
   "id": "7c2bba3c",
   "metadata": {},
   "source": [
    "### Задание 3 (3 балла)"
   ]
  },
  {
   "cell_type": "markdown",
   "id": "2772c560",
   "metadata": {},
   "source": [
    "В этом задании вам нужно:\n",
    "\n",
    "- Реализовать функцию, аналогичную функции из предыдущего задания (с сохранением всех примечаний!), но уже для следующих операций:\n",
    "  - Вычисление собственных значений матрицы (сделайте замеры для матрицы размером 10, 50, 100 и 150)\n",
    "  - Вычисление обратной матрицы (сделайте замеры для матрицы размером 10, 50, 100 и 150)\n",
    "  - SVD разложение матрицы (сделайте замеры для матрицы размером 10, 50, 100 и 150)\n",
    "- Постройте соответствующие графики (отдельный график для каждой операции)\n",
    "- Сделайте выводы"
   ]
  },
  {
   "cell_type": "markdown",
   "id": "08df2c40",
   "metadata": {},
   "source": [
    "### Решение"
   ]
  },
  {
   "cell_type": "code",
   "execution_count": 154,
   "id": "ed7ca3f7",
   "metadata": {},
   "outputs": [],
   "source": [
    "# ваше решение (code + markdown)"
   ]
  },
  {
   "cell_type": "markdown",
   "id": "3218790d",
   "metadata": {},
   "source": [
    "### Задание 4 (4 балла)"
   ]
  },
  {
   "cell_type": "markdown",
   "id": "89030346",
   "metadata": {},
   "source": [
    "От сравнения реализации математических функций перейдём к сравнению автоматического дифференцирования. Так как Numpy не предоставляет возможности автоматического дифференцирования, для этой библиотеки вам нужно будет аналитически получить производную и реализовать её как функцию (как градиент для логистической регрессии из предыдущей части, например). Обязательно опишите процесс вывода производной\n",
    "\n",
    "\n",
    "В этом задании вам нужно:\n",
    "\n",
    "- Реализовать функцию, аналогичную функции из предыдущего задания (с сохранением всех примечаний!), но уже для операции автоматического дифференцирования (кроме Numpy: по поводу него - выше). Для дифференцирования используйте следующие функции:\n",
    "  - Любая квадратичная функция вида $ax^2 +bx+c$ с поэлементный возведением в квадрат. Зафиксируйте параметры $a$, $b$ и $c$. (Сделайте замеры для матрицы размером 10, 50, 200, 500 и 1000)\n",
    "  - Любая функция, использующая тригонометрические функции. Например, $e^{sin(x^2)}$ с поэлементный возведением в квадрат. (Сделайте замеры для матрицы размером 10, 50, 200, 500 и 1000)\n",
    "- Постройте соответствующие графики (отдельный график для каждой функции)\n",
    "- Сделайте выводы не только о производительности, но и об удобстве интерфейса библиотек\n",
    "\n",
    "**Примечание:** Если вы будете используйте `.backward()` в библиотеке PyTorch, то вы можете столкнуться со следующей ошибкой - результат перечисленных выше функций является матрицей, а `.backward()` можно вызвать только для скаляра. В таком случае, вы можете обернуть функцию в $torch.sum()$, что эквивалентно суммированию координат получившейся матрицы. Однако не забудьте сделать то же самое и для других библиотек"
   ]
  },
  {
   "cell_type": "markdown",
   "id": "70999b20",
   "metadata": {},
   "source": [
    "### Решение"
   ]
  },
  {
   "cell_type": "code",
   "execution_count": 156,
   "id": "d4d43d96",
   "metadata": {},
   "outputs": [],
   "source": [
    "# ваше решение (code + markdown)"
   ]
  },
  {
   "cell_type": "markdown",
   "id": "40c76f6d",
   "metadata": {},
   "source": [
    "**Выводы**\n",
    "- ..."
   ]
  },
  {
   "cell_type": "markdown",
   "id": "afbea410",
   "metadata": {},
   "source": [
    "### Задание 5* (3 балла)"
   ]
  },
  {
   "cell_type": "markdown",
   "id": "ed4d07a0",
   "metadata": {},
   "source": [
    "Теперь попробуем провести сравнение в контексте реальной задачи. Очень кстати у нас есть функция логистической регрессии из предыдущей части. До этого мы использовали явно найденную функцию градиента для реализации, например, градиентного спуска. Теперь же попробуем использовать автоматическое дифференцирование с помощью JAX и PyTorch\n",
    "\n",
    "В этом задании вам нужно:\n",
    "\n",
    "- Написать функцию для вычисления значения $f(w)$ (как в задании 2 части 3) с использованием библиотеки PyTorch\n",
    "- Написать функцию для вычисления значения $f(w)$ (как в задании 2 части 3) с использованием библиотеки JAX. Подсказка: используйте `@jax.jit`\n",
    "- Удостовериться, что значения написанных функций совпадают со значением функции из задания 2 части 3 в начальной точке\n",
    "- Написать функции, позволяющие находить значение градиента и гессиана в точке с использованием автоматического дифференцирования из библиотек PyTorch И JAX\n",
    "- Удостовериться, что значения градиентов и гессианов функций, вычисленных с использованием автоматического дифференцирования, совпадают со значением аналитического градиента и гессиана функции из задания 2 части 3 в начальной точке"
   ]
  },
  {
   "cell_type": "markdown",
   "id": "59929cc5",
   "metadata": {},
   "source": [
    "### Решение"
   ]
  },
  {
   "cell_type": "code",
   "execution_count": 158,
   "id": "a50119ef",
   "metadata": {},
   "outputs": [],
   "source": [
    "# ваше решение (code + markdown)"
   ]
  },
  {
   "cell_type": "markdown",
   "id": "737824a4",
   "metadata": {},
   "source": [
    "### Задание 6* (4 балла)"
   ]
  },
  {
   "cell_type": "markdown",
   "id": "ae80f7c0",
   "metadata": {},
   "source": [
    "Теперь на базе предыдущего задания реализуем градиентный спуск\n",
    "\n",
    "В этом задании вам нужно:\n",
    "- Реализовать градиентный спуск, используя функции с автоматическим дифференцированием из PyTorch из предыдущего задания, как класс, унаследованный от `AutomaticSolver` (определён ниже)\n",
    "- Реализовать градиентный спуск, используя функции с автоматическим дифференцированием из JAX из предыдущего задания, как класс, унаследованный от `AutomaticSolver` (определён ниже)\n",
    "- Запустить три версии градиентно спуска: с использованием Numpy (задание 3 часть 3), PyTorch и JAX на датасете mushrooms на 500 эпохах и фиксированным шагом (например, $\\gamma_k=\\frac{1}{L}$). Используйте `check_approx_mush`\n",
    "- Построить сравнительные графики (как в задании 3 части 3)\n",
    "- Сделать выводы, в том числе\n",
    "  - Какой подход оказался самым эффективным? Как определяли эффективность?\n",
    "  - Какой подход самый удобный с точки зрения пользовательского опыта? Почему?\n",
    "\n",
    "**Примечание:** Заметьте, что входные и входные данные функции `step()` класса `AutomaticSolver` имеют тип `np.ndarray`. Это сделано для согласования с функцией `check_approx_mush`. В частности это значит, что внутри функции `step()` нужно сделать необходимые преобразования типов"
   ]
  },
  {
   "cell_type": "code",
   "execution_count": 161,
   "id": "76a05bb1",
   "metadata": {},
   "outputs": [],
   "source": [
    "class AutomaticSolver(BaseSolver):\n",
    "    def __init__(\n",
    "        self,\n",
    "        lr: float | Callable,\n",
    "        f: Callable,\n",
    "    ) -> None:\n",
    "        self.f = f\n",
    "        self.lr = lr if isinstance(lr, Callable) else lambda _: lr\n",
    "\n",
    "    def step(self, x: np.ndarray, k: int) -> np.ndarray:\n",
    "        # эту функцию должны переопределить наследуемые классы\n",
    "        raise NotImplementedError"
   ]
  },
  {
   "cell_type": "markdown",
   "id": "1511ee66",
   "metadata": {},
   "source": [
    "### Решение"
   ]
  },
  {
   "cell_type": "code",
   "execution_count": 162,
   "id": "316b81f6",
   "metadata": {},
   "outputs": [],
   "source": [
    "# ваше решение (code + markdown)"
   ]
  },
  {
   "cell_type": "markdown",
   "id": "ee33b8f7",
   "metadata": {},
   "source": [
    "**Выводы**\n",
    "- ..."
   ]
  },
  {
   "cell_type": "markdown",
   "id": "f0020686",
   "metadata": {},
   "source": [
    "### Задание 7* (4 балла)"
   ]
  },
  {
   "cell_type": "markdown",
   "id": "465d413b",
   "metadata": {},
   "source": [
    "Увеличим ставки и протестируем наши подходе на методе второго порядка - методе Ньютона\n",
    "\n",
    "В этом задании вам нужно:\n",
    "- Реализовать метод Ньютона, используя функции с автоматическим дифференцированием из PyTorch из предыдущего задания, как класс, унаследованный от `AutomaticSolver`\n",
    "- Реализовать метод Ньютона, используя функции с автоматическим дифференцированием из JAX из предыдущего задания, как класс, унаследованный от `AutomaticSolver`\n",
    "- Запустить три версии метода Ньютона: с использованием Numpy (задание 8 часть 3), PyTorch и JAX на датасете mushrooms на 500 эпохах и фиксированным шагом (например, $\\gamma_k=\\frac{1}{L}$). Используйте `check_approx_mush`\n",
    "- Построить сравнительные графики (как в задании 8 части 3)\n",
    "- Сделать выводы, в том числе\n",
    "  - Какой подход оказался самым эффективным? Как определяли эффективность?\n",
    "  - Какой подход самый удобный с точки зрения пользовательского опыта? Почему?"
   ]
  },
  {
   "cell_type": "markdown",
   "id": "d74c7ffc",
   "metadata": {},
   "source": [
    "### Решение"
   ]
  },
  {
   "cell_type": "code",
   "execution_count": 166,
   "id": "64853b31",
   "metadata": {},
   "outputs": [],
   "source": [
    "# ваше решение (code + markdown)"
   ]
  },
  {
   "cell_type": "markdown",
   "id": "fad16005",
   "metadata": {},
   "source": [
    "**Выводы**\n",
    "- ..."
   ]
  },
  {
   "cell_type": "markdown",
   "id": "6a998629",
   "metadata": {},
   "source": [
    "# <a id='day3'></a> День 3 (12 баллов)"
   ]
  },
  {
   "cell_type": "markdown",
   "id": "53f1fe6c",
   "metadata": {},
   "source": [
    "## Часть 1. Шаг обучения (12 баллов)"
   ]
  },
  {
   "cell_type": "markdown",
   "id": "06d0c098",
   "metadata": {},
   "source": [
    "Один из важных аспектов тренировки нейронных сетей с использованием PyTorch — использование `lr_scheduler` (Learning Rate Scheduler). Этот инструмент позволяет динамически изменять скорость обучения во время тренировки модели, что может значительно повлиять на конечные результаты\n",
    "\n",
    "Используя `lr_scheduler` вместо константного шага, как это обычно делается, помогает достичь большей стабильности обучения, миновать локальные минимумы, а также предотвратить переобучение модели. Однако, требуется тщательная настройка и подбор параметров: в некоторых случаях динамическое изменение скорости обучения может увеличить общее время тренировки модели, особенно если параметры выбраны неверно\n",
    "\n",
    "В этой части работы вам предстоит попробовать разные варианты scheduler'а и проанализировать их влияние на процесс обучения"
   ]
  },
  {
   "cell_type": "markdown",
   "id": "bb51bdce",
   "metadata": {},
   "source": [
    "### Задание 1 (2 балла)"
   ]
  },
  {
   "cell_type": "markdown",
   "id": "22ad53cf",
   "metadata": {},
   "source": [
    "Для примера, рассмотрим `ExponentialLR`, принимающий единственный параметр - $\\gamma$\n",
    "\n",
    "Так его выглядит формула обновления шага $\\eta$ для $k$-той итерации:\n",
    "\n",
    "$$\n",
    "\\eta_k = \\gamma \\eta_{k-1}\n",
    "$$\n",
    "\n",
    "Заполните функции ниже, чтобы отобразить изменение шага обучения в зависимости от параметра $\\gamma$\n",
    "\n"
   ]
  },
  {
   "cell_type": "markdown",
   "id": "4e78c385",
   "metadata": {},
   "source": [
    "### Решение"
   ]
  },
  {
   "cell_type": "code",
   "execution_count": 170,
   "id": "0033576c",
   "metadata": {},
   "outputs": [],
   "source": [
    "def plot_learning_rates(\n",
    "    schedulers: list[\n",
    "        tuple[\n",
    "            str, Callable[[torch.optim.Optimizer], torch.optim.lr_scheduler.LRScheduler]\n",
    "        ]\n",
    "    ],\n",
    "    start_lr: float,\n",
    "    steps: int,\n",
    "    title: str,\n",
    "):\n",
    "    model = torch.nn.Linear(1, 1)\n",
    "    for name, scheduler_lambda in schedulers:\n",
    "        optimizer = torch.optim.SGD(model.parameters(), lr=start_lr)\n",
    "\n",
    "        scheduler = ... # TODO\n",
    "\n",
    "        lrs = []\n",
    "\n",
    "        with warnings.catch_warnings(action=\"ignore\"):\n",
    "            for _ in range(steps):\n",
    "                lrs.append(...) # TODO\n",
    "\n",
    "                scheduler.step()\n",
    "\n",
    "        plt.plot(..., ..., label=name) # TODO\n",
    "\n",
    "    plt.xlabel(\"Step\")\n",
    "    plt.ylabel(\"Learning rate\")\n",
    "    columns = math.ceil(len(schedulers) / 3)\n",
    "    plt.legend(loc=\"lower center\", ncol=3, bbox_to_anchor=(0.5, -0.2 - 0.05 * columns))\n",
    "    plt.title(title)\n",
    "    plt.show()"
   ]
  },
  {
   "cell_type": "code",
   "execution_count": null,
   "id": "1b5c763d",
   "metadata": {},
   "outputs": [],
   "source": [
    "plot_learning_rates(\n",
    "    [\n",
    "        (\"Постоянный\", partial(torch.optim.lr_scheduler.ExponentialLR, gamma=...)), # TODO\n",
    "        (\"0.99^k\", partial(torch.optim.lr_scheduler.ExponentialLR, gamma=...)), # TODO\n",
    "        (\"0.9^k\", partial(torch.optim.lr_scheduler.ExponentialLR, gamma=...)), # TODO\n",
    "    ],\n",
    "    start_lr=1e-3,\n",
    "    steps=100,\n",
    "    title=\"Примеры разных схем\",\n",
    ")"
   ]
  },
  {
   "cell_type": "markdown",
   "id": "5256a918",
   "metadata": {},
   "source": [
    "### Задание 2 (5 баллов)"
   ]
  },
  {
   "cell_type": "markdown",
   "id": "7a768544",
   "metadata": {},
   "source": [
    "Используя официальную [документацию](https://pytorch.org/docs/stable/optim.html#how-to-adjust-learning-rate), попробуйте **минимум три** любых различных scheduler'a, помимо `ExponentialLR`\n",
    "\n",
    "Для каждого (кроме, возможно, CyclicLR) напишите формулу обновления шага, как было сделано в предыдущем задании, и постройте график, в котором варьируете параметры scheduler'a (**минимум 4 вариации**). К графикам добавьте соответствующие заголовки и легенды. Используйте функции из предыдущего задания\n",
    "\n",
    "Для этого задания зафиксируйте `start_lr=100` и `steps=100`"
   ]
  },
  {
   "cell_type": "markdown",
   "id": "3ba72b37",
   "metadata": {},
   "source": [
    "### Решение"
   ]
  },
  {
   "cell_type": "code",
   "execution_count": 172,
   "id": "f3e6b091",
   "metadata": {},
   "outputs": [],
   "source": [
    "# ваше решение (code + markdown)"
   ]
  },
  {
   "cell_type": "markdown",
   "id": "f6d623a3",
   "metadata": {},
   "source": [
    "### Задание 3 (5 баллов)"
   ]
  },
  {
   "cell_type": "markdown",
   "id": "12b8cd36",
   "metadata": {},
   "source": [
    "Используя официальную [документацию](https://pytorch.org/docs/stable/optim.html#how-to-adjust-learning-rate), предложите **минимум 3** различных\n",
    "схемы выбора шага, которые покажут результат на MNIST лучше, чем предложенные ниже (базовые) схемы\n",
    "\n",
    "Для начала, закончите функцию `check_schedulers_mnist()` и постройте необходимые графики для базовых схем с помощью функции `plot_lr_loss()`. Вам понадобятся функции `train_mnist()` и `eval_mnist()`\n",
    "\n",
    "Чтобы удостовериться, что выбранные схемы лучше, воспользуйтесь функцией `check_supremacy()`. Если проверка не проведена или провалена, **задание автоматически считается невыполненным**\n",
    "\n",
    "Для каждой вашей схемы (кроме, возможно, CyclicLR), напишите явную формулу обновления шага\n",
    "\n",
    "Постройте следующие графики для всех (базовых + ваших) схем:\n",
    "- График зависимости ошибки (loss) на тестовых данных от эпохи\n",
    "- График зависимости точности (accuracy) на тестовых данных от эпохи\n",
    "- График зависимости шага обучения от эпохи\n",
    "Используйте функцию `plot_lr_loss()`\n",
    "\n",
    "\n",
    "Сделайте выводы"
   ]
  },
  {
   "cell_type": "code",
   "execution_count": 176,
   "id": "7f8b6538",
   "metadata": {},
   "outputs": [],
   "source": [
    "plot_lr_loss = partial(\n",
    "    draw_plots,\n",
    "    plots=[\n",
    "        ({\"name\": \"Epoch\"}, {\"name\": \"Test Loss\", \"log\": True}),\n",
    "        ({\"name\": \"Epoch\"}, {\"name\": \"Learning Rate\"}),\n",
    "        ({\"name\": \"Epoch\"}, {\"name\": \"Accuracy\"}),\n",
    "    ],\n",
    ")"
   ]
  },
  {
   "cell_type": "code",
   "execution_count": 177,
   "id": "09d8b55e",
   "metadata": {},
   "outputs": [],
   "source": [
    "def check_supremacy(my_data: dict, baseline_data: dict):\n",
    "    for name, data in my_data.items():\n",
    "        for b_name, b_data in baseline_data.items():\n",
    "            if max(b_data[\"Accuracy\"]) >= max(data[\"Accuracy\"]) or min(\n",
    "                b_data[\"Test Loss\"]\n",
    "            ) <= min(data[\"Test Loss\"]):\n",
    "                raise Exception(f\"'{name}' does not beat '{b_name}'\")"
   ]
  },
  {
   "cell_type": "markdown",
   "id": "c138799d",
   "metadata": {},
   "source": [
    "### Решение"
   ]
  },
  {
   "cell_type": "code",
   "execution_count": 178,
   "id": "8bda04d2",
   "metadata": {},
   "outputs": [],
   "source": [
    "def check_schedulers_mnist(\n",
    "    schedulers: list[\n",
    "        tuple[\n",
    "            str, Callable[[torch.optim.Optimizer], torch.optim.lr_scheduler.LRScheduler]\n",
    "        ]\n",
    "    ],\n",
    ") -> dict:\n",
    "    start_lr = 1e-2\n",
    "    epochs = 30\n",
    "    results_dict = {}\n",
    "\n",
    "    for name, scheduler_lambda in schedulers:\n",
    "        test_losses = []\n",
    "        accuracies = []\n",
    "        lrs = []\n",
    "\n",
    "        torch.manual_seed(420)\n",
    "        model = MnistModel().to(DEVICE)\n",
    "        optimizer = torch.optim.SGD(model.parameters(), lr=start_lr)\n",
    "        scheduler = scheduler_lambda(optimizer)\n",
    "\n",
    "        with tqdm(range(epochs), desc=name) as loop:\n",
    "            for _ in loop:\n",
    "                # train\n",
    "                ... # TODO\n",
    "\n",
    "                # eval\n",
    "                ... # TODO\n",
    "\n",
    "                # log\n",
    "                ... # TODO\n",
    "\n",
    "                # scheduler step\n",
    "                scheduler.step()\n",
    "\n",
    "                loop.set_postfix({\"Loss\": ..., \"Accuracy\": ...}) # TODO\n",
    "\n",
    "        results_dict[name] = {\n",
    "            \"Learning Rate\": lrs,\n",
    "            \"Epoch\": list(range(epochs)),\n",
    "            \"Test Loss\": test_losses,\n",
    "            \"Accuracy\": accuracies,\n",
    "        }\n",
    "\n",
    "    return results_dict"
   ]
  },
  {
   "cell_type": "code",
   "execution_count": 179,
   "id": "1289c90d",
   "metadata": {},
   "outputs": [
    {
     "name": "stderr",
     "output_type": "stream",
     "text": [
      "Baseline: 100%|██████████| 30/30 [00:15<00:00,  1.96it/s, Loss=1.71, Accuracy=0.74] \n"
     ]
    },
    {
     "data": {
      "image/png": "[encoded data removed]",
      "text/plain": [
       "<Figure size 1600x800 with 4 Axes>"
      ]
     },
     "metadata": {},
     "output_type": "display_data"
    }
   ],
   "source": [
    "# эту ячейку изменять не нужно!\n",
    "\n",
    "baseline_data = check_schedulers_mnist(\n",
    "    [\n",
    "        (\n",
    "            \"Baseline\",\n",
    "            partial(\n",
    "                torch.optim.lr_scheduler.LambdaLR,\n",
    "                lr_lambda=lambda k: 1 / (k + 1) ** 2,\n",
    "            ),\n",
    "        ),\n",
    "    ]\n",
    ")\n",
    "plot_lr_loss(baseline_data)"
   ]
  },
  {
   "cell_type": "code",
   "execution_count": 180,
   "id": "7274ddb5",
   "metadata": {},
   "outputs": [],
   "source": [
    "# ваше решение (code + markdown)"
   ]
  },
  {
   "cell_type": "code",
   "execution_count": 183,
   "id": "2a638afd",
   "metadata": {},
   "outputs": [],
   "source": [
    "# Проверка должна завершиться без ошибок\n",
    "check_supremacy(..., baseline_data) # TODO"
   ]
  },
  {
   "cell_type": "markdown",
   "id": "f9ad4719",
   "metadata": {},
   "source": [
    "**Выводы**\n",
    "\n",
    "- ..."
   ]
  },
  {
   "cell_type": "markdown",
   "id": "b366ce57",
   "metadata": {},
   "source": [
    "# <a id='day4'></a> День 4 (12 + 19 баллов)"
   ]
  },
  {
   "cell_type": "markdown",
   "id": "fe543e4d",
   "metadata": {},
   "source": [
    "## Часть 1. Больше адаптивных методов (12 + 19 баллов)"
   ]
  },
  {
   "cell_type": "markdown",
   "id": "d3af3007",
   "metadata": {},
   "source": [
    "### Задание 1 (8 баллов)"
   ]
  },
  {
   "cell_type": "markdown",
   "id": "b682149d",
   "metadata": {},
   "source": [
    "Обратимся к понятиям **L2-регуляризация** (L2 Regularization) и **затухание весов** (weight decay). Обе эти техники используются дле предотвращения переобучения, накладывая штраф на большие значения весов. Сначала рассмотрим эти техники на примере стандартного SGD.\n",
    "\n",
    "Пускай $x$ - тренируемые веса модели, $\\mathcal{L}_{error}$ - ошибка полученная из функции потерь, $\\mathcal{L}$ - общая ошибка (total loss), которая используется для обновления весов, $\\eta$ - шаг обучения, и $\\lambda$ - гиперпараметр, определяющий силу штрафа. Тогда в случае знакомой L2-регуляризации, имеем\n",
    "\n",
    "$$\n",
    "\\begin{align*}\n",
    "& \\mathcal{L} = \\mathcal{L}_{error} + \\lambda \\|x\\|^2 \\\\\n",
    "& x = x - \\eta \\frac{\\partial \\mathcal{L}}{\\partial x} - \\eta \\lambda x\n",
    "\\end{align*}\n",
    "$$\n",
    "\n",
    "При использовании затухания весов член $\\eta \\lambda x$ просто вычитается из текущих весов $x$. Другими словами\n",
    "\n",
    "$$\n",
    "\\begin{align*}\n",
    "& \\mathcal{L} = \\mathcal{L}_{error} \\\\\n",
    "& x = x - \\eta \\frac{\\partial \\mathcal{L}}{\\partial x} - \\eta \\lambda x\n",
    "\\end{align*}\n",
    "$$\n",
    "\n",
    "Кажется, результат один и тот же. Значит ли это, что L2-регуляризация == затухание весов? Нет! Давайте рассмотрим эти же техники, но уже для алгоритма SGD с моментумом.\n",
    "\n",
    "L2-регуляризация:\n",
    "$$\n",
    "\\begin{align*}\n",
    "& \\mathcal{L} = \\mathcal{L}_{error} + \\lambda \\|x\\|^2 \\\\\n",
    "& h_k = \\beta h_{k-1} + (1-\\beta)(\\frac{\\partial \\mathcal{L}}{\\partial x} + \\lambda x) \\\\\n",
    "& x = x - \\eta h_k = x - \\eta \\left( \\beta h_{k-1} - (1-\\beta)\\frac{\\partial \\mathcal{L}}{\\partial x} \\right)\n",
    "- \\eta (1-\\beta) \\lambda x\n",
    "\\end{align*}\n",
    "$$\n",
    "\n",
    "Затухание весов:\n",
    "$$\n",
    "\\begin{align*}\n",
    "& \\mathcal{L} = \\mathcal{L}_{error} \\\\\n",
    "& h_k = \\beta h_{k-1} + (1-\\beta)\\frac{\\partial \\mathcal{L}}{\\partial x}\\\\\n",
    "& x = x - \\eta h_k = x - \\eta \\left( \\beta h_{k-1} - (1-\\beta)\\frac{\\partial \\mathcal{L}}{\\partial x} \\right)\n",
    "- \\eta \\lambda x\n",
    "\\end{align*}\n",
    "$$\n",
    "\n",
    "Обратите внимание на последние члены в последних строках: в случае L2-регуляризации член затухания весов\n",
    "$\\eta \\lambda x$ дополнительно умножается на $(1-\\beta)$. Согласитесь, размер штрафа уже не такой интуитивный\n",
    "\n",
    "Очевидно, всё становится ещё запутаннее, если взять метод посложнее - популярный Adam, например.\n",
    "\n",
    "L2-регуляризация ([официальная реализация](https://pytorch.org/docs/stable/generated/torch.optim.Adam.html) Adam в PyTorch):\n",
    "$$\n",
    "\\begin{align*}\n",
    "& \\mathcal{L} = \\mathcal{L}_{error} + \\lambda \\|x\\|^2 \\\\\n",
    "& m_k = \\frac{1}{1-\\beta_1^k} \\left( \\beta_1 m_{k-1} + (1-\\beta_1)(\\frac{\\partial \\mathcal{L}}{\\partial x} + \\lambda x) \\right)\n",
    " \\\\\n",
    "& v_k =\\frac{1}{1-\\beta_2^k} \\left( \\beta_2 v_{k-1} + (1-\\beta_2)(\\frac{\\partial \\mathcal{L}}{\\partial x} + \\lambda x)^2 \\right) \\\\\n",
    "& x = x - \\eta \\frac{m_k}{\\sqrt{v_k} + \\epsilon}\n",
    "\\end{align*}\n",
    "$$\n",
    "\n",
    "Затухание весов:\n",
    "$$\n",
    "\\begin{align*}\n",
    "& \\mathcal{L} = \\mathcal{L}_{error} \\\\\n",
    "& m_k = \\frac{1}{1-\\beta_1^k} \\left( \\beta_1 m_{k-1} + (1-\\beta_1)\\frac{\\partial \\mathcal{L}}{\\partial x} \\right)\n",
    " \\\\\n",
    "& v_k =\\frac{1}{1-\\beta_2^k} \\left( \\beta_2 v_{k-1} + (1-\\beta_2)(\\frac{\\partial \\mathcal{L}}{\\partial x})^2 \\right) \\\\\n",
    "& x = x - \\eta \\frac{m_k}{\\sqrt{v_k} + \\epsilon} - \\eta \\lambda x\n",
    "\\end{align*}\n",
    "$$\n",
    "\n",
    "В случае L2-регуляризации очень сложно выделить член, который отвечает за контроль весов - к нему примешивается слишком много других параметров. Однако в случае с затуханием весов всё предельно ясно\n",
    "\n",
    "Однозначного ответа на вопрос \"Что лучше - L2-регуляризация или затухание весов?\" нет. Однако всё-таки иногда хочется более корректно контролировать штрафной член, а значит - необходимо модифицировать Adam\n",
    "\n",
    "В этом задании вам нужно:\n",
    "1. Дописать функцию `check_optimizers_mnist()`, которая в дальнейшем будет использоваться для тестирования алгоритмов на датасете MNIST\n",
    "2. Реализовать метод Adam c затуханием весов, используя `torch.optim.Optimizer` (вспомните Семинар 10). Ниже приведён каркас класса с необходимыми гиперпараметрами и некоторыми полезными функциями\n",
    "3. Проверить работоспособность метода с помощью функции `check_optimizers_mnist()`. Количество эпох оставьте равным 10\n",
    "4. Построить сравнительные графики получившегося метода, SGD и Adam из библиотеки PyTorch с помощью функции `plot_optim_loss()`\n",
    "5. Сделайте выводы"
   ]
  },
  {
   "cell_type": "code",
   "execution_count": 184,
   "id": "f5e72b69",
   "metadata": {},
   "outputs": [],
   "source": [
    "plot_optim_loss = partial(\n",
    "    draw_plots,\n",
    "    plots=[\n",
    "        ({\"name\": \"Epoch\"}, {\"name\": \"Test Loss\", \"log\": True}),\n",
    "        (\n",
    "            {\"name\": \"Time\", \"axis_name\": \"Running time, seconds\", \"ref\": \"Time\"},\n",
    "            {\"name\": \"Test Loss\", \"log\": True},\n",
    "        ),\n",
    "        ({\"name\": \"Epoch\"}, {\"name\": \"Accuracy\"}),\n",
    "        (\n",
    "            {\"name\": \"Time\", \"axis_name\": \"Running time, seconds\", \"ref\": \"Time\"},\n",
    "            {\"name\": \"Accuracy\"},\n",
    "        ),\n",
    "    ],\n",
    ")"
   ]
  },
  {
   "cell_type": "markdown",
   "id": "83407d4f",
   "metadata": {},
   "source": [
    "### Решение"
   ]
  },
  {
   "cell_type": "code",
   "execution_count": 185,
   "id": "602957b9",
   "metadata": {},
   "outputs": [],
   "source": [
    "def check_optimizers_mnist(\n",
    "    optimizers: list[\n",
    "        tuple[str, Callable[[Iterator[nn.Parameter]], torch.optim.Optimizer]]\n",
    "    ],\n",
    "    epochs: int = 10,\n",
    ") -> dict:\n",
    "    results_dict = {}\n",
    "\n",
    "    for name, optimizer_lambda in optimizers:\n",
    "        test_losses = []\n",
    "        accuracies = []\n",
    "        time_logs = []\n",
    "\n",
    "        torch.manual_seed(420)\n",
    "        model = MnistModel().to(DEVICE)\n",
    "        optimizer = optimizer_lambda(model.parameters())\n",
    "\n",
    "        # initial eval\n",
    "        ... # TODO\n",
    "\n",
    "        # log\n",
    "        ... # TODO\n",
    "\n",
    "        torch.cuda.synchronize()\n",
    "        start_time = time.time()\n",
    "\n",
    "        with tqdm(range(epochs), desc=name) as loop:\n",
    "            for _ in loop:\n",
    "                # train\n",
    "                # ОБЯЗАТЕЛЬНО сохраним граф вычислений, используя create_graph=True\n",
    "                train_mnist(.., ..., create_graph=True) # TODO\n",
    "\n",
    "                # eval\n",
    "                ... # TODO\n",
    "\n",
    "                # log\n",
    "                ... # TODO\n",
    "\n",
    "                torch.cuda.synchronize()\n",
    "                time_logs.append(time.time() - start_time)\n",
    "                loop.set_postfix({\"Loss\": ..., \"Accuracy\": ...}) # TODO\n",
    "\n",
    "        results_dict[name] = {\n",
    "            \"Epoch\": list(range(epochs + 1)),\n",
    "            \"Time\": time_logs,\n",
    "            \"Test Loss\": test_losses,\n",
    "            \"Accuracy\": accuracies,\n",
    "        }\n",
    "\n",
    "    return results_dict"
   ]
  },
  {
   "cell_type": "code",
   "execution_count": 186,
   "id": "2a0d62cb",
   "metadata": {},
   "outputs": [],
   "source": [
    "# это просто шаблон - можете переименовать его или удалить\n",
    "class Template3(torch.optim.Optimizer):\n",
    "    def __init__(\n",
    "        self,\n",
    "        params,\n",
    "        lr=1e-3,\n",
    "        betas=(0.9, 0.999),\n",
    "        eps=1e-8,\n",
    "        weight_decay: float = 1e-2,\n",
    "    ):\n",
    "        super(Template3, self).__init__(\n",
    "            params,\n",
    "            defaults={\n",
    "                \"lr\": lr,\n",
    "                \"betas\": betas,\n",
    "                \"eps\": eps,\n",
    "                \"weight_decay\": weight_decay,\n",
    "            },\n",
    "        )\n",
    "\n",
    "        ...  # TODO\n",
    "\n",
    "    @torch.no_grad()\n",
    "    def step(self):\n",
    "        ...  # TODO"
   ]
  },
  {
   "cell_type": "code",
   "execution_count": 187,
   "id": "120af4c6",
   "metadata": {},
   "outputs": [],
   "source": [
    "# ваше решение (code)"
   ]
  },
  {
   "cell_type": "markdown",
   "id": "57e3d724",
   "metadata": {},
   "source": [
    "### Задание 2* (7 баллов)"
   ]
  },
  {
   "cell_type": "markdown",
   "id": "6669eb78",
   "metadata": {},
   "source": [
    "Большинство адаптивных (и не только) методов оптимизации могут быть записаны в виде\n",
    "\n",
    "$$\n",
    "x_{k+1} = x_k -\\eta_k \\hat{D}^{-1}_k m_k,\n",
    "$$\n",
    "где $\\eta_k$ - шаг обучения, $\\hat{D}_k$ - так называемая матрица предобусловленности, а $m_k$ - либо градиент (аппроксимация градиента), либо первый момент градиента с параметром импульса $\\beta_1$, либо скорректированный по смещению первый момент градиента.\n",
    "Простая интерпретация заключается в том, что вектор $m_k$ поворачивается и масштабируется на величину, обратную матрице предобусловленности $\\hat{D}_k$. Полученное направление берётся как направление обновления.\n",
    "\n",
    "Звучит немного сложновато, но все адаптивные методы, с которыми вы встречались до этого момента имеют такой вид (вспомните Семинар 10). Например, в случае AdaGrad мы имеем\n",
    "\n",
    "$$\n",
    "\\begin{align*}\n",
    "& m_k = g_k \\\\\n",
    "& \\hat{D}_k = \\sqrt{\\sum_{i=1}^k \\text{diag} (g_k \\odot g_k)}\n",
    "\\end{align*}\n",
    "$$\n",
    "\n",
    "Для RMSProp параметры принимают вид\n",
    "\n",
    "$$\n",
    "\\begin{align*}\n",
    "& m_k = g_k \\\\\n",
    "& \\hat{D}_k = \\sqrt{\\beta_2  \\hat{D}^{2}_{k-1} + (1-\\beta_2) \\text{diag} (g_i \\odot g_i)}\n",
    "\\end{align*}\n",
    "$$\n",
    "\n",
    "В алгоритме Adam модифицируется и $m_k$:\n",
    "\n",
    "$$\n",
    "\\begin{align*}\n",
    "& m_k = \\frac{(1-\\beta_1)\\sum_{i=1}^k\\beta_1^{k-i}g_i}{1-\\beta_1^k} \\\\\n",
    "& \\hat{D}_k = \\sqrt{\\frac{(1-\\beta_2)\\sum_{i=1}^k\\beta_2^{k-i}\\text{diag} (g_i \\odot g_i)}{1-\\beta_2^k} }\n",
    "\\end{align*}\n",
    "$$\n",
    "\n",
    "\n",
    "Легко заметить, что для подсчёта $\\hat{D}_k$ все вышеперечисленные методы используют $\\text{diag} (g_k \\odot g_k)$, то есть используют градиент (аппроксимацию) чтобы учитывать кривизну функции и потенциально ускорять сходимость. В следующих нескольких заданиях мы предлагаем вам пойти дальше и попробовать использовать информацию о производной второго порядка (гессиане) для оптимизации процесса обучения\n",
    "\n",
    "Будем использовать метод Хатчинсона для аппроксимации следа гессиана $v_k$ функции:\n",
    "\n",
    "$$\n",
    "v_k = \\text{diag} (z_k \\odot H_k z_k),\n",
    "$$\n",
    "где $H_k$ - гессиан функции $f(x_k)$, а $z_k$ - случайный вектор с определенными статистическими свойствами. В методе Хатчинсона случайный вектор $z_k$ обычно берется из распределения с нулевым математическим ожиданием и единичной дисперсией, например, из распределения Радемахера, элементы которого принимают значения +1 или -1 с равной вероятностью (0.5). Более того, для лучшей точности мы можем применить этот метод несколько раз, скажем $n$. Тогда\n",
    "\n",
    "$$\n",
    "v_k = \\frac{1}{n} \\sum_{i=1}^n \\text{diag} (z_i \\odot H_k z_i).\n",
    "$$\n",
    "\n",
    "Заметьте, что в данном случае нас не интересует гессиан сам по себе, а только его произведение на вектор $z_k$. Это важный момент, так как нам не нужно строить непосредственно гессиан (что потребовало бы обращения матрицы, а это довольно затратная операция). К счастью, `torch.autograd.grad` позволяет эффективно вычислить $H_k z_k$ без вычисления гессиана\n",
    "\n",
    "\n",
    "В этом задании вам нужно сделать следующее:\n",
    "1. Дописать функцию `rademacher()`, которая генерирует случайные вектора из распределения Радемахера\n",
    "2. Дописать функцию `hutchinson_approximation()`, которая реализует метод Хатчинсона\n",
    "\n",
    "Для проверки реализаций используйте функции `check_hutchinson()` и `check_rademacher()`. Если проверки не проведены или провалены, **задание автоматически считается невыполненным**\n"
   ]
  },
  {
   "cell_type": "code",
   "execution_count": 189,
   "id": "c0ef0567",
   "metadata": {},
   "outputs": [],
   "source": [
    "def check_hutchinson(hutchinson_approximation: Callable):\n",
    "    a = torch.tensor([2.0, 3.0], requires_grad=True).to(DEVICE)\n",
    "    b = torch.tensor([6.0, 4.0], requires_grad=True).to(DEVICE)\n",
    "    q = 3 * a**3 - b**2\n",
    "\n",
    "    params = [a, b]\n",
    "    grads = torch.autograd.grad(q.sum(), [a, b], create_graph=True)\n",
    "\n",
    "    res = hutchinson_approximation(\n",
    "        params,\n",
    "        grads,\n",
    "        n_iterations=1,\n",
    "        generator=torch.Generator(device=DEVICE).manual_seed(420),\n",
    "    )\n",
    "    res = [el for x in res for el in x.clone().detach().cpu().tolist()]\n",
    "    assert np.allclose(res, [36.0, 54.0, -2.0, -2.0])\n",
    "\n",
    "    grads = torch.autograd.grad(q.sum(), [a, b], create_graph=True)\n",
    "    res = hutchinson_approximation(\n",
    "        params,\n",
    "        grads,\n",
    "        n_iterations=5,\n",
    "        generator=torch.Generator(device=DEVICE).manual_seed(420),\n",
    "    )\n",
    "    res = [el for x in res for el in x.clone().detach().cpu().tolist()]\n",
    "    assert np.allclose(res, [7.2, 10.8, -0.4, -0.4])\n",
    "\n",
    "\n",
    "def check_rademacher(rademacher: Callable):\n",
    "    for i in range(1, 15):\n",
    "        assert rademacher(i).shape == (i,)"
   ]
  },
  {
   "cell_type": "markdown",
   "id": "28cc3e58",
   "metadata": {},
   "source": [
    "### Решение"
   ]
  },
  {
   "cell_type": "code",
   "execution_count": 190,
   "id": "bcc89f8a",
   "metadata": {},
   "outputs": [],
   "source": [
    "def rademacher(\n",
    "    shape, generator: Optional[torch.Generator] = None, device: torch.device = DEVICE\n",
    ") -> torch.Tensor:\n",
    "    \"\"\"Распределение Радемахера\n",
    "\n",
    "    Args:\n",
    "        shape: требуемая размерность вектора\n",
    "        generator: используется для воспроизводимости результатов\n",
    "\n",
    "    Returns:\n",
    "        torch.Tensor\n",
    "    \"\"\"\n",
    "    ... # TODO\n",
    "\n",
    "\n",
    "check_rademacher(rademacher)"
   ]
  },
  {
   "cell_type": "markdown",
   "id": "fd7f9fb5",
   "metadata": {},
   "source": [
    "Так как обычно в моделях больше одного тренируемого параметра, мы хотим получать аппроксимацию\n",
    "для целого списка параметров, чему соответствует сигнатура нижеприведённой функции\n",
    "\n",
    "Для эффективного подсчёта $H_k z_k$ используйте следующую конструкцию\n",
    "\n",
    "```python\n",
    "h_zs = torch.autograd.grad(\n",
    "            grads,\n",
    "            params,\n",
    "            grad_outputs=zs,\n",
    "            only_inputs=True,\n",
    "            retain_graph=i < n_iterations - 1,\n",
    "        )\n",
    "```\n",
    "где `zs` - список векторов из распределения Радемахера\n"
   ]
  },
  {
   "cell_type": "code",
   "execution_count": 191,
   "id": "c4e3dec4",
   "metadata": {},
   "outputs": [],
   "source": [
    "def hutchinson_approximation(\n",
    "    params: list[torch.Tensor],\n",
    "    grads: list[torch.Tensor],\n",
    "    n_iterations: int = 1,\n",
    "    generator=None,\n",
    ") -> list[torch.Tensor]:\n",
    "    \"\"\"Аппроксимация по методу Хатчинсона\n",
    "\n",
    "    Args:\n",
    "        params: тренируемые параметры\n",
    "        grads: градиенты тренируемых параметров\n",
    "        n_iterations: количество применений метода\n",
    "        generator: используется для воспроизводимости результатов (нужно передать в rademacher())\n",
    "\n",
    "    Returns:\n",
    "        list[torch.Tensor]: где i-й элемент является аппроксимацией для i-го параметра\n",
    "    \"\"\"\n",
    "\n",
    "    ... # TODO\n",
    "\n",
    "\n",
    "check_hutchinson(hutchinson_approximation)"
   ]
  },
  {
   "cell_type": "markdown",
   "id": "d4cb7809",
   "metadata": {},
   "source": [
    "### Задание 3* (9 баллов)\n",
    "\n"
   ]
  },
  {
   "cell_type": "markdown",
   "id": "5c7e4b1c",
   "metadata": {},
   "source": [
    "Теперь, когда все компоненты готовы, можно реализовать непосредственно метод. За основу возьмём идею Adam: метод будет иметь форму $x_{k+1} = x_k -\\eta_k \\hat{D}^{-1}_k m_k$, где\n",
    "\n",
    "$$\n",
    "\\begin{align*}\n",
    "& m_k = \\frac{(1-\\beta_1)\\sum_{i=1}^k\\beta_1^{k-i}g_i}{1-\\beta_1^k} \\\\\n",
    "& \\hat{D}_k = \\sqrt{\\frac{(1-\\beta_2)\\sum_{i=1}^k\\beta_2^{k-i}v_i^2}{1-\\beta_2^k} }\n",
    "\\end{align*}\n",
    "$$\n",
    "\n",
    "В этом задании вам нужно:\n",
    "1. Реализовать описанный выше метод с помощью `torch.optim.Optimizer` (вспомните Семинар 10). Ниже приведён каркас класса с необходимыми гиперпараметрами и некоторыми полезными функциями\n",
    "2. Проверить работоспособность метода с помощью функции `check_optimizers_mnist()`. Количество эпох оставьте равным 10\n",
    "3. Построить необходимые графики с помощью приведённой ниже функции `plot_optim_loss()`\n",
    "\n"
   ]
  },
  {
   "cell_type": "markdown",
   "id": "6d89dc04",
   "metadata": {},
   "source": [
    "### Решение"
   ]
  },
  {
   "cell_type": "code",
   "execution_count": 193,
   "id": "9d92ff6b",
   "metadata": {},
   "outputs": [],
   "source": [
    "# это просто шаблон - можете переименовать его или удалить\n",
    "class Template1(torch.optim.Optimizer):\n",
    "    def __init__(\n",
    "        self,\n",
    "        params,\n",
    "        lr=1e-3,\n",
    "        betas=(0.9, 0.999),\n",
    "        eps=1e-8,\n",
    "        n_samples: int = 1,\n",
    "    ):\n",
    "        super(Template1, self).__init__(\n",
    "            params,\n",
    "            defaults={\n",
    "                \"lr\": lr,\n",
    "                \"betas\": betas,\n",
    "                \"eps\": eps,\n",
    "            },\n",
    "        )\n",
    "\n",
    "        self.n_samples = n_samples\n",
    "\n",
    "        # генератор для воспроизводимости (для метода Хатчинсона)\n",
    "        self.generator = torch.Generator(device=DEVICE).manual_seed(420)\n",
    "\n",
    "        ...  # TODO\n",
    "\n",
    "    def get_params(self):\n",
    "        return [\n",
    "            p for group in self.param_groups for p in group[\"params\"] if p.requires_grad\n",
    "        ]\n",
    "\n",
    "    @torch.no_grad()\n",
    "    def zero_and_set_hessians(self):\n",
    "        # Занулим Гессианы\n",
    "        for p in self.get_params():\n",
    "            hess = self.state[p][\"hess\"]\n",
    "            if not isinstance(hess, float):\n",
    "                hess.zero_()\n",
    "\n",
    "        params = [p for p in self.get_params() if p.grad is not None]\n",
    "        if len(params) == 0:\n",
    "            return\n",
    "\n",
    "        grads = [p.grad for p in params]\n",
    "\n",
    "        # Считаем Гессианы\n",
    "        ...  # TODO\n",
    "\n",
    "    @torch.no_grad()\n",
    "    def step(self):\n",
    "        self.zero_and_set_hessians()\n",
    "\n",
    "        ...  # TODO"
   ]
  },
  {
   "cell_type": "code",
   "execution_count": 194,
   "id": "66f34e94",
   "metadata": {},
   "outputs": [],
   "source": [
    "# ваше решение (code)"
   ]
  },
  {
   "cell_type": "markdown",
   "id": "04dd045e",
   "metadata": {},
   "source": [
    "### Задание 4 (4 балла)"
   ]
  },
  {
   "cell_type": "markdown",
   "id": "deae14b9",
   "metadata": {},
   "source": [
    "Пришло время попробовать реализованные методы на чём-то более сложном, чем MNIST\n",
    "\n",
    "В этом задании вам нужно:\n",
    "1. Дописать функцию `check_optimizers_cifar()`, которая в дальнейшем будет использоваться для тестирования алгоритмов на датасете CIFAR-10. Используйте функции `train_cifar()` и `eval_cifar()`\n",
    "2. Протестировать методы, реализованные в этой части, с разными гиперпараметрами (для каждого **минимум 3 вариации**). Обязательно\n",
    "    - Для метода из задания 1 попробовать разные weight_decay\n",
    "    - **Если делали задание 3**, для метода из задания 3 попробовать разное количество итераций метода Хатчинсона\n",
    "    - **Если не делали задание 3**, возьмите на выбор один из следующих методов из стандартной библиотеки PyTorch: AdaGrad, RMSProp, SGD с nesterov=True\n",
    "При тестировании зафиксировать `model_class=CifarNet` и `epochs=20`\n",
    "3. Построить необходимые графики для каждого метода с помощью функции `plot_optim_loss()`\n",
    "4. Построить один общий график, где показать методы с лучшими гиперпараметрами, с помощью функции `plot_optim_loss()`. Объяснить, по каким критериям выбирались \"лучшие\" гиперпараметры\n",
    "5. Сделать выводы"
   ]
  },
  {
   "cell_type": "markdown",
   "id": "203104cc",
   "metadata": {},
   "source": [
    "### Решение"
   ]
  },
  {
   "cell_type": "code",
   "execution_count": 196,
   "id": "497c025e",
   "metadata": {},
   "outputs": [],
   "source": [
    "def check_optimizers_cifar(\n",
    "    optimizers: list[\n",
    "        tuple[str, Callable[[Iterator[nn.Parameter]], torch.optim.Optimizer]]\n",
    "    ],\n",
    "    epochs: int = 20,\n",
    "    model_class: Callable[[], nn.Module] = CifarNet,\n",
    ") -> dict:\n",
    "    results_dict = {}\n",
    "\n",
    "    for name, optimizer_lambda in optimizers:\n",
    "        test_losses = []\n",
    "        accuracies = []\n",
    "        time_logs = []\n",
    "\n",
    "        torch.manual_seed(420)\n",
    "        model = model_class().to(DEVICE)\n",
    "        optimizer = optimizer_lambda(model.parameters())\n",
    "\n",
    "        # initial eval\n",
    "        ... # TODO\n",
    "\n",
    "        # log\n",
    "        ... # TODO\n",
    "\n",
    "        torch.cuda.synchronize()\n",
    "        start_time = time.time()\n",
    "\n",
    "        with tqdm(range(epochs), desc=name) as loop:\n",
    "            for _ in loop:\n",
    "                # train\n",
    "                # ОБЯЗАТЕЛЬНО сохраним граф вычислений, используя create_graph=True\n",
    "                train_cifar(.., ..., create_graph=True) # TODO\n",
    "\n",
    "                # eval\n",
    "                ... # TODO\n",
    "\n",
    "                # log\n",
    "                ... # TODO\n",
    "\n",
    "                torch.cuda.synchronize()\n",
    "                time_logs.append(time.time() - start_time)\n",
    "                loop.set_postfix({\"Loss\": ..., \"Accuracy\": ...}) # TODO\n",
    "\n",
    "\n",
    "        results_dict[name] = {\n",
    "            \"Epoch\": list(range(epochs + 1)),\n",
    "            \"Time\": time_logs,\n",
    "            \"Test Loss\": test_losses,\n",
    "            \"Accuracy\": accuracies,\n",
    "        }\n",
    "\n",
    "    return results_dict"
   ]
  },
  {
   "cell_type": "code",
   "execution_count": 197,
   "id": "ff0bef1f",
   "metadata": {},
   "outputs": [],
   "source": [
    "# ваше решение (code + markdown)"
   ]
  },
  {
   "cell_type": "markdown",
   "id": "1b944eb2",
   "metadata": {},
   "source": [
    "**Выводы**\n",
    "- ..."
   ]
  },
  {
   "cell_type": "markdown",
   "id": "612eb7bf",
   "metadata": {},
   "source": [
    "### Задание 5* (3 балла)"
   ]
  },
  {
   "cell_type": "markdown",
   "id": "454ced84",
   "metadata": {},
   "source": [
    "В этом задании вам нужно:\n",
    "1. Провести те же тесты, что и в предыдущем задании, только теперь зафиксировать `model_class=ResNet` и `epochs=6`\n",
    "2. Сделать выводы, в том числе принимая во внимание результаты предыдущего задания"
   ]
  },
  {
   "cell_type": "markdown",
   "id": "2a9b8b80",
   "metadata": {},
   "source": [
    "### Решение"
   ]
  },
  {
   "cell_type": "code",
   "execution_count": 201,
   "id": "a6416a91",
   "metadata": {},
   "outputs": [],
   "source": [
    "# ваше решение (code + markdown)"
   ]
  },
  {
   "cell_type": "markdown",
   "id": "e1e5c06f",
   "metadata": {},
   "source": [
    "# <a id='day5'></a> День 5 (6 + 17 баллов). CVXPY"
   ]
  },
  {
   "cell_type": "markdown",
   "id": "710ae7b9",
   "metadata": {},
   "source": [
    "## Часть 1. Разминочная задачка (6 баллов)"
   ]
  },
  {
   "cell_type": "markdown",
   "id": "dc7a4a7d",
   "metadata": {},
   "source": [
    "### Задание 1 (6 баллов)\n",
    "Дана некая матрица $B = x_1A_1 + x_2A_2 + ... + x_n A_n$. То есть, матрица $B$ - линейная комбинация матриц $A_i$. В этом задании мы попробуем решить задачу поиска коэффициентов $x_i$ используя библиотеку CVXPY. \\\n",
    "Пусть $A,B \\in R^{\\,p \\times q}, n = 6, p = 10, q = 30$\\\n",
    "Вам нужно:\n",
    "1. Сформулировать задачу как задачу минимизации\n",
    "3. Решить сгенерированную нами задачу используя библиотеку CVXPY, вывести и проверить ответ\n",
    "4. Добавить ограничение: $||x||_2 \\leq 3$. Решить ту же задачу, что раньше, но с новым ограничением. Вывести и проверить ответ"
   ]
  },
  {
   "cell_type": "markdown",
   "id": "d773dccc",
   "metadata": {},
   "source": [
    "### Решение"
   ]
  },
  {
   "cell_type": "code",
   "execution_count": null,
   "id": "6e0847d2",
   "metadata": {},
   "outputs": [],
   "source": [
    "# ваше решение (code)"
   ]
  },
  {
   "cell_type": "markdown",
   "id": "1dc07822",
   "metadata": {},
   "source": [
    "## Часть 2*. Релаксация (17 баллов)"
   ]
  },
  {
   "attachments": {
    "image.png": {
     "image/png": "[encoded data removed]"
    }
   },
   "cell_type": "markdown",
   "id": "9dfe70f8",
   "metadata": {},
   "source": [
    " Рассмотрим задачу максимального разреза графа. Дан связный ненаправленный граф с $N$ вершинами. Между некоторыми вершинами имеется ребро заданного веса $w_{ij}$. __Задача__: распределить вершины на две группы так, чтобы максимизировать сумму весов всех ребер, которые соединяют вершины в разных группах (одна вершина в группе А, другая вершина в группе Б)\n",
    "\n",
    "Эта задача имеет довольно большое число различных применений на практике. \\\n",
    "Один из очень простых игрушечных примеров для понимания сути: предположим есть набор компьютеров. Некоторые из них имеют друг с другом связь (по проводу или беспроводу), другие нет. \\\n",
    "У нас есть две разные задачи, под которые мы хотим распределить компьютеры (и работающих за ними людей). Задачи связаны, так что обе группы компьютеров должны иметь связь друг с другом. Всякое бывает, и связь между 2 (а может и больше) компьютерами (любыми) может пропасть. \\\n",
    "Наша задача разделить компьютеры на эти группы так, чтобы минимизировать риски от пропажи связи между случайными компьютерами. \\\n",
    "Как решение, мы можем присвоить вес 1 всем ребрам, и решить задачу максимального разреза графа. Так как вес всех ребер равен 1, то задача переформулируется так: разделить компьютеры на 2 группы так, чтобы максимизировать число ребер (ведь сумма весов равна сумме ребер в нашем случае) между компьютерами в разных группах. Как раз то, что нам нужно. Интуитивно ясно, что чем больше соединений между группами, тем меньше шанс остаться без связи между группами\n",
    "\n",
    "На рисунке можно посмотреть пример максимального разреза, когда у каждого ребра вес 1. То есть, мы максимизируем суммарное число ребер из вершин одного набора в вершины другого набора\n",
    "\n",
    "![image.png](attachment:image.png)"
   ]
  },
  {
   "cell_type": "markdown",
   "id": "a35aa954",
   "metadata": {},
   "source": [
    "Будем работать с графом $G = (V, E)$, где $V$ - множество вершин, $E$ - множество ребер. $N$ - число вершин.\\\n",
    " $w_{ij}$ - вес ребра $(i,j) \\in E$. 0, если ребра нет\\\n",
    " $S, \\hat{S}$ - непересекающиеся множества вершин в первой и второй группах.\\\n",
    " $x_i  = \\left\\{ \\begin{array}{cl} 1 & : \\ x_i \\in S \\\\-1 & : \\ x_i \\in \\hat{S}\\end{array} \\right.$\\\n",
    " То есть $x_i$ показывает, в какой из двух групп находится вершина. Эту переменную (вектор) мы и хотим найти"
   ]
  },
  {
   "cell_type": "markdown",
   "id": "561fc35f",
   "metadata": {},
   "source": [
    "Наша задача может быть записана как задача целочисленного квадратичного программирования:\n",
    "$$\n",
    "\\begin{align*}\n",
    "& \\max_x \\frac{1}{2} \\sum_{i}^{N} \\sum_{j}^{N} w_{ij} \\frac{(1-x_i x_j)}{2} \\\\\n",
    "& \\text{s.t. } x_i \\in \\{1, -1\\}, \\forall i \\in V\n",
    "\\end{align*}\n",
    "$$\n"
   ]
  },
  {
   "cell_type": "markdown",
   "id": "e4232e2f",
   "metadata": {},
   "source": [
    "$\\frac{(1-x_i x_j)}{2}$ равно единице только когда обе вершины находятся в разных группах, в противном случае 0. Поэтому мы максимизируем как раз сумму весов тех ребер, что соединяют вершины из разных групп. Деление на два происходит из-за того, что каждое ребро считается два раза."
   ]
  },
  {
   "cell_type": "markdown",
   "id": "6b6d35f6",
   "metadata": {},
   "source": [
    "Основная проблема заключается в том, что без модификаций это NP-трудная задача, для которой не известен алгоритм решения за полиномиальное время. Для их решения, обычно проводится релаксация (изменение) условия таким образом, что бы получилась новая NP-полная задача (для которой известен алгоритм решения за полиномиальное время), решение которой близко к настоящему решению\n",
    "\n",
    "Конкретнее, предположим что $c_{optimal}$ - это значение целевой функции при решении изначальной задачи любым алгоритмом. Назовем некий алгоритм $\\delta$-приблизительным, если он выдает оптимальное значение целевой функции $c_{approximate} \\ge \\delta c_{optimal}$. Чем ближе $\\delta$ к 1, тем лучше. К примеру, алгоритм, который случайно делит вершины графа на две группы, является 0.5-приблизительным. Мы же выведем 0.875-приблизительный алгоритм."
   ]
  },
  {
   "cell_type": "markdown",
   "id": "2eddd385",
   "metadata": {},
   "source": [
    "Для этого, мы сведем оригинальную задачу целочисленного квадратичного программирования к такой задаче, которую мы знаем как решать (удостоверившись, что решение этой задачи не даст решение оптимальнее, чем настоящее, что логично), путем релаксации."
   ]
  },
  {
   "cell_type": "markdown",
   "id": "0a7fe017",
   "metadata": {},
   "source": [
    "Мы сделаем релаксацию к задаче полуопределенного программирования, которая в общем виде задается следующим образом:\n",
    "$$\n",
    "\\begin{align*}\n",
    "& \\min_X \\langle C, X \\rangle \\\\\n",
    "& \\text{s.t. } \\langle A_i, X \\rangle \\le b_i, \\forall i \\in V \\\\\n",
    "& X \\succeq 0\n",
    "\\end{align*}\n",
    "$$\n",
    "\n",
    "где $\\langle A, B \\rangle = \\sum_{i,j}^{N} A_{ij} B_{ij}$\\\n",
    "Вместо неравенства в условиях может быть и равенство. Эту задачу можно написать по-разному, мы же будем использовать эту форму\n",
    "\n",
    "Идейно, если в задаче линейного программирования мы оптимизируем линейную функцию на выпуклом многограннике, то в задаче полуопределенного программирования мы оптимизируем так же линейную функцию на выпуклой фигуре, но теперь это более общая фигура, а не многогранник. Ниже можно посмотреть на пример. Заметим, что задача полуопределенного программирования - это задача линейного программирования с бесконечным числом линейных ограничений (ведь область выпуклая, поэтому можем любую кривую на границе приблизить прямыми)."
   ]
  },
  {
   "attachments": {
    "image.png": {
     "image/png": "[encoded data removed]"
    }
   },
   "cell_type": "markdown",
   "id": "eedb6305",
   "metadata": {},
   "source": [
    "![image.png](attachment:image.png)"
   ]
  },
  {
   "cell_type": "markdown",
   "id": "a942a179",
   "metadata": {},
   "source": [
    "### Задание 1 (2 балла)"
   ]
  },
  {
   "cell_type": "markdown",
   "id": "a8d6f86b",
   "metadata": {},
   "source": [
    "Сейчас у нас в условии некая квадратичная функция от $x$, которую нам нужно свести к линейной функции. Уйдем от чисел $x_i$ (равных по модулю единице) к единичным векторам $u_i \\in \\mathbb{R}^N$. \n",
    "\n",
    "Интуиция следующая: до этого мы скаляром отмечали, к какому набору принадлежит вершина. Теперь, мы это делаем единичным вектором. И ставим задачу максимизировать расстояние между конечными точками эти векторов, если точки лежат в разных наборах. Если же вершины в одном наборе, тогда их вектора должна указывать в примерно одно место \n",
    "\n",
    "Запишите исходную задачу с новыми условиями и переменными. Распишите, откуда взялись те или иные новые условия"
   ]
  },
  {
   "cell_type": "markdown",
   "id": "e05d74d1",
   "metadata": {},
   "source": [
    "### Решение"
   ]
  },
  {
   "cell_type": "code",
   "execution_count": null,
   "id": "c8722d56",
   "metadata": {},
   "outputs": [],
   "source": [
    "# ваше решение (markdown)"
   ]
  },
  {
   "cell_type": "markdown",
   "id": "9ecbd10d",
   "metadata": {},
   "source": [
    "### Задание 2 (4 балла)\n",
    "Теперь, сделаем из квадратичной функции линейную. Введите $Y_{i,j} = u_i ^\\top u_j$, перепишите задачу из предыдущего пункта с новыми условиями.\\\n",
    "Сделайте так, чтобы условия (не целевая функция) выглядели уже как в шаблоне для задачи полуопределенного программирования. \\\n",
    "Распишите, откуда взялись те или иные новые условия"
   ]
  },
  {
   "cell_type": "markdown",
   "id": "25a3e030",
   "metadata": {},
   "source": [
    "### Решение"
   ]
  },
  {
   "cell_type": "code",
   "execution_count": 1,
   "id": "695f4fc8",
   "metadata": {},
   "outputs": [],
   "source": [
    "# ваше решение (markdown)"
   ]
  },
  {
   "cell_type": "markdown",
   "id": "d6e6285b",
   "metadata": {},
   "source": [
    "### Задание 3 (3 балла)\n",
    "Осталось целевую функцию представить в виде внутреннего произведения матриц, как в шаблоне. Распишите вашу целевую функцию в виде ... + ..., и подумайте как эту сумму превратить во внутреннее произведение матриц.\n",
    "\n",
    "Подсказка: внутреннее произведение $\\sum_{i,j}^{N} A_{ij} B_{ij} $ суммирует поэлементное произведение двух матриц. Это можно сделать сначала по диагонали, потом по оставшимся элементам, а потом сложить. К подобной сумме вам и стоит попробовать привести исходную сумму"
   ]
  },
  {
   "cell_type": "markdown",
   "id": "f8be96d2",
   "metadata": {},
   "source": [
    "### Решение"
   ]
  },
  {
   "cell_type": "code",
   "execution_count": null,
   "id": "ebe7c645",
   "metadata": {},
   "outputs": [],
   "source": [
    "# ваше решение (markdown)"
   ]
  },
  {
   "cell_type": "markdown",
   "id": "d17d7846",
   "metadata": {},
   "source": [
    "### Задание 4 (4 балла)\n",
    "Ниже вам задана матрица весов $W$. Вам нужно решить для $Y$ задачу, сформулированную вами выше в подзадача 2 или 3, используя CVXPY. Вы можете формулировать задачу в коде как вам удобно (упрощать матричные умножения, и так далее), __объяснив все изменения__. Вы должны пройти ассерт в конце"
   ]
  },
  {
   "cell_type": "code",
   "execution_count": 5,
   "id": "ed291c2b",
   "metadata": {},
   "outputs": [],
   "source": [
    "W = np.array(\n",
    "    [\n",
    "        [0, 4, 10, -3, 0, 0, 0],\n",
    "        [4, 0, 0, 0, 6, 0, 0],\n",
    "        [10, 0, 0, 7, 0, 0, 0],\n",
    "        [-3, 0, 7, 0, 0, 0, 8],\n",
    "        [0, 6, 0, 0, 0, 4, 0],\n",
    "        [0, 0, 0, 0, 4, 0, 1],\n",
    "        [0, 0, 0, 8, 0, 1, 0],\n",
    "    ],\n",
    "    dtype=np.float32,\n",
    ")\n",
    "num_of_nodes = 7"
   ]
  },
  {
   "cell_type": "markdown",
   "id": "6d4de865",
   "metadata": {},
   "source": [
    "### Решение"
   ]
  },
  {
   "cell_type": "code",
   "execution_count": null,
   "id": "02670ef1",
   "metadata": {},
   "outputs": [],
   "source": [
    "Y = ...\n",
    "constraints = []\n",
    "\n",
    "cost = ...\n",
    "problem = ...\n",
    "optimal_value = problem.solve()"
   ]
  },
  {
   "cell_type": "code",
   "execution_count": null,
   "id": "1c096b4d",
   "metadata": {},
   "outputs": [],
   "source": [
    "assert abs(optimal_value - 39) < 1e-2, \"Правильно решение - 39, ваше же ему не равно\""
   ]
  },
  {
   "cell_type": "code",
   "execution_count": null,
   "id": "932bae95",
   "metadata": {},
   "outputs": [],
   "source": [
    "# ваше решение (code)"
   ]
  },
  {
   "cell_type": "markdown",
   "id": "61864dd9",
   "metadata": {},
   "source": [
    "### Задание 5 (1 балл)\n",
    "Мы получили решение для $Y$. Однако, нужно то нам узнать значения $x_i$. Начнем идти в обратном порядке. Используя наше определение матрицы $Y$, запишите $Y$ как произведение двух матриц, предложите способ из __только__ матрицы $Y$ получить эти 2 матрицы. Напишите соответствующий код."
   ]
  },
  {
   "cell_type": "markdown",
   "id": "6c593948",
   "metadata": {},
   "source": [
    "### Решение"
   ]
  },
  {
   "cell_type": "code",
   "execution_count": null,
   "id": "06307b4a",
   "metadata": {},
   "outputs": [],
   "source": [
    "# ваше решение (code + markdown)"
   ]
  },
  {
   "cell_type": "markdown",
   "id": "f81e9974",
   "metadata": {},
   "source": [
    "### Задание 6 (3 балла)\n",
    "Одна из полученных вами матриц является матрицей, у которой строка $i$ равна $u_i$ - единичному вектору, который олицетворяет принадлежность точку тому или иному набору. Нам нужно этот вектор превратить в циферку - 1 или -1. Наша модель обучена так, что вершины из разных наборов имеют \"разные\" векторные репрезентации, которые находятся в разных частях единичной сферы. Мы воспользуемся следующим приемом (называется __randomized hyperplane rounding__): сгенерируем __случайную__ плоскость (разберитесь, как правильно это делать) и поделим точки на единичной сфере на 2 набора в зависимости от того, по какую сторону эти точки оказались относительно сгенерированной плоскости. Мы полагаем, что если две точки находятся в разных частях сферы, то скорее всего при создании случайной плоскости через центр сферы эти точки окажутся по разные стороны. \n",
    "\n",
    "Вам нужно найти способ сгенерировать случайную гиперплоскость и разделить вершины на два набора. У вас должны получится два списка __чисел__: S и S_bar. В обоих - номера вершин в этих наборах, нумерация с нуля.\\\n",
    "Вы должны пройти ассерт в конце"
   ]
  },
  {
   "cell_type": "markdown",
   "id": "4d969b8f",
   "metadata": {},
   "source": [
    "### Решение"
   ]
  },
  {
   "cell_type": "code",
   "execution_count": null,
   "id": "5527cb68",
   "metadata": {},
   "outputs": [],
   "source": [
    "S = []\n",
    "S_bar = []"
   ]
  },
  {
   "cell_type": "code",
   "execution_count": null,
   "id": "56a30474",
   "metadata": {},
   "outputs": [],
   "source": [
    "# ваше решение (code)"
   ]
  },
  {
   "cell_type": "code",
   "execution_count": null,
   "id": "dd91c4a2",
   "metadata": {},
   "outputs": [],
   "source": [
    "# Проверка деления\n",
    "def calculate_cut(S, S_bar, W):\n",
    "    max_cut = 0\n",
    "    for i in S:\n",
    "        for j in S_bar:\n",
    "            max_cut += W[i][j]\n",
    "    return max_cut\n",
    "\n",
    "\n",
    "assert (\n",
    "    abs(calculate_cut(S, S_bar, W) - 39) < 1e-2\n",
    "), \"Правильное решение - 39, ваша разбивка этот ответ не дает\""
   ]
  }
 ],
 "metadata": {
  "kernelspec": {
   "display_name": "Python 3 (ipykernel)",
   "language": "python",
   "name": "python3"
  },
  "language_info": {
   "codemirror_mode": {
    "name": "ipython",
    "version": 3
   },
   "file_extension": ".py",
   "mimetype": "text/x-python",
   "name": "python",
   "nbconvert_exporter": "python",
   "pygments_lexer": "ipython3",
   "version": "3.11.0"
  }
 },
 "nbformat": 4,
 "nbformat_minor": 5
}

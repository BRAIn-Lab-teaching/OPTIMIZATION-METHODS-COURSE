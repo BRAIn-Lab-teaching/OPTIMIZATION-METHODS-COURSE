{
 "cells": [
  {
   "cell_type": "markdown",
   "id": "0a6fcbb6",
   "metadata": {},
   "source": [
    "# Домашнее задание 2\n",
    "\n",
    "Это домашнее задание по материалам второго семинаров. Дедлайн по отправке - 23:55 17 февраля. \n",
    "\n",
    "Домашнее задание выполняется в этом же Jupyter Notebook'e и присылается мне на почту: __beznosikov.an@phystech.edu__.\n",
    "\n",
    "Решение каждой задачи необходимо поместить после её условия.\n",
    "\n",
    "Файл должен называться: Фамилия_Имя_Optimization_HW_2\n",
    "\n",
    "При полном запуске Вашего решения (Kernel -> Restart & Run All) все ячейки должны выполняться без ошибок. "
   ]
  },
  {
   "cell_type": "markdown",
   "id": "1b1a30ed",
   "metadata": {},
   "source": [
    "## Задача 1\n",
    "\n",
    "Рассмотрим проекцию на единичном $\\ell_1$-шар:\n",
    "\\begin{equation*}\n",
    "    \\text{proj}_{C}(x) = \\arg\\min_{y \\in C} \\|x-y\\|^2,\n",
    "\\end{equation*}\n",
    "где $C = \\{x ~|~ \\|x\\|_1 \\leq 1 \\}$.\n",
    "\n",
    "__(а)__ Найдите выражение для такой проекции в явном виде."
   ]
  },
  {
   "cell_type": "code",
   "execution_count": null,
   "id": "b0ae493c",
   "metadata": {},
   "outputs": [],
   "source": [
    "#ответ"
   ]
  },
  {
   "cell_type": "markdown",
   "id": "0e95c5e2",
   "metadata": {},
   "source": [
    "__(б)__ Сравните:\n",
    "\\begin{equation*}\n",
    "    \\text{proj}_C (x) \\quad \\text{и} \\quad \\text{prox}_{\\lambda \\mathbb{I}_C} (x),\n",
    "\\end{equation*}\n",
    "где $\\lambda > 0$, а $\\mathbb{I}_C$ - индикаторная функция множества $C$:\n",
    "$$\n",
    "\\mathbb{I}_C = \n",
    "\\begin{cases}\n",
    "0 ,& x \\in C \\\\\n",
    "+\\infty, &x \\notin C.\n",
    "\\end{cases}\n",
    "$$\n",
    "Являются ли данные операторы эквивалентными для любых $\\lambda > 0$ и выпуклых $C$?"
   ]
  },
  {
   "cell_type": "code",
   "execution_count": null,
   "id": "f143476f",
   "metadata": {},
   "outputs": [],
   "source": [
    "#ответ"
   ]
  },
  {
   "cell_type": "markdown",
   "id": "969a8d32",
   "metadata": {},
   "source": [
    "## Задача 2\n",
    "\n",
    "Рассмотрим задачу минимизации эмпирического риска:\n",
    "\\begin{equation}\n",
    "\\min_{w \\in \\mathbb{R}^d} \\frac{1}{n} \\sum\\limits_{i=1}^n l (g(w, x_i), y_i),\n",
    "\\end{equation}\n",
    "где $l$ - функция потерь, $g$ - модель, $w$ - параметры модели, $\\{x_i, y_i\\}_{i=1}^n$ - выборка данных из векторов признаков $x_i$ и меток $y_i$.\n",
    "\n",
    "Далее будем рассматривать линейной модель $g(w, x) = w^T x$ и квадратичную функцию потерь $l(z, y) = (z-y)^2$.\n",
    "\n",
    "__(а)__ Запишите задачу минимизации эмпирического риска с линейной моделью  и квадратичной функцией потерь в векторно-матричном виде, используя $X$ - матрицу из векторов $\\{x_i\\}$ и вектор $y$ - из $\\{y_i\\}$."
   ]
  },
  {
   "cell_type": "code",
   "execution_count": 2,
   "id": "1340b577",
   "metadata": {},
   "outputs": [],
   "source": [
    "#ответ"
   ]
  },
  {
   "cell_type": "markdown",
   "id": "ecdb57fe",
   "metadata": {},
   "source": [
    "__(б)__ К заданию приложен датасет _mushrooms_. С помощью следующего кода сформируйте матрицу $X$ и вектор $y$:"
   ]
  },
  {
   "cell_type": "code",
   "execution_count": 11,
   "id": "561d93a9",
   "metadata": {},
   "outputs": [],
   "source": [
    "dataset = \"mushrooms.txt\" \n",
    "#файл должен лежать в той же деректории, что и notebook"
   ]
  },
  {
   "cell_type": "code",
   "execution_count": 9,
   "id": "e3b303d4",
   "metadata": {},
   "outputs": [],
   "source": [
    "from sklearn.datasets import load_svmlight_file\n",
    "data = load_svmlight_file(dataset)\n",
    "X, y = data[0].toarray(), data[1]\n",
    "n, d = X.shape"
   ]
  },
  {
   "cell_type": "markdown",
   "id": "1d466614",
   "metadata": {},
   "source": [
    "Разделите (лучше случайно) данные (а значит $X$ и $y$) на две части: обучающую и тестовую (примерно в отношении $4$ к $1$). Опишите, как это было сделано."
   ]
  },
  {
   "cell_type": "code",
   "execution_count": 3,
   "id": "77aa2178",
   "metadata": {},
   "outputs": [],
   "source": [
    "#ответ"
   ]
  },
  {
   "cell_type": "markdown",
   "id": "d3b84fa5",
   "metadata": {},
   "source": [
    "__(в)__ Для обучающей части $X_{train}$, $y_{train}$ оцените константу $L$ задачи обучения/оптимизации. Будет ли задача выпуклой? Сильно выпуклой?"
   ]
  },
  {
   "cell_type": "code",
   "execution_count": null,
   "id": "0b3d1448",
   "metadata": {},
   "outputs": [],
   "source": [
    "#ответ"
   ]
  },
  {
   "cell_type": "markdown",
   "id": "2c8a1056",
   "metadata": {},
   "source": [
    "__(г)__ Используя материалы прошлого ДЗ (по желанию), решите задачу оптимизации/обучите модель машинного обучения с помощью градиентного спуска. Изобразите график сходимости. Какой критерий сходимости будет использовать? Сделайте вывод. Опишите проблемы, с которыми пришлось столкнуться."
   ]
  },
  {
   "cell_type": "code",
   "execution_count": 1,
   "id": "bf6f1b46",
   "metadata": {},
   "outputs": [],
   "source": [
    "#ответ"
   ]
  },
  {
   "cell_type": "markdown",
   "id": "5f7902e5",
   "metadata": {},
   "source": [
    "__(д)__ Как использовать итоговую модель для предсказания? Ответив на вопрос, сделайте предсказания на тестовой выборке. Сравните с реальными метками. Количество правильно угаданных меток есть точность/accuracy вашей модели. Запустите еще раз процесс обучения из пункта г), постройте как меняется точность модели от номера итерации градиентного спуска (измеряйте не каждую итерацию, а, например, каждую 100 или 1000). "
   ]
  },
  {
   "cell_type": "code",
   "execution_count": null,
   "id": "ce3f56f5",
   "metadata": {},
   "outputs": [],
   "source": [
    "#ответ"
   ]
  },
  {
   "cell_type": "markdown",
   "id": "29c04712",
   "metadata": {},
   "source": [
    "__(e)__ Теперь рассмотрим эту же задачу обучения на $\\ell_1$-шаре с радиусом $\\lambda$. Повторите пункты г) и д) только теперь градиентный спуск должен быть модифицирован с помощью оператора проекции. Пробуйте различные $\\lambda > 0$ и найдите лучшее (опишите почему именно такое лучшее). Удалось ли улучшить процесс обучения/точность модели на тестовой выборке? "
   ]
  },
  {
   "cell_type": "code",
   "execution_count": null,
   "id": "46b1db1d",
   "metadata": {},
   "outputs": [],
   "source": [
    "#ответ"
   ]
  },
  {
   "cell_type": "markdown",
   "id": "56317873",
   "metadata": {},
   "source": [
    "__Бонусные пункт__\n",
    "\n",
    "__(ж)__ Снова рассмотрим задачу обучения без ограничений, но добавим к ней регуляризатор 1) $\\lambda \\| x \\|_1$ c $\\lambda  > 0$, 2) $\\lambda \\| x \\|_2$ c $\\lambda  > 0$. Сможем ли для новой задачи с регуляризатором использовать честный градиентный спуск без модификаций? Почему? Предложите свои идеи, как модифицировать градиентный спуск для новой задачи. Проведите для него эксперименты из пунктов г) и д).  Пробуйте различные $\\lambda > 0$ и найдите лучшее (опишите почему именно такое лучшее). Сравните результаты с пунктом e)."
   ]
  },
  {
   "cell_type": "code",
   "execution_count": null,
   "id": "caad1f26",
   "metadata": {},
   "outputs": [],
   "source": [
    "#ответ"
   ]
  },
  {
   "cell_type": "markdown",
   "id": "5de0ffdd",
   "metadata": {},
   "source": [
    "__(з)__ Воспользуемся для нашей задачи методом [PCA](https://ru.wikipedia.org/wiki/Метод_главных_компонент). Прочитайте про него подробнее и опишите основную идею."
   ]
  },
  {
   "cell_type": "code",
   "execution_count": null,
   "id": "db1b1c66",
   "metadata": {},
   "outputs": [],
   "source": [
    "#ответ"
   ]
  },
  {
   "cell_type": "markdown",
   "id": "35d55f20",
   "metadata": {},
   "source": [
    "Следующий код запускает PCA для нашего датасета. Убедитесь, что понимаете происходящие."
   ]
  },
  {
   "cell_type": "code",
   "execution_count": 16,
   "id": "d3a91111",
   "metadata": {},
   "outputs": [
    {
     "name": "stdout",
     "output_type": "stream",
     "text": [
      "[0.17005028 0.30175764 0.3954282  0.45782477 0.49763949 0.53565536\n",
      " 0.56808839 0.59620613 0.62329393 0.64530114]\n"
     ]
    }
   ],
   "source": [
    "from sklearn.decomposition import PCA\n",
    "\n",
    "pca = PCA(n_components=10)\n",
    "pca.fit(X_train)  #эта строчка будет работать только если есть матрица X_train\n",
    "print (pca.explained_variance_ratio_.cumsum())"
   ]
  },
  {
   "cell_type": "markdown",
   "id": "086cf178",
   "metadata": {},
   "source": [
    "Какое значение n_components разумно поставить? Для новой матрицы X_train повторите пункт ж). Измерьте время работы процесса обучения. Постройте график точности решения на тестовой выборке от времени работы для честного X_train и полученного с помощью PCA."
   ]
  },
  {
   "cell_type": "code",
   "execution_count": null,
   "id": "bc380da1",
   "metadata": {},
   "outputs": [],
   "source": []
  }
 ],
 "metadata": {
  "kernelspec": {
   "display_name": "Python 3",
   "language": "python",
   "name": "python3"
  },
  "language_info": {
   "codemirror_mode": {
    "name": "ipython",
    "version": 3
   },
   "file_extension": ".py",
   "mimetype": "text/x-python",
   "name": "python",
   "nbconvert_exporter": "python",
   "pygments_lexer": "ipython3",
   "version": "3.8.8"
  }
 },
 "nbformat": 4,
 "nbformat_minor": 5
}
